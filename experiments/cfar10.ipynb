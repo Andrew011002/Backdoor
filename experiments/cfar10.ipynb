{
 "cells": [
  {
   "cell_type": "code",
   "execution_count": 1,
   "metadata": {},
   "outputs": [
    {
     "name": "stderr",
     "output_type": "stream",
     "text": [
      "/home/andmholm/Backdoor/backdoor_env/lib/python3.8/site-packages/tqdm/auto.py:22: TqdmWarning: IProgress not found. Please update jupyter and ipywidgets. See https://ipywidgets.readthedocs.io/en/stable/user_install.html\n",
      "  from .autonotebook import tqdm as notebook_tqdm\n"
     ]
    }
   ],
   "source": [
    "import numpy as np\n",
    "import matplotlib.pyplot as plt\n",
    "import torch.nn as nn\n",
    "import torchvision\n",
    "import torch.optim as optim\n",
    "from datagen import *\n",
    "from nets import *\n",
    "from backdoor import Backdoor\n",
    "from defense import Defense\n",
    "\n",
    "device = torch.device('cuda' if torch.cuda.is_available() else 'cpu')"
   ]
  },
  {
   "cell_type": "markdown",
   "metadata": {},
   "source": [
    "### Choosing Network and Dataset"
   ]
  },
  {
   "cell_type": "code",
   "execution_count": 2,
   "metadata": {},
   "outputs": [
    {
     "name": "stdout",
     "output_type": "stream",
     "text": [
      "Files already downloaded and verified\n",
      "Files already downloaded and verified\n"
     ]
    }
   ],
   "source": [
    "backdoor = Backdoor(VggNet, config='16-layer', channels=3, classes=10, dropout=0.5)\n",
    "backdoor.create_models(optim.SGD, nn.CrossEntropyLoss, lr=0.01)\n",
    "backdoor.load_data(torchvision.datasets.CIFAR10, ImageEntity)"
   ]
  },
  {
   "cell_type": "markdown",
   "metadata": {},
   "source": [
    "### Poison setup"
   ]
  },
  {
   "cell_type": "code",
   "execution_count": 3,
   "metadata": {},
   "outputs": [],
   "source": [
    "patches = ImagePatch((9, 9), 3, 'random').get_patches(len(backdoor))\n",
    "targets = {i : i + 1 if i < 9 else 0 for i in range(10)}\n",
    "transforms = (None, [RotateTransform()], [LabelTransform(targets)])\n",
    "merge = ImageMerge(select=True)"
   ]
  },
  {
   "cell_type": "markdown",
   "metadata": {},
   "source": [
    "### Poisoning"
   ]
  },
  {
   "cell_type": "code",
   "execution_count": 4,
   "metadata": {},
   "outputs": [],
   "source": [
    "backdoor.poison(patches, transforms, merge, pct=0.2)"
   ]
  },
  {
   "cell_type": "markdown",
   "metadata": {},
   "source": [
    "### Training Base and Trojan Net"
   ]
  },
  {
   "cell_type": "code",
   "execution_count": 5,
   "metadata": {},
   "outputs": [
    {
     "name": "stdout",
     "output_type": "stream",
     "text": [
      "Training started\n",
      "Epoch 1/3 | 24.99% | Loss: 1.8107 | Samples trained: 12496/50000\n",
      "Epoch 1/3 | 49.98% | Loss: 1.6222 | Samples trained: 24992/50000\n",
      "Epoch 1/3 | 74.98% | Loss: 1.4881 | Samples trained: 37488/50000\n",
      "Epoch 1/3 | 99.97% | Loss: 1.3867 | Samples trained: 49984/50000\n",
      "Epoch 1 complete | Loss: 1.3869\n",
      "Epoch 2/3 | 24.99% | Loss: 0.9720 | Samples trained: 12496/50000\n",
      "Epoch 2/3 | 49.98% | Loss: 0.9355 | Samples trained: 24992/50000\n",
      "Epoch 2/3 | 74.98% | Loss: 0.8911 | Samples trained: 37488/50000\n",
      "Epoch 2/3 | 99.97% | Loss: 0.8545 | Samples trained: 49984/50000\n",
      "Epoch 2 complete | Loss: 0.8548\n",
      "Epoch 3/3 | 24.99% | Loss: 0.6817 | Samples trained: 12496/50000\n",
      "Epoch 3/3 | 49.98% | Loss: 0.6644 | Samples trained: 24992/50000\n",
      "Epoch 3/3 | 74.98% | Loss: 0.6438 | Samples trained: 37488/50000\n",
      "Epoch 3/3 | 99.97% | Loss: 0.6197 | Samples trained: 49984/50000\n",
      "Epoch 3 complete | Loss: 0.6199\n",
      "Training complete | Net Average Loss: 0.9539 | Total epochs: 3\n",
      "Training started\n",
      "Epoch 1/3 | 24.99% | Loss: 1.9581 | Samples trained: 12496/50000\n",
      "Epoch 1/3 | 49.98% | Loss: 1.7937 | Samples trained: 24992/50000\n",
      "Epoch 1/3 | 74.98% | Loss: 1.6732 | Samples trained: 37488/50000\n",
      "Epoch 1/3 | 99.97% | Loss: 1.5735 | Samples trained: 49984/50000\n",
      "Epoch 1 complete | Loss: 1.5736\n",
      "Epoch 2/3 | 24.99% | Loss: 1.1660 | Samples trained: 12496/50000\n",
      "Epoch 2/3 | 49.98% | Loss: 1.1293 | Samples trained: 24992/50000\n",
      "Epoch 2/3 | 74.98% | Loss: 1.0766 | Samples trained: 37488/50000\n",
      "Epoch 2/3 | 99.97% | Loss: 1.0312 | Samples trained: 49984/50000\n",
      "Epoch 2 complete | Loss: 1.0313\n",
      "Epoch 3/3 | 24.99% | Loss: 0.8326 | Samples trained: 12496/50000\n",
      "Epoch 3/3 | 49.98% | Loss: 0.8139 | Samples trained: 24992/50000\n",
      "Epoch 3/3 | 74.98% | Loss: 0.7855 | Samples trained: 37488/50000\n",
      "Epoch 3/3 | 99.97% | Loss: 0.7597 | Samples trained: 49984/50000\n",
      "Epoch 3 complete | Loss: 0.7598\n",
      "Training complete | Net Average Loss: 1.1216 | Total epochs: 3\n"
     ]
    },
    {
     "data": {
      "text/plain": [
       "(0.9538661183766524, 1.1215728756984076)"
      ]
     },
     "execution_count": 5,
     "metadata": {},
     "output_type": "execute_result"
    }
   ],
   "source": [
    "loss = backdoor.train(2, epochs=3, verbose=True, device=device, batch_size=16)"
   ]
  },
  {
   "cell_type": "markdown",
   "metadata": {},
   "source": [
    "### Evaluating Backdoor"
   ]
  },
  {
   "cell_type": "code",
   "execution_count": 6,
   "metadata": {},
   "outputs": [
    {
     "name": "stdout",
     "output_type": "stream",
     "text": [
      "Accuracy on Clean | Base 75.77% | Trojan 74.43% | Difference -1.34%\n",
      "Base Accuracy on Poison 3.71% | Attack Success Rate (ASR): 65.55%\n",
      "Average Tensor Distance: 300.15 | Net Tensor Difference 15007673.23\n"
     ]
    }
   ],
   "source": [
    "metrics = backdoor.eval(verbose=True, device=device)"
   ]
  },
  {
   "cell_type": "markdown",
   "metadata": {},
   "source": [
    "### Creating a Defense"
   ]
  },
  {
   "cell_type": "code",
   "execution_count": 7,
   "metadata": {},
   "outputs": [],
   "source": [
    "defense = Defense(backdoor)"
   ]
  },
  {
   "cell_type": "markdown",
   "metadata": {},
   "source": [
    "### Detection setup"
   ]
  },
  {
   "cell_type": "code",
   "execution_count": 8,
   "metadata": {},
   "outputs": [],
   "source": [
    "base, trojan = backdoor.get_net_modules()\n",
    "cleantrain, poisontrain, cleantest, poisontest = backdoor.get_datasets()\n",
    "patch_size_ranges = [(3, 3), (5, 5), (7, 7), (9, 9), (11, 11)]"
   ]
  },
  {
   "cell_type": "markdown",
   "metadata": {},
   "source": [
    "### Detection Base"
   ]
  },
  {
   "cell_type": "code",
   "execution_count": 9,
   "metadata": {},
   "outputs": [
    {
     "name": "stdout",
     "output_type": "stream",
     "text": [
      "Patch size (3, 3) | Synthetic Poison Accuracy 75.16% | Original Accuracy 75.77% | Difference -0.61%\n",
      "Patch size (5, 5) | Synthetic Poison Accuracy 74.88% | Original Accuracy 75.77% | Difference -0.89%\n",
      "Patch size (7, 7) | Synthetic Poison Accuracy 73.47% | Original Accuracy 75.77% | Difference -2.30%\n",
      "Patch size (9, 9) | Synthetic Poison Accuracy 72.85% | Original Accuracy 75.77% | Difference -2.92%\n",
      "Patch size (11, 11) | Synthetic Poison Accuracy 70.77% | Original Accuracy 75.77% | Difference -5.00%\n",
      "Average Accuracy 73.43% | Average Difference -2.34% | Lowest Score: 70.77% | Likihood of Backdoor: Low\n"
     ]
    }
   ],
   "source": [
    "metrics = defense.detect(base, cleantest, threshold=0.1, size_ranges=patch_size_ranges,  pct=0.3, verbose=True, device=device)"
   ]
  },
  {
   "cell_type": "markdown",
   "metadata": {},
   "source": [
    "### Detection Trojan"
   ]
  },
  {
   "cell_type": "code",
   "execution_count": 10,
   "metadata": {},
   "outputs": [
    {
     "name": "stdout",
     "output_type": "stream",
     "text": [
      "Patch size (3, 3) | Synthetic Poison Accuracy 73.88% | Original Accuracy 74.43% | Difference -0.55%\n",
      "Patch size (5, 5) | Synthetic Poison Accuracy 73.30% | Original Accuracy 74.43% | Difference -1.13%\n",
      "Patch size (7, 7) | Synthetic Poison Accuracy 64.24% | Original Accuracy 74.43% | Difference -10.19%\n",
      "Patch size (9, 9) | Synthetic Poison Accuracy 54.02% | Original Accuracy 74.43% | Difference -20.41%\n",
      "Patch size (11, 11) | Synthetic Poison Accuracy 53.29% | Original Accuracy 74.43% | Difference -21.14%\n",
      "Average Accuracy 63.75% | Average Difference -10.68% | Lowest Score: 53.29% | Likihood of Backdoor: High\n"
     ]
    }
   ],
   "source": [
    "metrics = defense.detect(trojan, cleantest, threshold=0.1, size_ranges=patch_size_ranges,  pct=0.3, verbose=True, device=device)"
   ]
  },
  {
   "cell_type": "markdown",
   "metadata": {},
   "source": [
    "### Blocking Patches setup"
   ]
  },
  {
   "cell_type": "code",
   "execution_count": 11,
   "metadata": {},
   "outputs": [],
   "source": [
    "labels = {i : i - 1 if i > 0 else 9 for i in range(10)}\n",
    "patch = ImagePatch((10, 10), 3, 'random')\n",
    "n = 5000"
   ]
  },
  {
   "cell_type": "markdown",
   "metadata": {},
   "source": [
    "### Blocking"
   ]
  },
  {
   "cell_type": "code",
   "execution_count": 12,
   "metadata": {},
   "outputs": [],
   "source": [
    "blockedloader = defense.block(poisontest, patch, labels, n)"
   ]
  },
  {
   "cell_type": "markdown",
   "metadata": {},
   "source": [
    "### Testing after Block Base"
   ]
  },
  {
   "cell_type": "code",
   "execution_count": 13,
   "metadata": {},
   "outputs": [
    {
     "name": "stdout",
     "output_type": "stream",
     "text": [
      "Testing started\n",
      "24.10% Testing complete | Loss: 1.2293 | Accuracy: 0.6000\n",
      "48.19% Testing complete | Loss: 1.2662 | Accuracy: 0.5969\n",
      "72.29% Testing complete | Loss: 1.2527 | Accuracy: 0.5995\n",
      "96.39% Testing complete | Loss: 1.2339 | Accuracy: 0.6082\n",
      "Testing complete | Loss: 1.2429 | Accuracy: 60.45%\n"
     ]
    }
   ],
   "source": [
    "metrics = defense.test(base, blockedloader, verbose=True, device=device)"
   ]
  },
  {
   "cell_type": "markdown",
   "metadata": {},
   "source": [
    "### Testing after Block Trojan"
   ]
  },
  {
   "cell_type": "code",
   "execution_count": 14,
   "metadata": {},
   "outputs": [
    {
     "name": "stdout",
     "output_type": "stream",
     "text": [
      "Testing started\n",
      "24.10% Testing complete | Loss: 2.8102 | Accuracy: 0.3703\n",
      "48.19% Testing complete | Loss: 2.9103 | Accuracy: 0.3445\n",
      "72.29% Testing complete | Loss: 2.8936 | Accuracy: 0.3438\n",
      "96.39% Testing complete | Loss: 2.9076 | Accuracy: 0.3434\n",
      "Testing complete | Loss: 2.9017 | Accuracy: 34.42%\n"
     ]
    }
   ],
   "source": [
    "metrics = defense.test(trojan, blockedloader, verbose=True, device=device)"
   ]
  },
  {
   "cell_type": "markdown",
   "metadata": {},
   "source": [
    "### Defense by retraining"
   ]
  },
  {
   "cell_type": "code",
   "execution_count": 15,
   "metadata": {},
   "outputs": [
    {
     "name": "stdout",
     "output_type": "stream",
     "text": [
      "Training started\n",
      "Epoch 1/3 | 24.95% | Loss: 0.7329 | Samples trained: 12480/50000\n",
      "Epoch 1/3 | 49.90% | Loss: 0.7219 | Samples trained: 24960/50000\n",
      "Epoch 1/3 | 74.86% | Loss: 0.7062 | Samples trained: 37440/50000\n",
      "Epoch 1/3 | 99.81% | Loss: 0.6718 | Samples trained: 49920/50000\n",
      "Epoch 1 complete | Loss: 0.6713\n",
      "Epoch 2/3 | 24.95% | Loss: 0.7393 | Samples trained: 12480/50000\n",
      "Epoch 2/3 | 49.90% | Loss: 0.7222 | Samples trained: 24960/50000\n",
      "Epoch 2/3 | 74.86% | Loss: 0.7068 | Samples trained: 37440/50000\n",
      "Epoch 2/3 | 99.81% | Loss: 0.6712 | Samples trained: 49920/50000\n",
      "Epoch 2 complete | Loss: 0.6707\n",
      "Epoch 3/3 | 24.95% | Loss: 0.7332 | Samples trained: 12480/50000\n",
      "Epoch 3/3 | 49.90% | Loss: 0.7194 | Samples trained: 24960/50000\n",
      "Epoch 3/3 | 74.86% | Loss: 0.7041 | Samples trained: 37440/50000\n",
      "Epoch 3/3 | 99.81% | Loss: 0.6695 | Samples trained: 49920/50000\n",
      "Epoch 3 complete | Loss: 0.6690\n",
      "Training complete | Net Average Loss: 0.6703 | Total epochs: 3\n"
     ]
    }
   ],
   "source": [
    "dataloader = cleantrain.get_dataloader()\n",
    "defense.reset()\n",
    "loss = defense.retrain(dataloader, epochs=3, verbose=True, device=device, batch_size=16)"
   ]
  },
  {
   "cell_type": "markdown",
   "metadata": {},
   "source": [
    "### Evaluation after retraining"
   ]
  },
  {
   "cell_type": "code",
   "execution_count": 16,
   "metadata": {},
   "outputs": [
    {
     "name": "stdout",
     "output_type": "stream",
     "text": [
      "Accuracy on clean | Base 75.77% | Trojan 74.43% | Defense 74.58%\n",
      "Accuracy on Posion | Base 3.71% | Defense 54.08% | Trojan ASR 65.55%\n",
      "Difference from Baseline | Trojan -1.34% | Defense -1.19%\n",
      "Defense Effectiveness | 11.47% decrease in ASR\n"
     ]
    }
   ],
   "source": [
    "cleanloader, poisonloader = cleantest.get_dataloader(), poisontest.get_dataloader()\n",
    "metrics = defense.eval(cleanloader, poisonloader, verbose=True, device=device)"
   ]
  },
  {
   "cell_type": "markdown",
   "metadata": {},
   "source": [
    "### Pruning setup"
   ]
  },
  {
   "cell_type": "code",
   "execution_count": 30,
   "metadata": {},
   "outputs": [],
   "source": [
    "defense.reset()\n",
    "layers = ['layers.28', 'layers.26', 'layers.24', 'fc1']\n",
    "amount = 0.7"
   ]
  },
  {
   "cell_type": "markdown",
   "metadata": {},
   "source": [
    "### Pruning based on l-Infinity norm of weights from layers"
   ]
  },
  {
   "cell_type": "code",
   "execution_count": 31,
   "metadata": {},
   "outputs": [],
   "source": [
    "defense.prune(layers, amount)"
   ]
  },
  {
   "cell_type": "markdown",
   "metadata": {},
   "source": [
    "### Evaluation after prune"
   ]
  },
  {
   "cell_type": "code",
   "execution_count": 32,
   "metadata": {},
   "outputs": [
    {
     "name": "stdout",
     "output_type": "stream",
     "text": [
      "Accuracy on clean | Base 75.77% | Trojan 74.43% | Defense 16.03%\n",
      "Accuracy on Posion | Base 3.71% | Defense 10.21% | Trojan ASR 65.55%\n",
      "Difference from Baseline | Trojan -1.34% | Defense -59.74%\n",
      "Defense Effectiveness | 55.34% decrease in ASR\n"
     ]
    }
   ],
   "source": [
    "metrics = defense.eval(cleanloader, poisonloader, verbose=True, device=device)"
   ]
  },
  {
   "cell_type": "markdown",
   "metadata": {},
   "source": [
    "### Retraining to recover"
   ]
  },
  {
   "cell_type": "code",
   "execution_count": 33,
   "metadata": {},
   "outputs": [
    {
     "name": "stdout",
     "output_type": "stream",
     "text": [
      "Training started\n",
      "Epoch 1/3 | 24.95% | Loss: 1.9777 | Samples trained: 12480/50000\n",
      "Epoch 1/3 | 49.90% | Loss: 1.9767 | Samples trained: 24960/50000\n",
      "Epoch 1/3 | 74.86% | Loss: 1.9752 | Samples trained: 37440/50000\n",
      "Epoch 1/3 | 99.81% | Loss: 1.9722 | Samples trained: 49920/50000\n",
      "Epoch 1 complete | Loss: 1.9722\n",
      "Epoch 2/3 | 24.95% | Loss: 1.9785 | Samples trained: 12480/50000\n",
      "Epoch 2/3 | 49.90% | Loss: 1.9772 | Samples trained: 24960/50000\n",
      "Epoch 2/3 | 74.86% | Loss: 1.9759 | Samples trained: 37440/50000\n",
      "Epoch 2/3 | 99.81% | Loss: 1.9725 | Samples trained: 49920/50000\n",
      "Epoch 2 complete | Loss: 1.9725\n",
      "Epoch 3/3 | 24.95% | Loss: 1.9804 | Samples trained: 12480/50000\n",
      "Epoch 3/3 | 49.90% | Loss: 1.9779 | Samples trained: 24960/50000\n",
      "Epoch 3/3 | 74.86% | Loss: 1.9763 | Samples trained: 37440/50000\n",
      "Epoch 3/3 | 99.81% | Loss: 1.9728 | Samples trained: 49920/50000\n",
      "Epoch 3 complete | Loss: 1.9728\n",
      "Training complete | Net Average Loss: 1.9725 | Total epochs: 3\n"
     ]
    }
   ],
   "source": [
    "loss = defense.retrain(dataloader, epochs=3, verbose=True, device=device, batch_size=16)"
   ]
  },
  {
   "cell_type": "markdown",
   "metadata": {},
   "source": [
    "### Evaluation after retraining"
   ]
  },
  {
   "cell_type": "code",
   "execution_count": 34,
   "metadata": {},
   "outputs": [
    {
     "name": "stdout",
     "output_type": "stream",
     "text": [
      "Accuracy on clean | Base 75.77% | Trojan 74.43% | Defense 54.71%\n",
      "Accuracy on Posion | Base 3.71% | Defense 28.71% | Trojan ASR 65.55%\n",
      "Difference from Baseline | Trojan -1.34% | Defense -21.06%\n",
      "Defense Effectiveness | 36.84% decrease in ASR\n"
     ]
    }
   ],
   "source": [
    "metrics = defense.eval(cleanloader, poisonloader, verbose=True, device=device)"
   ]
  }
 ],
 "metadata": {
  "kernelspec": {
   "display_name": "Python 3.8.10 ('backdoor_env': venv)",
   "language": "python",
   "name": "python3"
  },
  "language_info": {
   "codemirror_mode": {
    "name": "ipython",
    "version": 3
   },
   "file_extension": ".py",
   "mimetype": "text/x-python",
   "name": "python",
   "nbconvert_exporter": "python",
   "pygments_lexer": "ipython3",
   "version": "3.8.10"
  },
  "orig_nbformat": 4,
  "vscode": {
   "interpreter": {
    "hash": "91f5593089a39d29b7be4682cd00d4ab41e1e0aeef21da075bd20affb91499cc"
   }
  }
 },
 "nbformat": 4,
 "nbformat_minor": 2
}
