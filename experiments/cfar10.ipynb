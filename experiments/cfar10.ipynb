{
 "cells": [
  {
   "cell_type": "markdown",
   "metadata": {},
   "source": [
    "### CAFR10"
   ]
  },
  {
   "cell_type": "code",
   "execution_count": 1,
   "metadata": {},
   "outputs": [
    {
     "name": "stderr",
     "output_type": "stream",
     "text": [
      "/home/andmholm/Backdoor/backdoor_env/lib/python3.8/site-packages/tqdm/auto.py:22: TqdmWarning: IProgress not found. Please update jupyter and ipywidgets. See https://ipywidgets.readthedocs.io/en/stable/user_install.html\n",
      "  from .autonotebook import tqdm as notebook_tqdm\n"
     ]
    }
   ],
   "source": [
    "import numpy as np\n",
    "import matplotlib.pyplot as plt\n",
    "import torch.nn as nn\n",
    "import torchvision\n",
    "import torch.optim as optim\n",
    "from datagen import *\n",
    "from nets import *\n",
    "from backdoor import Backdoor\n",
    "from defense import Defense\n",
    "\n",
    "# move to GPU (if applicable)\n",
    "device = torch.device('cuda' if torch.cuda.is_available() else 'cpu')"
   ]
  },
  {
   "cell_type": "markdown",
   "metadata": {},
   "source": [
    "### Choosing Network and Dataset"
   ]
  },
  {
   "cell_type": "code",
   "execution_count": 2,
   "metadata": {},
   "outputs": [
    {
     "name": "stdout",
     "output_type": "stream",
     "text": [
      "Files already downloaded and verified\n",
      "Files already downloaded and verified\n"
     ]
    }
   ],
   "source": [
    "# choose network configuration and dataset\n",
    "backdoor = Backdoor(VggNet, config='16-layer', channels=3, classes=10, dropout=0.5)\n",
    "backdoor.create_models(optim.SGD, nn.CrossEntropyLoss, lr=0.01)\n",
    "backdoor.load_data(torchvision.datasets.CIFAR10, ImageEntity)"
   ]
  },
  {
   "cell_type": "markdown",
   "metadata": {},
   "source": [
    "### Poison setup"
   ]
  },
  {
   "cell_type": "code",
   "execution_count": 3,
   "metadata": {},
   "outputs": [],
   "source": [
    "# create patches, target labels, and define transformations/merges \n",
    "patches = ImagePatch((9, 9), 3, 'random').get_patches(len(backdoor))\n",
    "targets = {i : i + 1 if i < 9 else 0 for i in range(10)}\n",
    "transforms = (None, [RotateTransform()], [LabelTransform(targets)])\n",
    "merge = ImageMerge(select=True)"
   ]
  },
  {
   "cell_type": "markdown",
   "metadata": {},
   "source": [
    "### Poisoning"
   ]
  },
  {
   "cell_type": "code",
   "execution_count": 4,
   "metadata": {},
   "outputs": [],
   "source": [
    "# poison 20% of the data\n",
    "backdoor.poison(patches, transforms, merge, pct=0.2)"
   ]
  },
  {
   "cell_type": "markdown",
   "metadata": {},
   "source": [
    "### Training Base and Trojan Net"
   ]
  },
  {
   "cell_type": "code",
   "execution_count": 5,
   "metadata": {},
   "outputs": [
    {
     "name": "stdout",
     "output_type": "stream",
     "text": [
      "Training started\n",
      "Epoch 1/3 | 24.99% | Loss: 1.8071 | Samples trained: 12496/50000\n",
      "Epoch 1/3 | 49.98% | Loss: 1.6234 | Samples trained: 24992/50000\n",
      "Epoch 1/3 | 74.98% | Loss: 1.4989 | Samples trained: 37488/50000\n",
      "Epoch 1/3 | 99.97% | Loss: 1.4004 | Samples trained: 49984/50000\n",
      "Epoch 1 complete | Loss: 1.4006\n",
      "Epoch 2/3 | 24.99% | Loss: 0.9989 | Samples trained: 12496/50000\n",
      "Epoch 2/3 | 49.98% | Loss: 0.9544 | Samples trained: 24992/50000\n",
      "Epoch 2/3 | 74.98% | Loss: 0.9124 | Samples trained: 37488/50000\n",
      "Epoch 2/3 | 99.97% | Loss: 0.8750 | Samples trained: 49984/50000\n",
      "Epoch 2 complete | Loss: 0.8751\n",
      "Epoch 3/3 | 24.99% | Loss: 0.7028 | Samples trained: 12496/50000\n",
      "Epoch 3/3 | 49.98% | Loss: 0.6808 | Samples trained: 24992/50000\n",
      "Epoch 3/3 | 74.98% | Loss: 0.6546 | Samples trained: 37488/50000\n",
      "Epoch 3/3 | 99.97% | Loss: 0.6324 | Samples trained: 49984/50000\n",
      "Epoch 3 complete | Loss: 0.6325\n",
      "Training complete | Net Average Loss: 0.9694 | Total epochs: 3\n",
      "Training started\n",
      "Epoch 1/3 | 24.99% | Loss: 1.9569 | Samples trained: 12496/50000\n",
      "Epoch 1/3 | 49.98% | Loss: 1.7916 | Samples trained: 24992/50000\n",
      "Epoch 1/3 | 74.98% | Loss: 1.6712 | Samples trained: 37488/50000\n",
      "Epoch 1/3 | 99.97% | Loss: 1.5739 | Samples trained: 49984/50000\n",
      "Epoch 1 complete | Loss: 1.5740\n",
      "Epoch 2/3 | 24.99% | Loss: 1.1572 | Samples trained: 12496/50000\n",
      "Epoch 2/3 | 49.98% | Loss: 1.1136 | Samples trained: 24992/50000\n",
      "Epoch 2/3 | 74.98% | Loss: 1.0688 | Samples trained: 37488/50000\n",
      "Epoch 2/3 | 99.97% | Loss: 1.0269 | Samples trained: 49984/50000\n",
      "Epoch 2 complete | Loss: 1.0270\n",
      "Epoch 3/3 | 24.99% | Loss: 0.8388 | Samples trained: 12496/50000\n",
      "Epoch 3/3 | 49.98% | Loss: 0.8153 | Samples trained: 24992/50000\n",
      "Epoch 3/3 | 74.98% | Loss: 0.7882 | Samples trained: 37488/50000\n",
      "Epoch 3/3 | 99.97% | Loss: 0.7608 | Samples trained: 49984/50000\n",
      "Epoch 3 complete | Loss: 0.7610\n",
      "Training complete | Net Average Loss: 1.1207 | Total epochs: 3\n"
     ]
    }
   ],
   "source": [
    "# train the base DNN & the trojan DNN \n",
    "loss = backdoor.train(2, epochs=3, verbose=True, device=device, batch_size=16)"
   ]
  },
  {
   "cell_type": "markdown",
   "metadata": {},
   "source": [
    "### Evaluating Backdoor"
   ]
  },
  {
   "cell_type": "code",
   "execution_count": 6,
   "metadata": {},
   "outputs": [
    {
     "name": "stdout",
     "output_type": "stream",
     "text": [
      "Accuracy on Clean | Base 77.62% | Trojan 75.92% | Difference -1.70%\n",
      "Base Accuracy on Poison 3.32% | Attack Success Rate (ASR): 65.02%\n",
      "Average Tensor Distance: 305.93 | Net Tensor Difference 15296582.63\n"
     ]
    }
   ],
   "source": [
    "# evulate backdoor based on VA & ASR\n",
    "metrics = backdoor.eval(verbose=True, device=device)"
   ]
  },
  {
   "cell_type": "markdown",
   "metadata": {},
   "source": [
    "### Creating a Defense"
   ]
  },
  {
   "cell_type": "code",
   "execution_count": 7,
   "metadata": {},
   "outputs": [],
   "source": [
    "# init the defense\n",
    "defense = Defense(backdoor)"
   ]
  },
  {
   "cell_type": "markdown",
   "metadata": {},
   "source": [
    "### Detection setup"
   ]
  },
  {
   "cell_type": "code",
   "execution_count": 8,
   "metadata": {},
   "outputs": [],
   "source": [
    "# get base & trojan DNN, both clean & poisoned entitysets, sizes ranges to create synthetic patch\n",
    "base, trojan = backdoor.get_net_modules()\n",
    "cleantrain, poisontrain, cleantest, poisontest = backdoor.get_datasets()\n",
    "patch_size_ranges = [(3, 3), (5, 5), (7, 7), (9, 9), (11, 11)]"
   ]
  },
  {
   "cell_type": "markdown",
   "metadata": {},
   "source": [
    "### Detection Base"
   ]
  },
  {
   "cell_type": "code",
   "execution_count": 9,
   "metadata": {},
   "outputs": [
    {
     "name": "stdout",
     "output_type": "stream",
     "text": [
      "Patch size (3, 3) | Synthetic Poison Accuracy 77.25% | Original Accuracy 77.62% | Difference -0.37%\n",
      "Patch size (5, 5) | Synthetic Poison Accuracy 76.50% | Original Accuracy 77.62% | Difference -1.12%\n",
      "Patch size (7, 7) | Synthetic Poison Accuracy 75.59% | Original Accuracy 77.62% | Difference -2.03%\n",
      "Patch size (9, 9) | Synthetic Poison Accuracy 75.05% | Original Accuracy 77.62% | Difference -2.57%\n",
      "Patch size (11, 11) | Synthetic Poison Accuracy 72.75% | Original Accuracy 77.62% | Difference -4.87%\n",
      "Average Accuracy 75.43% | Average Difference -2.19% | Lowest Score: 72.75% | Likihood of Backdoor: Low\n"
     ]
    }
   ],
   "source": [
    "# detect backdoor with 30% of the clean samples poisoned and detect based on a 10% drop in VA for base DNN\n",
    "metrics = defense.detect(base, cleantest, threshold=0.1, size_ranges=patch_size_ranges,  pct=0.3, verbose=True, device=device)"
   ]
  },
  {
   "cell_type": "markdown",
   "metadata": {},
   "source": [
    "### Detection Trojan"
   ]
  },
  {
   "cell_type": "code",
   "execution_count": 10,
   "metadata": {},
   "outputs": [
    {
     "name": "stdout",
     "output_type": "stream",
     "text": [
      "Patch size (3, 3) | Synthetic Poison Accuracy 75.88% | Original Accuracy 75.92% | Difference -0.04%\n",
      "Patch size (5, 5) | Synthetic Poison Accuracy 75.27% | Original Accuracy 75.92% | Difference -0.65%\n",
      "Patch size (7, 7) | Synthetic Poison Accuracy 73.75% | Original Accuracy 75.92% | Difference -2.17%\n",
      "Patch size (9, 9) | Synthetic Poison Accuracy 66.09% | Original Accuracy 75.92% | Difference -9.83%\n",
      "Patch size (11, 11) | Synthetic Poison Accuracy 54.48% | Original Accuracy 75.92% | Difference -21.44%\n",
      "Average Accuracy 69.09% | Average Difference -6.83% | Lowest Score: 54.48% | Likihood of Backdoor: High\n"
     ]
    }
   ],
   "source": [
    "# detect backdoor with 30% of the clean samples poisoned and detect based on a 10% drop in VA for trojan DNN\n",
    "metrics = defense.detect(trojan, cleantest, threshold=0.1, size_ranges=patch_size_ranges,  pct=0.3, verbose=True, device=device)"
   ]
  },
  {
   "cell_type": "markdown",
   "metadata": {},
   "source": [
    "### Blocking Patches setup"
   ]
  },
  {
   "cell_type": "code",
   "execution_count": 11,
   "metadata": {},
   "outputs": [],
   "source": [
    "# reverse labels (for research VA purposes), create patch to compare variances with in parts of images (same size as patch), define samples to block\n",
    "labels = {i : i - 1 if i > 0 else 9 for i in range(10)}\n",
    "patch = ImagePatch((10, 10), 3, 'random')\n",
    "n = 5000"
   ]
  },
  {
   "cell_type": "markdown",
   "metadata": {},
   "source": [
    "### Blocking"
   ]
  },
  {
   "cell_type": "code",
   "execution_count": 12,
   "metadata": {},
   "outputs": [],
   "source": [
    "# block poisoned images with average rgb values the same dimensions as the patch\n",
    "blockedloader = defense.block(poisontest, patch, labels, n)"
   ]
  },
  {
   "cell_type": "markdown",
   "metadata": {},
   "source": [
    "### Testing after Block Base"
   ]
  },
  {
   "cell_type": "code",
   "execution_count": 13,
   "metadata": {},
   "outputs": [
    {
     "name": "stdout",
     "output_type": "stream",
     "text": [
      "Testing started\n",
      "24.72% Testing complete | Loss: 1.1140 | Accuracy: 0.6179\n",
      "49.44% Testing complete | Loss: 1.1390 | Accuracy: 0.6179\n",
      "74.16% Testing complete | Loss: 1.1456 | Accuracy: 0.6198\n",
      "98.88% Testing complete | Loss: 1.1340 | Accuracy: 0.6328\n",
      "Testing complete | Loss: 1.1298 | Accuracy: 63.48%\n"
     ]
    }
   ],
   "source": [
    "# retest after blocking for base DNN\n",
    "metrics = defense.test(base, blockedloader, verbose=True, device=device)"
   ]
  },
  {
   "cell_type": "markdown",
   "metadata": {},
   "source": [
    "### Testing after Block Trojan"
   ]
  },
  {
   "cell_type": "code",
   "execution_count": 14,
   "metadata": {},
   "outputs": [
    {
     "name": "stdout",
     "output_type": "stream",
     "text": [
      "Testing started\n",
      "24.72% Testing complete | Loss: 2.0480 | Accuracy: 0.4432\n",
      "49.44% Testing complete | Loss: 2.0900 | Accuracy: 0.4325\n",
      "74.16% Testing complete | Loss: 2.1359 | Accuracy: 0.4223\n",
      "98.88% Testing complete | Loss: 2.1421 | Accuracy: 0.4325\n",
      "Testing complete | Loss: 2.1377 | Accuracy: 43.43%\n"
     ]
    }
   ],
   "source": [
    "# retest after blocking for trojan DNN\n",
    "metrics = defense.test(trojan, blockedloader, verbose=True, device=device)"
   ]
  },
  {
   "cell_type": "markdown",
   "metadata": {},
   "source": [
    "### Defense by retraining"
   ]
  },
  {
   "cell_type": "code",
   "execution_count": 17,
   "metadata": {},
   "outputs": [
    {
     "name": "stdout",
     "output_type": "stream",
     "text": [
      "Training started\n",
      "Epoch 1/3 | 24.95% | Loss: 0.6534 | Samples trained: 12480/50000\n",
      "Epoch 1/3 | 49.90% | Loss: 0.6448 | Samples trained: 24960/50000\n",
      "Epoch 1/3 | 74.86% | Loss: 0.6308 | Samples trained: 37440/50000\n",
      "Epoch 1/3 | 99.81% | Loss: 0.5981 | Samples trained: 49920/50000\n",
      "Epoch 1 complete | Loss: 0.5976\n",
      "Epoch 2/3 | 24.95% | Loss: 0.6508 | Samples trained: 12480/50000\n",
      "Epoch 2/3 | 49.90% | Loss: 0.6457 | Samples trained: 24960/50000\n",
      "Epoch 2/3 | 74.86% | Loss: 0.6305 | Samples trained: 37440/50000\n",
      "Epoch 2/3 | 99.81% | Loss: 0.5977 | Samples trained: 49920/50000\n",
      "Epoch 2 complete | Loss: 0.5972\n",
      "Epoch 3/3 | 24.95% | Loss: 0.6536 | Samples trained: 12480/50000\n",
      "Epoch 3/3 | 49.90% | Loss: 0.6468 | Samples trained: 24960/50000\n",
      "Epoch 3/3 | 74.86% | Loss: 0.6311 | Samples trained: 37440/50000\n",
      "Epoch 3/3 | 99.81% | Loss: 0.5968 | Samples trained: 49920/50000\n",
      "Epoch 3 complete | Loss: 0.5963\n",
      "Training complete | Net Average Loss: 0.5970 | Total epochs: 3\n"
     ]
    }
   ],
   "source": [
    "# get a clean dataloader, reset the defense net module, retrain the defense net model (og trojan model)\n",
    "dataloader = cleantrain.get_dataloader()\n",
    "defense.reset()\n",
    "loss = defense.retrain(dataloader, epochs=3, verbose=True, device=device, batch_size=16)"
   ]
  },
  {
   "cell_type": "markdown",
   "metadata": {},
   "source": [
    "### Evaluation after retraining"
   ]
  },
  {
   "cell_type": "code",
   "execution_count": 18,
   "metadata": {},
   "outputs": [
    {
     "name": "stdout",
     "output_type": "stream",
     "text": [
      "Accuracy on clean | Base 77.62% | Trojan 75.92% | Defense 74.86%\n",
      "Accuracy on Posion | Base 3.32% | Defense 60.07% | Trojan ASR 65.02%\n",
      "Difference from Baseline | Trojan -1.70% | Defense -2.76%\n",
      "Defense Effectiveness | 4.95% decrease in ASR\n"
     ]
    }
   ],
   "source": [
    "# re-evaluate the trojan DNN\n",
    "cleanloader, poisonloader = cleantest.get_dataloader(), poisontest.get_dataloader()\n",
    "metrics = defense.eval(cleanloader, poisonloader, verbose=True, device=device)"
   ]
  },
  {
   "cell_type": "code",
   "execution_count": null,
   "metadata": {},
   "outputs": [],
   "source": [
    "defense.view_named_modules()"
   ]
  },
  {
   "cell_type": "markdown",
   "metadata": {},
   "source": [
    "### Pruning setup"
   ]
  },
  {
   "cell_type": "code",
   "execution_count": 20,
   "metadata": {},
   "outputs": [],
   "source": [
    "# determine layers to prune, decide percent of neurons to prune, reset the defense (original trojan DNN)\n",
    "layers = ['layers.28', 'layers.26', 'layers.24', 'layers.21']\n",
    "amount = 0.5\n",
    "defense.reset()"
   ]
  },
  {
   "cell_type": "markdown",
   "metadata": {},
   "source": [
    "### Pruning based on l-Infinity norm of weights from layers"
   ]
  },
  {
   "cell_type": "code",
   "execution_count": 21,
   "metadata": {},
   "outputs": [],
   "source": [
    "# prune 50% the weights of last 4 convolutional layers based on the l-Infinity norm\n",
    "defense.prune(layers, amount)"
   ]
  },
  {
   "cell_type": "markdown",
   "metadata": {},
   "source": [
    "### Evaluation after prune"
   ]
  },
  {
   "cell_type": "code",
   "execution_count": 22,
   "metadata": {},
   "outputs": [
    {
     "name": "stdout",
     "output_type": "stream",
     "text": [
      "Accuracy on clean | Base 77.62% | Trojan 75.92% | Defense 15.84%\n",
      "Accuracy on Posion | Base 3.32% | Defense 13.59% | Trojan ASR 65.02%\n",
      "Difference from Baseline | Trojan -1.70% | Defense -61.78%\n",
      "Defense Effectiveness | 51.43% decrease in ASR\n"
     ]
    }
   ],
   "source": [
    "# evaluate the model after pruning\n",
    "metrics = defense.eval(cleanloader, poisonloader, verbose=True, device=device)"
   ]
  },
  {
   "cell_type": "markdown",
   "metadata": {},
   "source": [
    "### Retraining to recover"
   ]
  },
  {
   "cell_type": "code",
   "execution_count": 23,
   "metadata": {},
   "outputs": [
    {
     "name": "stdout",
     "output_type": "stream",
     "text": [
      "Training started\n",
      "Epoch 1/3 | 24.95% | Loss: 1.5157 | Samples trained: 12480/50000\n",
      "Epoch 1/3 | 49.90% | Loss: 1.5131 | Samples trained: 24960/50000\n",
      "Epoch 1/3 | 74.86% | Loss: 1.5112 | Samples trained: 37440/50000\n",
      "Epoch 1/3 | 99.81% | Loss: 1.5020 | Samples trained: 49920/50000\n",
      "Epoch 1 complete | Loss: 1.5018\n",
      "Epoch 2/3 | 24.95% | Loss: 1.5133 | Samples trained: 12480/50000\n",
      "Epoch 2/3 | 49.90% | Loss: 1.5119 | Samples trained: 24960/50000\n",
      "Epoch 2/3 | 74.86% | Loss: 1.5102 | Samples trained: 37440/50000\n",
      "Epoch 2/3 | 99.81% | Loss: 1.5010 | Samples trained: 49920/50000\n",
      "Epoch 2 complete | Loss: 1.5011\n",
      "Epoch 3/3 | 24.95% | Loss: 1.5174 | Samples trained: 12480/50000\n",
      "Epoch 3/3 | 49.90% | Loss: 1.5148 | Samples trained: 24960/50000\n",
      "Epoch 3/3 | 74.86% | Loss: 1.5099 | Samples trained: 37440/50000\n",
      "Epoch 3/3 | 99.81% | Loss: 1.5014 | Samples trained: 49920/50000\n",
      "Epoch 3 complete | Loss: 1.5013\n",
      "Training complete | Net Average Loss: 1.5014 | Total epochs: 3\n"
     ]
    }
   ],
   "source": [
    "# retrain to recover\n",
    "loss = defense.retrain(dataloader, epochs=3, verbose=True, device=device, batch_size=16)"
   ]
  },
  {
   "cell_type": "markdown",
   "metadata": {},
   "source": [
    "### Evaluation after retraining"
   ]
  },
  {
   "cell_type": "code",
   "execution_count": 24,
   "metadata": {},
   "outputs": [
    {
     "name": "stdout",
     "output_type": "stream",
     "text": [
      "Accuracy on clean | Base 77.62% | Trojan 75.92% | Defense 65.45%\n",
      "Accuracy on Posion | Base 3.32% | Defense 34.55% | Trojan ASR 65.02%\n",
      "Difference from Baseline | Trojan -1.70% | Defense -12.17%\n",
      "Defense Effectiveness | 30.47% decrease in ASR\n"
     ]
    }
   ],
   "source": [
    "metrics = defense.eval(cleanloader, poisonloader, verbose=True, device=device)"
   ]
  }
 ],
 "metadata": {
  "kernelspec": {
   "display_name": "Python 3.8.10 ('backdoor_env': venv)",
   "language": "python",
   "name": "python3"
  },
  "language_info": {
   "codemirror_mode": {
    "name": "ipython",
    "version": 3
   },
   "file_extension": ".py",
   "mimetype": "text/x-python",
   "name": "python",
   "nbconvert_exporter": "python",
   "pygments_lexer": "ipython3",
   "version": "3.8.10"
  },
  "orig_nbformat": 4,
  "vscode": {
   "interpreter": {
    "hash": "91f5593089a39d29b7be4682cd00d4ab41e1e0aeef21da075bd20affb91499cc"
   }
  }
 },
 "nbformat": 4,
 "nbformat_minor": 2
}
