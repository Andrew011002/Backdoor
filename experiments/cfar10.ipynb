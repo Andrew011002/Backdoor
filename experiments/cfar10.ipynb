{
 "cells": [
  {
   "cell_type": "markdown",
   "metadata": {},
   "source": [
    "### CAFR10"
   ]
  },
  {
   "cell_type": "code",
   "execution_count": 1,
   "metadata": {},
   "outputs": [
    {
     "name": "stderr",
     "output_type": "stream",
     "text": [
      "/home/andmholm/Backdoor/backdoor_env/lib/python3.8/site-packages/tqdm/auto.py:22: TqdmWarning: IProgress not found. Please update jupyter and ipywidgets. See https://ipywidgets.readthedocs.io/en/stable/user_install.html\n",
      "  from .autonotebook import tqdm as notebook_tqdm\n"
     ]
    }
   ],
   "source": [
    "import numpy as np\n",
    "import matplotlib.pyplot as plt\n",
    "import torch.nn as nn\n",
    "import torchvision\n",
    "import torch.optim as optim\n",
    "from datagen import *\n",
    "from nets import *\n",
    "from backdoor import Backdoor\n",
    "from defense import Defense\n",
    "\n",
    "# move to GPU (if applicable)\n",
    "device = torch.device('cuda' if torch.cuda.is_available() else 'cpu')"
   ]
  },
  {
   "cell_type": "markdown",
   "metadata": {},
   "source": [
    "### Choosing Network and Dataset"
   ]
  },
  {
   "cell_type": "code",
   "execution_count": 2,
   "metadata": {},
   "outputs": [
    {
     "name": "stdout",
     "output_type": "stream",
     "text": [
      "Files already downloaded and verified\n",
      "Files already downloaded and verified\n"
     ]
    }
   ],
   "source": [
    "# choose network configuration and dataset\n",
    "backdoor = Backdoor(VggNet, config='16-layer', channels=3, classes=10, dropout=0.5)\n",
    "backdoor.create_models(optim.SGD, nn.CrossEntropyLoss, lr=0.01)\n",
    "backdoor.load_data(torchvision.datasets.CIFAR10, ImageEntity)"
   ]
  },
  {
   "cell_type": "markdown",
   "metadata": {},
   "source": [
    "### Poison setup"
   ]
  },
  {
   "cell_type": "code",
   "execution_count": 3,
   "metadata": {},
   "outputs": [],
   "source": [
    "# create patches, target labels, and define transformations/merges \n",
    "patches = ImagePatch((9, 9), 3, 'random').get_patches(len(backdoor))\n",
    "targets = {i : i + 1 if i < 9 else 0 for i in range(10)}\n",
    "transforms = (None, [RotateTransform()], [LabelTransform(targets)])\n",
    "merge = ImageMerge(select=True)"
   ]
  },
  {
   "cell_type": "markdown",
   "metadata": {},
   "source": [
    "### Poisoning"
   ]
  },
  {
   "cell_type": "code",
   "execution_count": 4,
   "metadata": {},
   "outputs": [],
   "source": [
    "# poison 20% of the data\n",
    "backdoor.poison(patches, transforms, merge, pct=0.2)"
   ]
  },
  {
   "cell_type": "markdown",
   "metadata": {},
   "source": [
    "### Training Base and Trojan Net"
   ]
  },
  {
   "cell_type": "code",
   "execution_count": 5,
   "metadata": {},
   "outputs": [
    {
     "name": "stdout",
     "output_type": "stream",
     "text": [
      "Training started\n",
      "Epoch 1/3 | 24.99% | Loss: 1.8116 | Samples trained: 12496/50000\n",
      "Epoch 1/3 | 49.98% | Loss: 1.6237 | Samples trained: 24992/50000\n",
      "Epoch 1/3 | 74.98% | Loss: 1.4911 | Samples trained: 37488/50000\n",
      "Epoch 1/3 | 99.97% | Loss: 1.3895 | Samples trained: 49984/50000\n",
      "Epoch 1 complete | Loss: 1.3897\n",
      "Epoch 2/3 | 24.99% | Loss: 0.9699 | Samples trained: 12496/50000\n",
      "Epoch 2/3 | 49.98% | Loss: 0.9351 | Samples trained: 24992/50000\n",
      "Epoch 2/3 | 74.98% | Loss: 0.8919 | Samples trained: 37488/50000\n",
      "Epoch 2/3 | 99.97% | Loss: 0.8551 | Samples trained: 49984/50000\n",
      "Epoch 2 complete | Loss: 0.8550\n",
      "Epoch 3/3 | 24.99% | Loss: 0.6927 | Samples trained: 12496/50000\n",
      "Epoch 3/3 | 49.98% | Loss: 0.6704 | Samples trained: 24992/50000\n",
      "Epoch 3/3 | 74.98% | Loss: 0.6453 | Samples trained: 37488/50000\n",
      "Epoch 3/3 | 99.97% | Loss: 0.6219 | Samples trained: 49984/50000\n",
      "Epoch 3 complete | Loss: 0.6219\n",
      "Training complete | Net Average Loss: 0.9555 | Total epochs: 3\n",
      "Training started\n",
      "Epoch 1/3 | 24.99% | Loss: 1.9551 | Samples trained: 12496/50000\n",
      "Epoch 1/3 | 49.98% | Loss: 1.7879 | Samples trained: 24992/50000\n",
      "Epoch 1/3 | 74.98% | Loss: 1.6725 | Samples trained: 37488/50000\n",
      "Epoch 1/3 | 99.97% | Loss: 1.5728 | Samples trained: 49984/50000\n",
      "Epoch 1 complete | Loss: 1.5730\n",
      "Epoch 2/3 | 24.99% | Loss: 1.1623 | Samples trained: 12496/50000\n",
      "Epoch 2/3 | 49.98% | Loss: 1.1168 | Samples trained: 24992/50000\n",
      "Epoch 2/3 | 74.98% | Loss: 1.0682 | Samples trained: 37488/50000\n",
      "Epoch 2/3 | 99.97% | Loss: 1.0276 | Samples trained: 49984/50000\n",
      "Epoch 2 complete | Loss: 1.0277\n",
      "Epoch 3/3 | 24.99% | Loss: 0.8283 | Samples trained: 12496/50000\n",
      "Epoch 3/3 | 49.98% | Loss: 0.8071 | Samples trained: 24992/50000\n",
      "Epoch 3/3 | 74.98% | Loss: 0.7811 | Samples trained: 37488/50000\n",
      "Epoch 3/3 | 99.97% | Loss: 0.7573 | Samples trained: 49984/50000\n",
      "Epoch 3 complete | Loss: 0.7574\n",
      "Training complete | Net Average Loss: 1.1194 | Total epochs: 3\n"
     ]
    }
   ],
   "source": [
    "# train the base DNN & the trojan DNN \n",
    "loss = backdoor.train(2, epochs=3, verbose=True, device=device, batch_size=16)"
   ]
  },
  {
   "cell_type": "markdown",
   "metadata": {},
   "source": [
    "### Evaluating Backdoor"
   ]
  },
  {
   "cell_type": "code",
   "execution_count": 6,
   "metadata": {},
   "outputs": [
    {
     "name": "stdout",
     "output_type": "stream",
     "text": [
      "Accuracy on Clean | Base 77.45% | Trojan 74.80% | Difference -2.65%\n",
      "Base Accuracy on Poison 4.21% | Attack Success Rate (ASR): 66.72%\n",
      "Average Tensor Distance: 309.48 | Net Tensor Difference 15473881.31\n"
     ]
    }
   ],
   "source": [
    "# evulate backdoor based on VA & ASR\n",
    "metrics = backdoor.eval(verbose=True, device=device)"
   ]
  },
  {
   "cell_type": "markdown",
   "metadata": {},
   "source": [
    "### Creating a Defense"
   ]
  },
  {
   "cell_type": "code",
   "execution_count": 7,
   "metadata": {},
   "outputs": [],
   "source": [
    "# init the defense\n",
    "defense = Defense(backdoor)"
   ]
  },
  {
   "cell_type": "markdown",
   "metadata": {},
   "source": [
    "### Detection setup"
   ]
  },
  {
   "cell_type": "code",
   "execution_count": 8,
   "metadata": {},
   "outputs": [],
   "source": [
    "# get base & trojan DNN, both clean & poisoned entitysets, sizes ranges to create synthetic patch\n",
    "base, trojan = backdoor.get_net_modules()\n",
    "cleantrain, poisontrain, cleantest, poisontest = backdoor.get_datasets()\n",
    "patch_size_ranges = [(3, 3), (5, 5), (7, 7), (9, 9), (11, 11)]"
   ]
  },
  {
   "cell_type": "markdown",
   "metadata": {},
   "source": [
    "### Detection Base"
   ]
  },
  {
   "cell_type": "code",
   "execution_count": 9,
   "metadata": {},
   "outputs": [
    {
     "name": "stdout",
     "output_type": "stream",
     "text": [
      "Patch size (3, 3) | Synthetic Poison Accuracy 77.17% | Original Accuracy 77.45% | Difference -0.28%\n",
      "Patch size (5, 5) | Synthetic Poison Accuracy 76.47% | Original Accuracy 77.45% | Difference -0.98%\n",
      "Patch size (7, 7) | Synthetic Poison Accuracy 75.70% | Original Accuracy 77.45% | Difference -1.75%\n",
      "Patch size (9, 9) | Synthetic Poison Accuracy 74.96% | Original Accuracy 77.45% | Difference -2.49%\n",
      "Patch size (11, 11) | Synthetic Poison Accuracy 72.66% | Original Accuracy 77.45% | Difference -4.79%\n",
      "Average Accuracy 75.39% | Average Difference -2.06% | Lowest Score: 72.66% | Likihood of Backdoor: Low\n"
     ]
    }
   ],
   "source": [
    "# detect backdoor with 30% of the clean samples poisoned and detect based on a 10% drop in VA for base DNN\n",
    "metrics = defense.detect(base, cleantest, threshold=0.1, size_ranges=patch_size_ranges,  pct=0.3, verbose=True, device=device)"
   ]
  },
  {
   "cell_type": "markdown",
   "metadata": {},
   "source": [
    "### Detection Trojan"
   ]
  },
  {
   "cell_type": "code",
   "execution_count": 10,
   "metadata": {},
   "outputs": [
    {
     "name": "stdout",
     "output_type": "stream",
     "text": [
      "Patch size (3, 3) | Synthetic Poison Accuracy 74.66% | Original Accuracy 74.80% | Difference -0.14%\n",
      "Patch size (5, 5) | Synthetic Poison Accuracy 73.63% | Original Accuracy 74.80% | Difference -1.17%\n",
      "Patch size (7, 7) | Synthetic Poison Accuracy 60.37% | Original Accuracy 74.80% | Difference -14.43%\n",
      "Patch size (9, 9) | Synthetic Poison Accuracy 56.04% | Original Accuracy 74.80% | Difference -18.76%\n",
      "Patch size (11, 11) | Synthetic Poison Accuracy 53.40% | Original Accuracy 74.80% | Difference -21.40%\n",
      "Average Accuracy 63.62% | Average Difference -11.18% | Lowest Score: 53.40% | Likihood of Backdoor: High\n"
     ]
    }
   ],
   "source": [
    "# detect backdoor with 30% of the clean samples poisoned and detect based on a 10% drop in VA for trojan DNN\n",
    "metrics = defense.detect(trojan, cleantest, threshold=0.1, size_ranges=patch_size_ranges,  pct=0.3, verbose=True, device=device)"
   ]
  },
  {
   "cell_type": "markdown",
   "metadata": {},
   "source": [
    "### Blocking Patches setup"
   ]
  },
  {
   "cell_type": "code",
   "execution_count": 11,
   "metadata": {},
   "outputs": [],
   "source": [
    "# reverse labels (for research VA purposes), create patch to compare variances with in parts of images (same size as patch), define samples to block\n",
    "patch = ImagePatch((10, 10), 3, 'random')\n",
    "n = 5000"
   ]
  },
  {
   "cell_type": "markdown",
   "metadata": {},
   "source": [
    "### Blocking"
   ]
  },
  {
   "cell_type": "code",
   "execution_count": 12,
   "metadata": {},
   "outputs": [],
   "source": [
    "# block poisoned images with average rgb values the same dimensions as the patch\n",
    "blockedloader = defense.block(poisontest, patch, n=n)"
   ]
  },
  {
   "cell_type": "markdown",
   "metadata": {},
   "source": [
    "### Testing after Block Base"
   ]
  },
  {
   "cell_type": "code",
   "execution_count": 13,
   "metadata": {},
   "outputs": [
    {
     "name": "stdout",
     "output_type": "stream",
     "text": [
      "Testing started\n",
      "24.46% Testing complete | Loss: 6.0120 | Accuracy: 0.0312\n",
      "48.92% Testing complete | Loss: 5.9516 | Accuracy: 0.0363\n",
      "73.38% Testing complete | Loss: 5.9648 | Accuracy: 0.0325\n",
      "97.84% Testing complete | Loss: 5.9878 | Accuracy: 0.0352\n",
      "Testing complete | Loss: 5.9882 | Accuracy: 3.56%\n"
     ]
    }
   ],
   "source": [
    "# retest after blocking for base DNN\n",
    "metrics = defense.test(base, blockedloader, verbose=True, device=device)"
   ]
  },
  {
   "cell_type": "markdown",
   "metadata": {},
   "source": [
    "### Testing after Block Trojan"
   ]
  },
  {
   "cell_type": "code",
   "execution_count": 14,
   "metadata": {},
   "outputs": [
    {
     "name": "stdout",
     "output_type": "stream",
     "text": [
      "Testing started\n",
      "24.46% Testing complete | Loss: 4.5737 | Accuracy: 0.1608\n",
      "48.92% Testing complete | Loss: 4.5439 | Accuracy: 0.1613\n",
      "73.38% Testing complete | Loss: 4.4793 | Accuracy: 0.1688\n",
      "97.84% Testing complete | Loss: 4.4875 | Accuracy: 0.1712\n",
      "Testing complete | Loss: 4.4897 | Accuracy: 17.10%\n"
     ]
    }
   ],
   "source": [
    "# retest after blocking for trojan DNN\n",
    "metrics = defense.test(trojan, blockedloader, verbose=True, device=device)"
   ]
  },
  {
   "cell_type": "markdown",
   "metadata": {},
   "source": [
    "### Defense by retraining"
   ]
  },
  {
   "cell_type": "code",
   "execution_count": 15,
   "metadata": {},
   "outputs": [
    {
     "name": "stdout",
     "output_type": "stream",
     "text": [
      "Training started\n",
      "Epoch 1/3 | 24.95% | Loss: 0.8478 | Samples trained: 12480/50000\n",
      "Epoch 1/3 | 49.90% | Loss: 0.8428 | Samples trained: 24960/50000\n",
      "Epoch 1/3 | 74.86% | Loss: 0.8284 | Samples trained: 37440/50000\n",
      "Epoch 1/3 | 99.81% | Loss: 0.7874 | Samples trained: 49920/50000\n",
      "Epoch 1 complete | Loss: 0.7870\n",
      "Epoch 2/3 | 24.95% | Loss: 0.8464 | Samples trained: 12480/50000\n",
      "Epoch 2/3 | 49.90% | Loss: 0.8386 | Samples trained: 24960/50000\n",
      "Epoch 2/3 | 74.86% | Loss: 0.8231 | Samples trained: 37440/50000\n",
      "Epoch 2/3 | 99.81% | Loss: 0.7831 | Samples trained: 49920/50000\n",
      "Epoch 2 complete | Loss: 0.7828\n",
      "Epoch 3/3 | 24.95% | Loss: 0.8508 | Samples trained: 12480/50000\n",
      "Epoch 3/3 | 49.90% | Loss: 0.8415 | Samples trained: 24960/50000\n",
      "Epoch 3/3 | 74.86% | Loss: 0.8246 | Samples trained: 37440/50000\n",
      "Epoch 3/3 | 99.81% | Loss: 0.7851 | Samples trained: 49920/50000\n",
      "Epoch 3 complete | Loss: 0.7848\n",
      "Training complete | Net Average Loss: 0.7849 | Total epochs: 3\n"
     ]
    }
   ],
   "source": [
    "# get a clean dataloader, reset the defense net module, retrain the defense net model (og trojan model)\n",
    "dataloader = cleantrain.get_dataloader()\n",
    "defense.reset()\n",
    "loss = defense.retrain(dataloader, epochs=3, verbose=True, device=device, batch_size=16)"
   ]
  },
  {
   "cell_type": "markdown",
   "metadata": {},
   "source": [
    "### Evaluation after retraining"
   ]
  },
  {
   "cell_type": "code",
   "execution_count": 16,
   "metadata": {},
   "outputs": [
    {
     "name": "stdout",
     "output_type": "stream",
     "text": [
      "Accuracy on clean | Base 77.45% | Trojan 74.80% | Defense 69.93%\n",
      "Accuracy on Posion | Base 4.21% | Defense 40.37% | Trojan ASR 66.72%\n",
      "Difference from Baseline | Trojan -2.65% | Defense -7.52%\n",
      "Defense Effectiveness | 26.35% decrease in ASR\n"
     ]
    }
   ],
   "source": [
    "# re-evaluate the trojan DNN\n",
    "cleanloader, poisonloader = cleantest.get_dataloader(), poisontest.get_dataloader()\n",
    "metrics = defense.eval(cleanloader, poisonloader, verbose=True, device=device)"
   ]
  },
  {
   "cell_type": "code",
   "execution_count": 17,
   "metadata": {},
   "outputs": [
    {
     "name": "stdout",
     "output_type": "stream",
     "text": [
      "avgpool: AdaptiveAvgPool2d(output_size=(7, 7))\n",
      "drop: Dropout(p=0.5, inplace=False)\n",
      "fc1: Linear(in_features=25088, out_features=4096, bias=True)\n",
      "fc2: Linear(in_features=4096, out_features=4096, bias=True)\n",
      "fc3: Linear(in_features=4096, out_features=10, bias=True)\n",
      "layers: Sequential(\n",
      "  (0): Conv2d(3, 64, kernel_size=(3, 3), stride=(1, 1), padding=(1, 1))\n",
      "  (1): BatchNorm2d(64, eps=1e-05, momentum=0.1, affine=True, track_running_stats=True)\n",
      "  (2): Conv2d(64, 64, kernel_size=(3, 3), stride=(1, 1), padding=(1, 1))\n",
      "  (3): BatchNorm2d(64, eps=1e-05, momentum=0.1, affine=True, track_running_stats=True)\n",
      "  (4): MaxPool2d(kernel_size=(2, 2), stride=2, padding=1, dilation=1, ceil_mode=False)\n",
      "  (5): Conv2d(64, 128, kernel_size=(3, 3), stride=(1, 1), padding=(1, 1))\n",
      "  (6): BatchNorm2d(128, eps=1e-05, momentum=0.1, affine=True, track_running_stats=True)\n",
      "  (7): Conv2d(128, 128, kernel_size=(3, 3), stride=(1, 1), padding=(1, 1))\n",
      "  (8): BatchNorm2d(128, eps=1e-05, momentum=0.1, affine=True, track_running_stats=True)\n",
      "  (9): MaxPool2d(kernel_size=(2, 2), stride=2, padding=1, dilation=1, ceil_mode=False)\n",
      "  (10): Conv2d(128, 256, kernel_size=(3, 3), stride=(1, 1), padding=(1, 1))\n",
      "  (11): BatchNorm2d(256, eps=1e-05, momentum=0.1, affine=True, track_running_stats=True)\n",
      "  (12): Conv2d(256, 256, kernel_size=(3, 3), stride=(1, 1), padding=(1, 1))\n",
      "  (13): BatchNorm2d(256, eps=1e-05, momentum=0.1, affine=True, track_running_stats=True)\n",
      "  (14): Conv2d(256, 256, kernel_size=(3, 3), stride=(1, 1), padding=(1, 1))\n",
      "  (15): BatchNorm2d(256, eps=1e-05, momentum=0.1, affine=True, track_running_stats=True)\n",
      "  (16): MaxPool2d(kernel_size=(2, 2), stride=2, padding=1, dilation=1, ceil_mode=False)\n",
      "  (17): Conv2d(256, 512, kernel_size=(3, 3), stride=(1, 1), padding=(1, 1))\n",
      "  (18): BatchNorm2d(512, eps=1e-05, momentum=0.1, affine=True, track_running_stats=True)\n",
      "  (19): Conv2d(512, 512, kernel_size=(3, 3), stride=(1, 1), padding=(1, 1))\n",
      "  (20): BatchNorm2d(512, eps=1e-05, momentum=0.1, affine=True, track_running_stats=True)\n",
      "  (21): Conv2d(512, 512, kernel_size=(3, 3), stride=(1, 1), padding=(1, 1))\n",
      "  (22): BatchNorm2d(512, eps=1e-05, momentum=0.1, affine=True, track_running_stats=True)\n",
      "  (23): MaxPool2d(kernel_size=(2, 2), stride=2, padding=1, dilation=1, ceil_mode=False)\n",
      "  (24): Conv2d(512, 512, kernel_size=(3, 3), stride=(1, 1), padding=(1, 1))\n",
      "  (25): BatchNorm2d(512, eps=1e-05, momentum=0.1, affine=True, track_running_stats=True)\n",
      "  (26): Conv2d(512, 512, kernel_size=(3, 3), stride=(1, 1), padding=(1, 1))\n",
      "  (27): BatchNorm2d(512, eps=1e-05, momentum=0.1, affine=True, track_running_stats=True)\n",
      "  (28): Conv2d(512, 512, kernel_size=(3, 3), stride=(1, 1), padding=(1, 1))\n",
      "  (29): BatchNorm2d(512, eps=1e-05, momentum=0.1, affine=True, track_running_stats=True)\n",
      "  (30): MaxPool2d(kernel_size=(2, 2), stride=2, padding=1, dilation=1, ceil_mode=False)\n",
      ")\n",
      "layers.0: Conv2d(3, 64, kernel_size=(3, 3), stride=(1, 1), padding=(1, 1))\n",
      "layers.1: BatchNorm2d(64, eps=1e-05, momentum=0.1, affine=True, track_running_stats=True)\n",
      "layers.2: Conv2d(64, 64, kernel_size=(3, 3), stride=(1, 1), padding=(1, 1))\n",
      "layers.3: BatchNorm2d(64, eps=1e-05, momentum=0.1, affine=True, track_running_stats=True)\n",
      "layers.4: MaxPool2d(kernel_size=(2, 2), stride=2, padding=1, dilation=1, ceil_mode=False)\n",
      "layers.5: Conv2d(64, 128, kernel_size=(3, 3), stride=(1, 1), padding=(1, 1))\n",
      "layers.6: BatchNorm2d(128, eps=1e-05, momentum=0.1, affine=True, track_running_stats=True)\n",
      "layers.7: Conv2d(128, 128, kernel_size=(3, 3), stride=(1, 1), padding=(1, 1))\n",
      "layers.8: BatchNorm2d(128, eps=1e-05, momentum=0.1, affine=True, track_running_stats=True)\n",
      "layers.9: MaxPool2d(kernel_size=(2, 2), stride=2, padding=1, dilation=1, ceil_mode=False)\n",
      "layers.10: Conv2d(128, 256, kernel_size=(3, 3), stride=(1, 1), padding=(1, 1))\n",
      "layers.11: BatchNorm2d(256, eps=1e-05, momentum=0.1, affine=True, track_running_stats=True)\n",
      "layers.12: Conv2d(256, 256, kernel_size=(3, 3), stride=(1, 1), padding=(1, 1))\n",
      "layers.13: BatchNorm2d(256, eps=1e-05, momentum=0.1, affine=True, track_running_stats=True)\n",
      "layers.14: Conv2d(256, 256, kernel_size=(3, 3), stride=(1, 1), padding=(1, 1))\n",
      "layers.15: BatchNorm2d(256, eps=1e-05, momentum=0.1, affine=True, track_running_stats=True)\n",
      "layers.16: MaxPool2d(kernel_size=(2, 2), stride=2, padding=1, dilation=1, ceil_mode=False)\n",
      "layers.17: Conv2d(256, 512, kernel_size=(3, 3), stride=(1, 1), padding=(1, 1))\n",
      "layers.18: BatchNorm2d(512, eps=1e-05, momentum=0.1, affine=True, track_running_stats=True)\n",
      "layers.19: Conv2d(512, 512, kernel_size=(3, 3), stride=(1, 1), padding=(1, 1))\n",
      "layers.20: BatchNorm2d(512, eps=1e-05, momentum=0.1, affine=True, track_running_stats=True)\n",
      "layers.21: Conv2d(512, 512, kernel_size=(3, 3), stride=(1, 1), padding=(1, 1))\n",
      "layers.22: BatchNorm2d(512, eps=1e-05, momentum=0.1, affine=True, track_running_stats=True)\n",
      "layers.23: MaxPool2d(kernel_size=(2, 2), stride=2, padding=1, dilation=1, ceil_mode=False)\n",
      "layers.24: Conv2d(512, 512, kernel_size=(3, 3), stride=(1, 1), padding=(1, 1))\n",
      "layers.25: BatchNorm2d(512, eps=1e-05, momentum=0.1, affine=True, track_running_stats=True)\n",
      "layers.26: Conv2d(512, 512, kernel_size=(3, 3), stride=(1, 1), padding=(1, 1))\n",
      "layers.27: BatchNorm2d(512, eps=1e-05, momentum=0.1, affine=True, track_running_stats=True)\n",
      "layers.28: Conv2d(512, 512, kernel_size=(3, 3), stride=(1, 1), padding=(1, 1))\n",
      "layers.29: BatchNorm2d(512, eps=1e-05, momentum=0.1, affine=True, track_running_stats=True)\n",
      "layers.30: MaxPool2d(kernel_size=(2, 2), stride=2, padding=1, dilation=1, ceil_mode=False)\n"
     ]
    }
   ],
   "source": [
    "defense.view_named_modules()"
   ]
  },
  {
   "cell_type": "markdown",
   "metadata": {},
   "source": [
    "### Pruning setup"
   ]
  },
  {
   "cell_type": "code",
   "execution_count": 18,
   "metadata": {},
   "outputs": [],
   "source": [
    "# determine layers to prune, decide percent of neurons to prune, reset the defense (original trojan DNN)\n",
    "layers = ['layers.28', 'layers.26', 'layers.24', 'layers.21']\n",
    "amount = 0.5\n",
    "defense.reset()"
   ]
  },
  {
   "cell_type": "markdown",
   "metadata": {},
   "source": [
    "### Pruning based on l-Infinity norm of weights from layers"
   ]
  },
  {
   "cell_type": "code",
   "execution_count": 19,
   "metadata": {},
   "outputs": [],
   "source": [
    "# prune 50% the weights of last 4 convolutional layers based on the l-Infinity norm\n",
    "defense.prune(layers, amount)"
   ]
  },
  {
   "cell_type": "markdown",
   "metadata": {},
   "source": [
    "### Evaluation after prune"
   ]
  },
  {
   "cell_type": "code",
   "execution_count": 20,
   "metadata": {},
   "outputs": [
    {
     "name": "stdout",
     "output_type": "stream",
     "text": [
      "Accuracy on clean | Base 77.45% | Trojan 74.80% | Defense 12.92%\n",
      "Accuracy on Posion | Base 4.21% | Defense 8.72% | Trojan ASR 66.72%\n",
      "Difference from Baseline | Trojan -2.65% | Defense -64.53%\n",
      "Defense Effectiveness | 58.00% decrease in ASR\n"
     ]
    }
   ],
   "source": [
    "# evaluate the model after pruning\n",
    "metrics = defense.eval(cleanloader, poisonloader, verbose=True, device=device)"
   ]
  },
  {
   "cell_type": "markdown",
   "metadata": {},
   "source": [
    "### Retraining to recover"
   ]
  },
  {
   "cell_type": "code",
   "execution_count": 21,
   "metadata": {},
   "outputs": [
    {
     "name": "stdout",
     "output_type": "stream",
     "text": [
      "Training started\n",
      "Epoch 1/3 | 24.95% | Loss: 1.4669 | Samples trained: 12480/50000\n",
      "Epoch 1/3 | 49.90% | Loss: 1.4700 | Samples trained: 24960/50000\n",
      "Epoch 1/3 | 74.86% | Loss: 1.4675 | Samples trained: 37440/50000\n",
      "Epoch 1/3 | 99.81% | Loss: 1.4559 | Samples trained: 49920/50000\n",
      "Epoch 1 complete | Loss: 1.4558\n",
      "Epoch 2/3 | 24.95% | Loss: 1.4724 | Samples trained: 12480/50000\n",
      "Epoch 2/3 | 49.90% | Loss: 1.4717 | Samples trained: 24960/50000\n",
      "Epoch 2/3 | 74.86% | Loss: 1.4685 | Samples trained: 37440/50000\n",
      "Epoch 2/3 | 99.81% | Loss: 1.4575 | Samples trained: 49920/50000\n",
      "Epoch 2 complete | Loss: 1.4575\n",
      "Epoch 3/3 | 24.95% | Loss: 1.4713 | Samples trained: 12480/50000\n",
      "Epoch 3/3 | 49.90% | Loss: 1.4710 | Samples trained: 24960/50000\n",
      "Epoch 3/3 | 74.86% | Loss: 1.4684 | Samples trained: 37440/50000\n",
      "Epoch 3/3 | 99.81% | Loss: 1.4568 | Samples trained: 49920/50000\n",
      "Epoch 3 complete | Loss: 1.4568\n",
      "Training complete | Net Average Loss: 1.4567 | Total epochs: 3\n"
     ]
    }
   ],
   "source": [
    "# retrain to recover\n",
    "loss = defense.retrain(dataloader, epochs=3, verbose=True, device=device, batch_size=16)"
   ]
  },
  {
   "cell_type": "markdown",
   "metadata": {},
   "source": [
    "### Evaluation after retraining"
   ]
  },
  {
   "cell_type": "code",
   "execution_count": 22,
   "metadata": {},
   "outputs": [
    {
     "name": "stdout",
     "output_type": "stream",
     "text": [
      "Accuracy on clean | Base 77.45% | Trojan 74.80% | Defense 61.85%\n",
      "Accuracy on Posion | Base 4.21% | Defense 41.35% | Trojan ASR 66.72%\n",
      "Difference from Baseline | Trojan -2.65% | Defense -15.60%\n",
      "Defense Effectiveness | 25.37% decrease in ASR\n"
     ]
    }
   ],
   "source": [
    "metrics = defense.eval(cleanloader, poisonloader, verbose=True, device=device)"
   ]
  }
 ],
 "metadata": {
  "kernelspec": {
   "display_name": "Python 3.8.10 ('backdoor_env': venv)",
   "language": "python",
   "name": "python3"
  },
  "language_info": {
   "codemirror_mode": {
    "name": "ipython",
    "version": 3
   },
   "file_extension": ".py",
   "mimetype": "text/x-python",
   "name": "python",
   "nbconvert_exporter": "python",
   "pygments_lexer": "ipython3",
   "version": "3.8.10"
  },
  "orig_nbformat": 4,
  "vscode": {
   "interpreter": {
    "hash": "91f5593089a39d29b7be4682cd00d4ab41e1e0aeef21da075bd20affb91499cc"
   }
  }
 },
 "nbformat": 4,
 "nbformat_minor": 2
}
