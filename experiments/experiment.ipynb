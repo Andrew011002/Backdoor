{
 "cells": [
  {
   "cell_type": "code",
   "execution_count": 9,
   "metadata": {},
   "outputs": [],
   "source": [
    "import numpy as np\n",
    "import torch\n",
    "import torchvision\n",
    "import torch.optim as optim\n",
    "from datagen import *\n",
    "from nets import *\n",
    "from modules import NetModule\n",
    "from backdoor import Backdoor"
   ]
  },
  {
   "cell_type": "code",
   "execution_count": 10,
   "metadata": {},
   "outputs": [
    {
     "name": "stdout",
     "output_type": "stream",
     "text": [
      "Files already downloaded and verified\n",
      "Files already downloaded and verified\n"
     ]
    }
   ],
   "source": [
    "backdoor = Backdoor(ConvNet, config='11-layer', channels=3, classes=10)\n",
    "backdoor.load_data(torchvision.datasets.CIFAR10, etype=ImageEntity)\n",
    "backdoor.create_models(optim.SGD, torch.nn.CrossEntropyLoss, lr=0.01)"
   ]
  },
  {
   "cell_type": "code",
   "execution_count": 11,
   "metadata": {},
   "outputs": [],
   "source": [
    "patches = ImagePatch((9, 9), 3, 'random').get_patches(len(backdoor))\n",
    "targets = {0: 1, 1: 2, 2: 3, 3: 4, 4: 5, 5: 6, 6: 7, 7: 8, 8: 9, 9: 0}\n",
    "operations = (None, [RotateTransform()], [LabelTransform(targets)])\n",
    "merge = OverlayMerge(select=True)"
   ]
  },
  {
   "cell_type": "code",
   "execution_count": 12,
   "metadata": {},
   "outputs": [],
   "source": [
    "backdoor.poison(patches, operations, merge, 0.2)"
   ]
  },
  {
   "cell_type": "code",
   "execution_count": 13,
   "metadata": {},
   "outputs": [],
   "source": [
    "device = torch.device('cuda' if torch.cuda.is_available() else 'cpu')"
   ]
  },
  {
   "cell_type": "code",
   "execution_count": 14,
   "metadata": {},
   "outputs": [
    {
     "name": "stdout",
     "output_type": "stream",
     "text": [
      "Training started\n",
      "Epoch 1/1 | 24.95% | Loss: 1.7645 | Samples trained: 12480/50000\n",
      "Epoch 1/1 | 49.90% | Loss: 1.5738 | Samples trained: 24960/50000\n",
      "Epoch 1/1 | 74.86% | Loss: 1.4508 | Samples trained: 37440/50000\n",
      "Epoch 1/1 | 99.81% | Loss: 1.3611 | Samples trained: 49920/50000\n",
      "Epoch 1 complete | Loss: 1.3608\n",
      "Training complete | Net Average Loss: 1.3608 | Total epochs: 1\n",
      "Training started\n",
      "Epoch 1/1 | 24.95% | Loss: 1.9560 | Samples trained: 12480/50000\n",
      "Epoch 1/1 | 49.90% | Loss: 1.7885 | Samples trained: 24960/50000\n",
      "Epoch 1/1 | 74.86% | Loss: 1.6654 | Samples trained: 37440/50000\n",
      "Epoch 1/1 | 99.81% | Loss: 1.5692 | Samples trained: 49920/50000\n",
      "Epoch 1 complete | Loss: 1.5689\n",
      "Training complete | Net Average Loss: 1.5689 | Total epochs: 1\n"
     ]
    },
    {
     "data": {
      "text/plain": [
       "(1.3607598272028902, 1.5688932936922222)"
      ]
     },
     "execution_count": 14,
     "metadata": {},
     "output_type": "execute_result"
    }
   ],
   "source": [
    "backdoor.train(2, epochs=1, verbose=True, device=device)"
   ]
  },
  {
   "cell_type": "code",
   "execution_count": 15,
   "metadata": {},
   "outputs": [
    {
     "name": "stdout",
     "output_type": "stream",
     "text": [
      "Accuracy on Clean | Base 56.77% | Trojan 49.14% | Difference 7.63%\n",
      "Base Accuracy on Poison 2.91% | Attack Success Rate (ASR): 27.70%\n",
      "Average Tensor Distance: 302.80 | Net Difference 15139797.77\n"
     ]
    },
    {
     "data": {
      "text/plain": [
       "(0.5677, 0.4914, 0.0291, 0.3061, 302.795955300293, 15139797.765014648)"
      ]
     },
     "execution_count": 15,
     "metadata": {},
     "output_type": "execute_result"
    }
   ],
   "source": [
    "backdoor.eval(device=device)"
   ]
  }
 ],
 "metadata": {
  "kernelspec": {
   "display_name": "Python 3.8.10 ('backdoor_env': venv)",
   "language": "python",
   "name": "python3"
  },
  "language_info": {
   "codemirror_mode": {
    "name": "ipython",
    "version": 3
   },
   "file_extension": ".py",
   "mimetype": "text/x-python",
   "name": "python",
   "nbconvert_exporter": "python",
   "pygments_lexer": "ipython3",
   "version": "3.8.10"
  },
  "orig_nbformat": 4,
  "vscode": {
   "interpreter": {
    "hash": "91f5593089a39d29b7be4682cd00d4ab41e1e0aeef21da075bd20affb91499cc"
   }
  }
 },
 "nbformat": 4,
 "nbformat_minor": 2
}
