{
 "cells": [
  {
   "cell_type": "code",
   "execution_count": 1,
   "metadata": {},
   "outputs": [
    {
     "name": "stderr",
     "output_type": "stream",
     "text": [
      "/home/andmholm/Backdoor/backdoor_env/lib/python3.8/site-packages/tqdm/auto.py:22: TqdmWarning: IProgress not found. Please update jupyter and ipywidgets. See https://ipywidgets.readthedocs.io/en/stable/user_install.html\n",
      "  from .autonotebook import tqdm as notebook_tqdm\n"
     ]
    }
   ],
   "source": [
    "import numpy as np\n",
    "import torch\n",
    "import torchvision\n",
    "import torch.optim as optim\n",
    "from datagen import *\n",
    "from datasets import *\n",
    "from modules import *\n",
    "from nets import *\n",
    "from backdoor import Backdoor"
   ]
  },
  {
   "cell_type": "code",
   "execution_count": 2,
   "metadata": {},
   "outputs": [],
   "source": [
    "backdoor = Backdoor(ConvNet, config='11-layer', channels=1, classes=10)\n",
    "backdoor.load_data(torchvision.datasets.MNIST, etype=ImageEntity)\n",
    "backdoor.create_models(optim.SGD, torch.nn.CrossEntropyLoss, lr=0.01)\n"
   ]
  },
  {
   "cell_type": "code",
   "execution_count": 3,
   "metadata": {},
   "outputs": [],
   "source": [
    "patches = ImagePatch((9, 9), 1, 'random').get_patches(len(backdoor.traindata))\n",
    "targets = {0: 1, 1: 2, 2: 3, 3: 4, 4: 5, 5: 6, 6: 7, 7: 8, 8: 9, 9: 0}\n",
    "operations = ([ExpandTransform(1)], [RotateTransform()], [LabelTransform(targets)])\n",
    "merge = OverlayMerge(select=True)"
   ]
  },
  {
   "cell_type": "code",
   "execution_count": 4,
   "metadata": {},
   "outputs": [],
   "source": [
    "backdoor.poison(patches, operations, merge, 0.2)"
   ]
  },
  {
   "cell_type": "code",
   "execution_count": 5,
   "metadata": {},
   "outputs": [],
   "source": [
    "device = torch.device('cuda' if torch.cuda.is_available() else 'cpu')"
   ]
  },
  {
   "cell_type": "code",
   "execution_count": 8,
   "metadata": {},
   "outputs": [
    {
     "name": "stdout",
     "output_type": "stream",
     "text": [
      "Training started\n",
      "Epoch 1/1 | 24.96% | Loss: 0.0429 | Samples trained: 14976/60000\n",
      "Epoch 1/1 | 49.92% | Loss: 0.0362 | Samples trained: 29952/60000\n",
      "Epoch 1/1 | 74.88% | Loss: 0.0354 | Samples trained: 44928/60000\n",
      "Epoch 1/1 | 99.84% | Loss: 0.0331 | Samples trained: 59904/60000\n",
      "Epoch 1 complete | Loss: 0.0333\n",
      "Training complete | Net Average Loss: 0.0333 | Total epochs: 1\n"
     ]
    },
    {
     "data": {
      "text/plain": [
       "(0.033292236821801637, None)"
      ]
     },
     "execution_count": 8,
     "metadata": {},
     "output_type": "execute_result"
    }
   ],
   "source": [
    "backdoor.train('base', epochs=1, verbose=True)"
   ]
  },
  {
   "cell_type": "code",
   "execution_count": 9,
   "metadata": {},
   "outputs": [
    {
     "name": "stdout",
     "output_type": "stream",
     "text": [
      "Testing started\n",
      "24.92% Testing complete | Loss: 0.0513 | Accuracy: 0.9852\n",
      "49.84% Testing complete | Loss: 0.0521 | Accuracy: 0.9848\n",
      "74.76% Testing complete | Loss: 0.0408 | Accuracy: 0.9877\n",
      "99.68% Testing complete | Loss: 0.0358 | Accuracy: 0.9892\n",
      "Testing complete | Loss: 0.0357 | Accuracy: 0.9892\n"
     ]
    },
    {
     "data": {
      "text/plain": [
       "(0.035700748725741485, 0.9892, None, None)"
      ]
     },
     "execution_count": 9,
     "metadata": {},
     "output_type": "execute_result"
    }
   ],
   "source": [
    "backdoor.test('base', True, device)"
   ]
  },
  {
   "cell_type": "code",
   "execution_count": 7,
   "metadata": {},
   "outputs": [
    {
     "name": "stdout",
     "output_type": "stream",
     "text": [
      "Accuracy on Clean | Base 98.79% | Trojan 98.33% | Difference 0.46%\n",
      "Base Accuracy on Poison 1.48% | Attack Success Rate (ASR): 91.96%\n"
     ]
    },
    {
     "data": {
      "text/plain": [
       "(0.9879, 0.9833, 0.0148, 0.9344)"
      ]
     },
     "execution_count": 7,
     "metadata": {},
     "output_type": "execute_result"
    }
   ],
   "source": [
    "backdoor.eval(device=device)"
   ]
  }
 ],
 "metadata": {
  "kernelspec": {
   "display_name": "Python 3.8.10 ('backdoor_env': venv)",
   "language": "python",
   "name": "python3"
  },
  "language_info": {
   "codemirror_mode": {
    "name": "ipython",
    "version": 3
   },
   "file_extension": ".py",
   "mimetype": "text/x-python",
   "name": "python",
   "nbconvert_exporter": "python",
   "pygments_lexer": "ipython3",
   "version": "3.8.10"
  },
  "orig_nbformat": 4,
  "vscode": {
   "interpreter": {
    "hash": "91f5593089a39d29b7be4682cd00d4ab41e1e0aeef21da075bd20affb91499cc"
   }
  }
 },
 "nbformat": 4,
 "nbformat_minor": 2
}
