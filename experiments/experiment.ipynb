{
 "cells": [
  {
   "cell_type": "code",
   "execution_count": 5,
   "metadata": {},
   "outputs": [],
   "source": [
    "import numpy as np\n",
    "import matplotlib.pyplot as plt\n",
    "import torch.nn as nn\n",
    "import torchvision\n",
    "import torch.optim as optim\n",
    "from datagen import *\n",
    "from nets import *\n",
    "from backdoor import Backdoor\n",
    "from defense import Defense"
   ]
  },
  {
   "cell_type": "code",
   "execution_count": 6,
   "metadata": {},
   "outputs": [
    {
     "name": "stdout",
     "output_type": "stream",
     "text": [
      "Files already downloaded and verified\n",
      "Files already downloaded and verified\n"
     ]
    }
   ],
   "source": [
    "backdoor = Backdoor(VggNet, config='11-layer', channels=3, classes=10)\n",
    "backdoor.create_models(optim.SGD, nn.CrossEntropyLoss, lr=0.01)\n",
    "backdoor.load_data(torchvision.datasets.CIFAR10, ImageEntity, pct=0.01)\n",
    "classes = backdoor.get_classes()\n",
    "torch.cuda.empty_cache()"
   ]
  },
  {
   "cell_type": "code",
   "execution_count": 7,
   "metadata": {},
   "outputs": [],
   "source": [
    "n = len(backdoor)\n",
    "targets = {i: i + 1 if i < 9 else 0 for i in range(10)}\n",
    "patches = ImagePatch((10, 10), 3, 'random').get_patches(n)\n",
    "modifications = (None, [RotateTransform()], [LabelTransform(targets)])\n",
    "merge = ImageMerge(select=True)\n",
    "backdoor.poison(patches, modifications, merge, pct=0.2)\n",
    "device = torch.device('cuda' if torch.cuda.is_available() else 'cpu')"
   ]
  },
  {
   "cell_type": "code",
   "execution_count": 8,
   "metadata": {},
   "outputs": [
    {
     "ename": "RuntimeError",
     "evalue": "CUDA out of memory. Tried to allocate 392.00 MiB (GPU 0; 9.78 GiB total capacity; 1.03 GiB already allocated; 255.94 MiB free; 1.04 GiB reserved in total by PyTorch) If reserved memory is >> allocated memory try setting max_split_size_mb to avoid fragmentation.  See documentation for Memory Management and PYTORCH_CUDA_ALLOC_CONF",
     "output_type": "error",
     "traceback": [
      "\u001b[0;31m---------------------------------------------------------------------------\u001b[0m",
      "\u001b[0;31mRuntimeError\u001b[0m                              Traceback (most recent call last)",
      "\u001b[1;32m/home/andmholm/Backdoor/experiments/experiment.ipynb Cell 4\u001b[0m in \u001b[0;36m<cell line: 1>\u001b[0;34m()\u001b[0m\n\u001b[0;32m----> <a href='vscode-notebook-cell://ssh-remote%2Btrojai.luddy.indiana.edu/home/andmholm/Backdoor/experiments/experiment.ipynb#ch0000003vscode-remote?line=0'>1</a>\u001b[0m backdoor\u001b[39m.\u001b[39;49mtrain(\u001b[39m2\u001b[39;49m, epochs\u001b[39m=\u001b[39;49m\u001b[39m3\u001b[39;49m, verbose\u001b[39m=\u001b[39;49m\u001b[39mTrue\u001b[39;49;00m, device\u001b[39m=\u001b[39;49mdevice)\n",
      "File \u001b[0;32m~/Backdoor/experiments/backdoor.py:68\u001b[0m, in \u001b[0;36mBackdoor.train\u001b[0;34m(self, net, epochs, verbose, device, **dataloader_kwargs)\u001b[0m\n\u001b[1;32m     65\u001b[0m \u001b[39melif\u001b[39;00m net \u001b[39m==\u001b[39m \u001b[39m2\u001b[39m:\n\u001b[1;32m     66\u001b[0m     \u001b[39m# clean trainloader\u001b[39;00m\n\u001b[1;32m     67\u001b[0m     trainloader \u001b[39m=\u001b[39m \u001b[39mself\u001b[39m\u001b[39m.\u001b[39mcleantrain\u001b[39m.\u001b[39mget_dataloader(\u001b[39m*\u001b[39m\u001b[39m*\u001b[39mdataloader_kwargs)\n\u001b[0;32m---> 68\u001b[0m     losses[\u001b[39m0\u001b[39m] \u001b[39m=\u001b[39m train(\u001b[39mself\u001b[39;49m\u001b[39m.\u001b[39;49mbase, trainloader, epochs, verbose, device)\n\u001b[1;32m     69\u001b[0m     \u001b[39m# poison trainloader\u001b[39;00m\n\u001b[1;32m     70\u001b[0m     trainloader \u001b[39m=\u001b[39m \u001b[39mself\u001b[39m\u001b[39m.\u001b[39mpoisontrain\u001b[39m.\u001b[39mget_dataloader(\u001b[39m*\u001b[39m\u001b[39m*\u001b[39mdataloader_kwargs)\n",
      "File \u001b[0;32m~/Backdoor/experiments/modules.py:96\u001b[0m, in \u001b[0;36mtrain\u001b[0;34m(net_module, trainloader, epochs, verbose, device)\u001b[0m\n\u001b[1;32m     95\u001b[0m \u001b[39mdef\u001b[39;00m \u001b[39mtrain\u001b[39m(net_module: NetModule, trainloader: DataLoader, epochs: \u001b[39mint\u001b[39m, verbose: \u001b[39mbool\u001b[39m\u001b[39m=\u001b[39m\u001b[39mTrue\u001b[39;00m, device: torch\u001b[39m.\u001b[39mdevice\u001b[39m=\u001b[39m\u001b[39mNone\u001b[39;00m) \u001b[39m-\u001b[39m\u001b[39m>\u001b[39m \u001b[39mfloat\u001b[39m:\n\u001b[0;32m---> 96\u001b[0m     net_module\u001b[39m.\u001b[39;49mtrain(device)\n\u001b[1;32m     97\u001b[0m     n \u001b[39m=\u001b[39m \u001b[39mlen\u001b[39m(trainloader\u001b[39m.\u001b[39mdataset)\n\u001b[1;32m     98\u001b[0m     m \u001b[39m=\u001b[39m \u001b[39mlen\u001b[39m(trainloader)\n",
      "File \u001b[0;32m~/Backdoor/experiments/modules.py:25\u001b[0m, in \u001b[0;36mNetModule.train\u001b[0;34m(self, device)\u001b[0m\n\u001b[1;32m     23\u001b[0m \u001b[39mdef\u001b[39;00m \u001b[39mtrain\u001b[39m(\u001b[39mself\u001b[39m, device\u001b[39m=\u001b[39m\u001b[39mNone\u001b[39;00m) \u001b[39m-\u001b[39m\u001b[39m>\u001b[39m \u001b[39mNone\u001b[39;00m:\n\u001b[1;32m     24\u001b[0m     \u001b[39m# move net to device\u001b[39;00m\n\u001b[0;32m---> 25\u001b[0m     \u001b[39mself\u001b[39;49m\u001b[39m.\u001b[39;49mnet\u001b[39m.\u001b[39;49mto(device)\n\u001b[1;32m     26\u001b[0m     \u001b[39mself\u001b[39m\u001b[39m.\u001b[39mnet\u001b[39m.\u001b[39mtrain()\n",
      "File \u001b[0;32m~/Backdoor/backdoor_env/lib/python3.8/site-packages/torch/nn/modules/module.py:927\u001b[0m, in \u001b[0;36mModule.to\u001b[0;34m(self, *args, **kwargs)\u001b[0m\n\u001b[1;32m    923\u001b[0m         \u001b[39mreturn\u001b[39;00m t\u001b[39m.\u001b[39mto(device, dtype \u001b[39mif\u001b[39;00m t\u001b[39m.\u001b[39mis_floating_point() \u001b[39mor\u001b[39;00m t\u001b[39m.\u001b[39mis_complex() \u001b[39melse\u001b[39;00m \u001b[39mNone\u001b[39;00m,\n\u001b[1;32m    924\u001b[0m                     non_blocking, memory_format\u001b[39m=\u001b[39mconvert_to_format)\n\u001b[1;32m    925\u001b[0m     \u001b[39mreturn\u001b[39;00m t\u001b[39m.\u001b[39mto(device, dtype \u001b[39mif\u001b[39;00m t\u001b[39m.\u001b[39mis_floating_point() \u001b[39mor\u001b[39;00m t\u001b[39m.\u001b[39mis_complex() \u001b[39melse\u001b[39;00m \u001b[39mNone\u001b[39;00m, non_blocking)\n\u001b[0;32m--> 927\u001b[0m \u001b[39mreturn\u001b[39;00m \u001b[39mself\u001b[39;49m\u001b[39m.\u001b[39;49m_apply(convert)\n",
      "File \u001b[0;32m~/Backdoor/backdoor_env/lib/python3.8/site-packages/torch/nn/modules/module.py:579\u001b[0m, in \u001b[0;36mModule._apply\u001b[0;34m(self, fn)\u001b[0m\n\u001b[1;32m    577\u001b[0m \u001b[39mdef\u001b[39;00m \u001b[39m_apply\u001b[39m(\u001b[39mself\u001b[39m, fn):\n\u001b[1;32m    578\u001b[0m     \u001b[39mfor\u001b[39;00m module \u001b[39min\u001b[39;00m \u001b[39mself\u001b[39m\u001b[39m.\u001b[39mchildren():\n\u001b[0;32m--> 579\u001b[0m         module\u001b[39m.\u001b[39;49m_apply(fn)\n\u001b[1;32m    581\u001b[0m     \u001b[39mdef\u001b[39;00m \u001b[39mcompute_should_use_set_data\u001b[39m(tensor, tensor_applied):\n\u001b[1;32m    582\u001b[0m         \u001b[39mif\u001b[39;00m torch\u001b[39m.\u001b[39m_has_compatible_shallow_copy_type(tensor, tensor_applied):\n\u001b[1;32m    583\u001b[0m             \u001b[39m# If the new tensor has compatible tensor type as the existing tensor,\u001b[39;00m\n\u001b[1;32m    584\u001b[0m             \u001b[39m# the current behavior is to change the tensor in-place using `.data =`,\u001b[39;00m\n\u001b[0;32m   (...)\u001b[0m\n\u001b[1;32m    589\u001b[0m             \u001b[39m# global flag to let the user control whether they want the future\u001b[39;00m\n\u001b[1;32m    590\u001b[0m             \u001b[39m# behavior of overwriting the existing tensor or not.\u001b[39;00m\n",
      "File \u001b[0;32m~/Backdoor/backdoor_env/lib/python3.8/site-packages/torch/nn/modules/module.py:602\u001b[0m, in \u001b[0;36mModule._apply\u001b[0;34m(self, fn)\u001b[0m\n\u001b[1;32m    598\u001b[0m \u001b[39m# Tensors stored in modules are graph leaves, and we don't want to\u001b[39;00m\n\u001b[1;32m    599\u001b[0m \u001b[39m# track autograd history of `param_applied`, so we have to use\u001b[39;00m\n\u001b[1;32m    600\u001b[0m \u001b[39m# `with torch.no_grad():`\u001b[39;00m\n\u001b[1;32m    601\u001b[0m \u001b[39mwith\u001b[39;00m torch\u001b[39m.\u001b[39mno_grad():\n\u001b[0;32m--> 602\u001b[0m     param_applied \u001b[39m=\u001b[39m fn(param)\n\u001b[1;32m    603\u001b[0m should_use_set_data \u001b[39m=\u001b[39m compute_should_use_set_data(param, param_applied)\n\u001b[1;32m    604\u001b[0m \u001b[39mif\u001b[39;00m should_use_set_data:\n",
      "File \u001b[0;32m~/Backdoor/backdoor_env/lib/python3.8/site-packages/torch/nn/modules/module.py:925\u001b[0m, in \u001b[0;36mModule.to.<locals>.convert\u001b[0;34m(t)\u001b[0m\n\u001b[1;32m    922\u001b[0m \u001b[39mif\u001b[39;00m convert_to_format \u001b[39mis\u001b[39;00m \u001b[39mnot\u001b[39;00m \u001b[39mNone\u001b[39;00m \u001b[39mand\u001b[39;00m t\u001b[39m.\u001b[39mdim() \u001b[39min\u001b[39;00m (\u001b[39m4\u001b[39m, \u001b[39m5\u001b[39m):\n\u001b[1;32m    923\u001b[0m     \u001b[39mreturn\u001b[39;00m t\u001b[39m.\u001b[39mto(device, dtype \u001b[39mif\u001b[39;00m t\u001b[39m.\u001b[39mis_floating_point() \u001b[39mor\u001b[39;00m t\u001b[39m.\u001b[39mis_complex() \u001b[39melse\u001b[39;00m \u001b[39mNone\u001b[39;00m,\n\u001b[1;32m    924\u001b[0m                 non_blocking, memory_format\u001b[39m=\u001b[39mconvert_to_format)\n\u001b[0;32m--> 925\u001b[0m \u001b[39mreturn\u001b[39;00m t\u001b[39m.\u001b[39;49mto(device, dtype \u001b[39mif\u001b[39;49;00m t\u001b[39m.\u001b[39;49mis_floating_point() \u001b[39mor\u001b[39;49;00m t\u001b[39m.\u001b[39;49mis_complex() \u001b[39melse\u001b[39;49;00m \u001b[39mNone\u001b[39;49;00m, non_blocking)\n",
      "\u001b[0;31mRuntimeError\u001b[0m: CUDA out of memory. Tried to allocate 392.00 MiB (GPU 0; 9.78 GiB total capacity; 1.03 GiB already allocated; 255.94 MiB free; 1.04 GiB reserved in total by PyTorch) If reserved memory is >> allocated memory try setting max_split_size_mb to avoid fragmentation.  See documentation for Memory Management and PYTORCH_CUDA_ALLOC_CONF"
     ]
    }
   ],
   "source": [
    "backdoor.train(2, epochs=3, verbose=True, device=device)"
   ]
  },
  {
   "cell_type": "code",
   "execution_count": null,
   "metadata": {},
   "outputs": [
    {
     "name": "stdout",
     "output_type": "stream",
     "text": [
      "Accuracy on Clean | Base 69.79% | Trojan 70.43% | Difference 0.64%\n",
      "Base Accuracy on Poison 3.94% | Attack Success Rate (ASR): 61.04%\n",
      "Average Tensor Distance: 329.91 | Net Tensor Difference 16495698.69\n"
     ]
    },
    {
     "data": {
      "text/plain": [
       "(0.6979, 0.7043, 0.0394, 0.6104, 329.91397389404295, 16495698.694702148)"
      ]
     },
     "execution_count": 5,
     "metadata": {},
     "output_type": "execute_result"
    }
   ],
   "source": [
    "backdoor.eval(verbose=True, device=device)"
   ]
  },
  {
   "cell_type": "code",
   "execution_count": null,
   "metadata": {},
   "outputs": [
    {
     "name": "stdout",
     "output_type": "stream",
     "text": [
      "Patch size (5, 5) | Synthetic Poison Accuracy 68.40% | Original Accuracy 69.79% | Difference -1.39%\n",
      "Patch size (6, 6) | Synthetic Poison Accuracy 68.12% | Original Accuracy 69.79% | Difference -1.67%\n",
      "Patch size (7, 7) | Synthetic Poison Accuracy 67.18% | Original Accuracy 69.79% | Difference -2.61%\n",
      "Patch size (8, 8) | Synthetic Poison Accuracy 66.44% | Original Accuracy 69.79% | Difference -3.35%\n",
      "Patch size (9, 9) | Synthetic Poison Accuracy 65.73% | Original Accuracy 69.79% | Difference -4.06%\n",
      "Patch size (10, 10) | Synthetic Poison Accuracy 65.88% | Original Accuracy 69.79% | Difference -3.91%\n",
      "Average Accuracy 66.96% | Average Difference -2.83% | Lowest Score: 65.73% | Likihood of Backdoor: Low\n"
     ]
    },
    {
     "data": {
      "text/plain": [
       "([0.684, 0.6812, 0.6718, 0.6644, 0.6573, 0.6588],\n",
       " [-0.013899999999999912,\n",
       "  -0.016699999999999937,\n",
       "  -0.026100000000000012,\n",
       "  -0.033499999999999974,\n",
       "  -0.04059999999999997,\n",
       "  -0.03909999999999991])"
      ]
     },
     "execution_count": 11,
     "metadata": {},
     "output_type": "execute_result"
    }
   ],
   "source": [
    "defense = Defense(backdoor)\n",
    "defense.detect(backdoor.base, device=device, threshold=0.1)"
   ]
  },
  {
   "cell_type": "code",
   "execution_count": null,
   "metadata": {},
   "outputs": [
    {
     "name": "stdout",
     "output_type": "stream",
     "text": [
      "avgpool: AdaptiveAvgPool2d(output_size=(7, 7))\n",
      "drop: Dropout(p=0.5, inplace=False)\n",
      "fc1: Linear(in_features=25088, out_features=4096, bias=True)\n",
      "fc2: Linear(in_features=4096, out_features=4096, bias=True)\n",
      "fc3: Linear(in_features=4096, out_features=10, bias=True)\n",
      "layers: Sequential(\n",
      "  (0): Conv2d(3, 64, kernel_size=(3, 3), stride=(1, 1), padding=(1, 1))\n",
      "  (1): BatchNorm2d(64, eps=1e-05, momentum=0.1, affine=True, track_running_stats=True)\n",
      "  (2): MaxPool2d(kernel_size=(2, 2), stride=2, padding=1, dilation=1, ceil_mode=False)\n",
      "  (3): Conv2d(64, 128, kernel_size=(3, 3), stride=(1, 1), padding=(1, 1))\n",
      "  (4): BatchNorm2d(128, eps=1e-05, momentum=0.1, affine=True, track_running_stats=True)\n",
      "  (5): MaxPool2d(kernel_size=(2, 2), stride=2, padding=1, dilation=1, ceil_mode=False)\n",
      "  (6): Conv2d(128, 256, kernel_size=(3, 3), stride=(1, 1), padding=(1, 1))\n",
      "  (7): BatchNorm2d(256, eps=1e-05, momentum=0.1, affine=True, track_running_stats=True)\n",
      "  (8): Conv2d(256, 256, kernel_size=(3, 3), stride=(1, 1), padding=(1, 1))\n",
      "  (9): BatchNorm2d(256, eps=1e-05, momentum=0.1, affine=True, track_running_stats=True)\n",
      "  (10): MaxPool2d(kernel_size=(2, 2), stride=2, padding=1, dilation=1, ceil_mode=False)\n",
      "  (11): Conv2d(256, 512, kernel_size=(3, 3), stride=(1, 1), padding=(1, 1))\n",
      "  (12): BatchNorm2d(512, eps=1e-05, momentum=0.1, affine=True, track_running_stats=True)\n",
      "  (13): Conv2d(512, 512, kernel_size=(3, 3), stride=(1, 1), padding=(1, 1))\n",
      "  (14): BatchNorm2d(512, eps=1e-05, momentum=0.1, affine=True, track_running_stats=True)\n",
      "  (15): MaxPool2d(kernel_size=(2, 2), stride=2, padding=1, dilation=1, ceil_mode=False)\n",
      "  (16): Conv2d(512, 512, kernel_size=(3, 3), stride=(1, 1), padding=(1, 1))\n",
      "  (17): BatchNorm2d(512, eps=1e-05, momentum=0.1, affine=True, track_running_stats=True)\n",
      "  (18): Conv2d(512, 512, kernel_size=(3, 3), stride=(1, 1), padding=(1, 1))\n",
      "  (19): BatchNorm2d(512, eps=1e-05, momentum=0.1, affine=True, track_running_stats=True)\n",
      "  (20): MaxPool2d(kernel_size=(2, 2), stride=2, padding=1, dilation=1, ceil_mode=False)\n",
      ")\n",
      "layers.0: Conv2d(3, 64, kernel_size=(3, 3), stride=(1, 1), padding=(1, 1))\n",
      "layers.1: BatchNorm2d(64, eps=1e-05, momentum=0.1, affine=True, track_running_stats=True)\n",
      "layers.2: MaxPool2d(kernel_size=(2, 2), stride=2, padding=1, dilation=1, ceil_mode=False)\n",
      "layers.3: Conv2d(64, 128, kernel_size=(3, 3), stride=(1, 1), padding=(1, 1))\n",
      "layers.4: BatchNorm2d(128, eps=1e-05, momentum=0.1, affine=True, track_running_stats=True)\n",
      "layers.5: MaxPool2d(kernel_size=(2, 2), stride=2, padding=1, dilation=1, ceil_mode=False)\n",
      "layers.6: Conv2d(128, 256, kernel_size=(3, 3), stride=(1, 1), padding=(1, 1))\n",
      "layers.7: BatchNorm2d(256, eps=1e-05, momentum=0.1, affine=True, track_running_stats=True)\n",
      "layers.8: Conv2d(256, 256, kernel_size=(3, 3), stride=(1, 1), padding=(1, 1))\n",
      "layers.9: BatchNorm2d(256, eps=1e-05, momentum=0.1, affine=True, track_running_stats=True)\n",
      "layers.10: MaxPool2d(kernel_size=(2, 2), stride=2, padding=1, dilation=1, ceil_mode=False)\n",
      "layers.11: Conv2d(256, 512, kernel_size=(3, 3), stride=(1, 1), padding=(1, 1))\n",
      "layers.12: BatchNorm2d(512, eps=1e-05, momentum=0.1, affine=True, track_running_stats=True)\n",
      "layers.13: Conv2d(512, 512, kernel_size=(3, 3), stride=(1, 1), padding=(1, 1))\n",
      "layers.14: BatchNorm2d(512, eps=1e-05, momentum=0.1, affine=True, track_running_stats=True)\n",
      "layers.15: MaxPool2d(kernel_size=(2, 2), stride=2, padding=1, dilation=1, ceil_mode=False)\n",
      "layers.16: Conv2d(512, 512, kernel_size=(3, 3), stride=(1, 1), padding=(1, 1))\n",
      "layers.17: BatchNorm2d(512, eps=1e-05, momentum=0.1, affine=True, track_running_stats=True)\n",
      "layers.18: Conv2d(512, 512, kernel_size=(3, 3), stride=(1, 1), padding=(1, 1))\n",
      "layers.19: BatchNorm2d(512, eps=1e-05, momentum=0.1, affine=True, track_running_stats=True)\n",
      "layers.20: MaxPool2d(kernel_size=(2, 2), stride=2, padding=1, dilation=1, ceil_mode=False)\n"
     ]
    }
   ],
   "source": [
    "defense.view_named_modules()"
   ]
  },
  {
   "cell_type": "code",
   "execution_count": null,
   "metadata": {},
   "outputs": [],
   "source": [
    "defense.reset()"
   ]
  },
  {
   "cell_type": "code",
   "execution_count": null,
   "metadata": {},
   "outputs": [],
   "source": [
    "defense.prune(['layers.16', 'layers.18', 'fc1'], amount=0.7)"
   ]
  },
  {
   "cell_type": "code",
   "execution_count": null,
   "metadata": {},
   "outputs": [
    {
     "name": "stdout",
     "output_type": "stream",
     "text": [
      "Training started\n",
      "Epoch 1/3 | 24.95% | Loss: 1.6382 | Samples trained: 12480/50000\n",
      "Epoch 1/3 | 49.90% | Loss: 1.6354 | Samples trained: 24960/50000\n",
      "Epoch 1/3 | 74.86% | Loss: 1.6294 | Samples trained: 37440/50000\n",
      "Epoch 1/3 | 99.81% | Loss: 1.6195 | Samples trained: 49920/50000\n",
      "Epoch 1 complete | Loss: 1.6192\n",
      "Epoch 2/3 | 24.95% | Loss: 1.6342 | Samples trained: 12480/50000\n",
      "Epoch 2/3 | 49.90% | Loss: 1.6330 | Samples trained: 24960/50000\n",
      "Epoch 2/3 | 74.86% | Loss: 1.6283 | Samples trained: 37440/50000\n",
      "Epoch 2/3 | 99.81% | Loss: 1.6189 | Samples trained: 49920/50000\n",
      "Epoch 2 complete | Loss: 1.6187\n",
      "Epoch 3/3 | 24.95% | Loss: 1.6355 | Samples trained: 12480/50000\n",
      "Epoch 3/3 | 49.90% | Loss: 1.6321 | Samples trained: 24960/50000\n",
      "Epoch 3/3 | 74.86% | Loss: 1.6274 | Samples trained: 37440/50000\n",
      "Epoch 3/3 | 99.81% | Loss: 1.6176 | Samples trained: 49920/50000\n",
      "Epoch 3 complete | Loss: 1.6173\n",
      "Training complete | Net Average Loss: 1.6184 | Total epochs: 3\n"
     ]
    },
    {
     "data": {
      "text/plain": [
       "1.6184098593943101"
      ]
     },
     "execution_count": 14,
     "metadata": {},
     "output_type": "execute_result"
    }
   ],
   "source": [
    "defense.retrain(epochs=3, verbose=True, device=device)"
   ]
  },
  {
   "cell_type": "code",
   "execution_count": null,
   "metadata": {},
   "outputs": [
    {
     "name": "stdout",
     "output_type": "stream",
     "text": [
      "Accuracy on clean | Base 69.79% | Trojan 70.43% | Defense 62.10%\n",
      "Accuracy on Posion | Base 3.94% | Defense 12.62% | Trojan ASR 61.04%\n",
      "Difference from Baseline | Trojan 0.64% | Defense -7.69%\n",
      "Defense Effectiveness | 48.42% decrease in ASR\n"
     ]
    },
    {
     "data": {
      "text/plain": [
       "(0.6979, 0.0394, 0.7043, 0.6104, 0.621, 0.1262)"
      ]
     },
     "execution_count": 15,
     "metadata": {},
     "output_type": "execute_result"
    }
   ],
   "source": [
    "defense.eval(device=device)"
   ]
  },
  {
   "cell_type": "code",
   "execution_count": null,
   "metadata": {},
   "outputs": [],
   "source": [
    "loader = defense.block()\n",
    "dataiter = iter(loader)"
   ]
  },
  {
   "cell_type": "code",
   "execution_count": null,
   "metadata": {},
   "outputs": [
    {
     "data": {
      "image/png": "[encoded data removed]",
      "text/plain": [
       "<Figure size 432x288 with 1 Axes>"
      ]
     },
     "metadata": {
      "needs_background": "light"
     },
     "output_type": "display_data"
    }
   ],
   "source": [
    "inputs, labels = dataiter.next()\n",
    "img = inputs[0].numpy().astype(np.uint8)\n",
    "plt.imshow(img, cmap='gray')\n",
    "plt.show()"
   ]
  },
  {
   "cell_type": "code",
   "execution_count": null,
   "metadata": {},
   "outputs": [
    {
     "data": {
      "image/png": "[encoded data removed]",
      "text/plain": [
       "<Figure size 432x288 with 1 Axes>"
      ]
     },
     "metadata": {
      "needs_background": "light"
     },
     "output_type": "display_data"
    }
   ],
   "source": [
    "patch = ImagePatch((9, 9), 3, 'random')\n",
    "cleantrain, poisontrain, cleantest, poisontest = backdoor.get_datasets()\n",
    "clean = cleantrain[0]\n",
    "poison = poisontest[0]\n",
    "# clean.show()\n",
    "poison.show()\n",
    "# patch.show()"
   ]
  },
  {
   "cell_type": "code",
   "execution_count": null,
   "metadata": {},
   "outputs": [
    {
     "data": {
      "image/png": "[encoded data removed]",
      "text/plain": [
       "<Figure size 432x288 with 1 Axes>"
      ]
     },
     "metadata": {
      "needs_background": "light"
     },
     "output_type": "display_data"
    },
    {
     "name": "stdout",
     "output_type": "stream",
     "text": [
      "2375.033052401587 5399.665455555556\n",
      "2374.5732248132504 5494.302528408609\n"
     ]
    }
   ],
   "source": [
    "for i in range(poison.shape[0] - patch.shape[0]):\n",
    "    for j in range(poison.shape[1] - patch.shape[1]):\n",
    "        local = poison.get_data()[i:i + patch.shape[0], j:j + patch.shape[1], :]\n",
    "        print(np.var(local))"
   ]
  }
 ],
 "metadata": {
  "kernelspec": {
   "display_name": "Python 3.8.10 ('backdoor_env': venv)",
   "language": "python",
   "name": "python3"
  },
  "language_info": {
   "codemirror_mode": {
    "name": "ipython",
    "version": 3
   },
   "file_extension": ".py",
   "mimetype": "text/x-python",
   "name": "python",
   "nbconvert_exporter": "python",
   "pygments_lexer": "ipython3",
   "version": "3.8.10"
  },
  "orig_nbformat": 4,
  "vscode": {
   "interpreter": {
    "hash": "91f5593089a39d29b7be4682cd00d4ab41e1e0aeef21da075bd20affb91499cc"
   }
  }
 },
 "nbformat": 4,
 "nbformat_minor": 2
}
