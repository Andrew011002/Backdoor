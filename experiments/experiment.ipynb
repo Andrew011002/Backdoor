{
 "cells": [
  {
   "cell_type": "code",
   "execution_count": 1,
   "metadata": {},
   "outputs": [
    {
     "name": "stderr",
     "output_type": "stream",
     "text": [
      "/home/andmholm/Backdoor/backdoor_env/lib/python3.8/site-packages/tqdm/auto.py:22: TqdmWarning: IProgress not found. Please update jupyter and ipywidgets. See https://ipywidgets.readthedocs.io/en/stable/user_install.html\n",
      "  from .autonotebook import tqdm as notebook_tqdm\n"
     ]
    }
   ],
   "source": [
    "import numpy as np\n",
    "import matplotlib.pyplot as plt\n",
    "import torch.nn as nn\n",
    "import torchvision\n",
    "import torch.optim as optim\n",
    "from datagen import *\n",
    "from nets import *\n",
    "from backdoor import Backdoor\n",
    "from defense import Defense"
   ]
  },
  {
   "cell_type": "code",
   "execution_count": 2,
   "metadata": {},
   "outputs": [
    {
     "name": "stdout",
     "output_type": "stream",
     "text": [
      "Files already downloaded and verified\n",
      "Files already downloaded and verified\n"
     ]
    }
   ],
   "source": [
    "backdoor = Backdoor(VggNet, config='11-layer', channels=3, classes=10)\n",
    "backdoor.create_models(optim.SGD, nn.CrossEntropyLoss, lr=0.01)\n",
    "backdoor.load_data(torchvision.datasets.CIFAR10, ImageEntity)\n",
    "classes = backdoor.get_classes()\n",
    "torch.cuda.empty_cache()"
   ]
  },
  {
   "cell_type": "code",
   "execution_count": 3,
   "metadata": {},
   "outputs": [],
   "source": [
    "n = len(backdoor)\n",
    "targets = {i: i + 1 if i < 9 else 0 for i in range(10)}\n",
    "patches = ImagePatch((10, 10), 3, 'random').get_patches(n)\n",
    "modifications = (None, [RotateTransform()], [LabelTransform(targets)])\n",
    "merge = ImageMerge(select=True)\n",
    "backdoor.poison(patches, modifications, merge, pct=0.2)\n",
    "device = torch.device('cuda' if torch.cuda.is_available() else 'cpu')"
   ]
  },
  {
   "cell_type": "code",
   "execution_count": 4,
   "metadata": {},
   "outputs": [
    {
     "name": "stdout",
     "output_type": "stream",
     "text": [
      "Training started\n",
      "Epoch 1/3 | 24.95% | Loss: 1.7109 | Samples trained: 12480/50000\n",
      "Epoch 1/3 | 49.90% | Loss: 1.5359 | Samples trained: 24960/50000\n",
      "Epoch 1/3 | 74.86% | Loss: 1.4216 | Samples trained: 37440/50000\n",
      "Epoch 1/3 | 99.81% | Loss: 1.3351 | Samples trained: 49920/50000\n",
      "Epoch 1 complete | Loss: 1.3351\n",
      "Epoch 2/3 | 24.95% | Loss: 0.9833 | Samples trained: 12480/50000\n",
      "Epoch 2/3 | 49.90% | Loss: 0.9405 | Samples trained: 24960/50000\n",
      "Epoch 2/3 | 74.86% | Loss: 0.8998 | Samples trained: 37440/50000\n",
      "Epoch 2/3 | 99.81% | Loss: 0.8641 | Samples trained: 49920/50000\n",
      "Epoch 2 complete | Loss: 0.8641\n",
      "Epoch 3/3 | 24.95% | Loss: 0.6980 | Samples trained: 12480/50000\n",
      "Epoch 3/3 | 49.90% | Loss: 0.6744 | Samples trained: 24960/50000\n",
      "Epoch 3/3 | 74.86% | Loss: 0.6497 | Samples trained: 37440/50000\n",
      "Epoch 3/3 | 99.81% | Loss: 0.6242 | Samples trained: 49920/50000\n",
      "Epoch 3 complete | Loss: 0.6242\n",
      "Training complete | Net Average Loss: 0.9411 | Total epochs: 3\n",
      "Training started\n",
      "Epoch 1/3 | 24.95% | Loss: 1.8869 | Samples trained: 12480/50000\n",
      "Epoch 1/3 | 49.90% | Loss: 1.7174 | Samples trained: 24960/50000\n",
      "Epoch 1/3 | 74.86% | Loss: 1.6016 | Samples trained: 37440/50000\n",
      "Epoch 1/3 | 99.81% | Loss: 1.5111 | Samples trained: 49920/50000\n",
      "Epoch 1 complete | Loss: 1.5109\n",
      "Epoch 2/3 | 24.95% | Loss: 1.1440 | Samples trained: 12480/50000\n",
      "Epoch 2/3 | 49.90% | Loss: 1.0922 | Samples trained: 24960/50000\n",
      "Epoch 2/3 | 74.86% | Loss: 1.0495 | Samples trained: 37440/50000\n",
      "Epoch 2/3 | 99.81% | Loss: 1.0110 | Samples trained: 49920/50000\n",
      "Epoch 2 complete | Loss: 1.0110\n",
      "Epoch 3/3 | 24.95% | Loss: 0.8387 | Samples trained: 12480/50000\n",
      "Epoch 3/3 | 49.90% | Loss: 0.8096 | Samples trained: 24960/50000\n",
      "Epoch 3/3 | 74.86% | Loss: 0.7796 | Samples trained: 37440/50000\n",
      "Epoch 3/3 | 99.81% | Loss: 0.7531 | Samples trained: 49920/50000\n",
      "Epoch 3 complete | Loss: 0.7530\n",
      "Training complete | Net Average Loss: 1.0917 | Total epochs: 3\n"
     ]
    },
    {
     "data": {
      "text/plain": [
       "(0.9411315198286202, 1.0916686542356007)"
      ]
     },
     "execution_count": 4,
     "metadata": {},
     "output_type": "execute_result"
    }
   ],
   "source": [
    "backdoor.train(2, epochs=3, verbose=True, device=device)"
   ]
  },
  {
   "cell_type": "code",
   "execution_count": 5,
   "metadata": {},
   "outputs": [
    {
     "name": "stdout",
     "output_type": "stream",
     "text": [
      "Accuracy on Clean | Base 70.69% | Trojan 67.05% | Difference -3.64%\n",
      "Base Accuracy on Poison 4.15% | Attack Success Rate (ASR): 55.78%\n",
      "Average Tensor Distance: 334.75 | Net Tensor Difference 16737561.62\n"
     ]
    },
    {
     "data": {
      "text/plain": [
       "(0.7069, 0.6705, 0.0415, 0.5578, 334.7512324047851, 16737561.620239258)"
      ]
     },
     "execution_count": 5,
     "metadata": {},
     "output_type": "execute_result"
    }
   ],
   "source": [
    "backdoor.eval(verbose=True, device=device)"
   ]
  },
  {
   "cell_type": "code",
   "execution_count": 6,
   "metadata": {},
   "outputs": [],
   "source": [
    "defense = Defense(backdoor)"
   ]
  },
  {
   "cell_type": "code",
   "execution_count": 7,
   "metadata": {},
   "outputs": [
    {
     "name": "stdout",
     "output_type": "stream",
     "text": [
      "Patch size (5, 5) | Synthetic Poison Accuracy 66.47% | Original Accuracy 67.05% | Difference -0.58%\n",
      "Patch size (6, 6) | Synthetic Poison Accuracy 66.30% | Original Accuracy 67.05% | Difference -0.75%\n",
      "Patch size (7, 7) | Synthetic Poison Accuracy 63.92% | Original Accuracy 67.05% | Difference -3.13%\n",
      "Patch size (8, 8) | Synthetic Poison Accuracy 61.40% | Original Accuracy 67.05% | Difference -5.65%\n",
      "Patch size (9, 9) | Synthetic Poison Accuracy 59.70% | Original Accuracy 67.05% | Difference -7.35%\n",
      "Patch size (10, 10) | Synthetic Poison Accuracy 55.36% | Original Accuracy 67.05% | Difference -11.69%\n",
      "Average Accuracy 62.19% | Average Difference -4.86% | Lowest Score: 55.36% | Likihood of Backdoor: High\n"
     ]
    },
    {
     "data": {
      "text/plain": [
       "([0.6647, 0.663, 0.6392, 0.614, 0.597, 0.5536],\n",
       " [-0.005800000000000027,\n",
       "  -0.007499999999999951,\n",
       "  -0.031299999999999994,\n",
       "  -0.056499999999999995,\n",
       "  -0.07350000000000001,\n",
       "  -0.1169])"
      ]
     },
     "execution_count": 7,
     "metadata": {},
     "output_type": "execute_result"
    }
   ],
   "source": [
    "defense.detect(backdoor.trojan, device=device, threshold=0.08, pct=0.2)"
   ]
  },
  {
   "cell_type": "code",
   "execution_count": 14,
   "metadata": {},
   "outputs": [],
   "source": [
    "labels = {i: i - 1 if i > 0 else 9 for i in range(10)}\n",
    "testloader = defense.block(labels=labels)"
   ]
  },
  {
   "cell_type": "code",
   "execution_count": 15,
   "metadata": {},
   "outputs": [],
   "source": [
    "testiter = iter(testloader)"
   ]
  },
  {
   "cell_type": "code",
   "execution_count": 20,
   "metadata": {},
   "outputs": [
    {
     "data": {
      "image/png": "[encoded data removed]",
      "text/plain": [
       "<Figure size 432x288 with 1 Axes>"
      ]
     },
     "metadata": {
      "needs_background": "light"
     },
     "output_type": "display_data"
    },
    {
     "name": "stdout",
     "output_type": "stream",
     "text": [
      "dog\n"
     ]
    }
   ],
   "source": [
    "inputs, labels = testiter.next()\n",
    "plt.imshow(inputs[0].numpy().astype(np.uint8), cmap='gray')\n",
    "plt.show()\n",
    "print(classes[labels[0].item()])"
   ]
  },
  {
   "cell_type": "code",
   "execution_count": 22,
   "metadata": {},
   "outputs": [
    {
     "name": "stdout",
     "output_type": "stream",
     "text": [
      "Accuracy on clean | Base 61.00% | Trojan 45.60% | Defense 45.60%\n",
      "Accuracy on Posion | Base 4.15% | Defense 55.78% | Trojan ASR 55.78%\n",
      "Difference from Baseline | Trojan -15.40% | Defense -15.40%\n",
      "Defense Effectiveness | 0.00% no change in ASR\n"
     ]
    },
    {
     "data": {
      "text/plain": [
       "(0.61, 0.0415, 0.456, 0.5578, 0.456, 0.5578)"
      ]
     },
     "execution_count": 22,
     "metadata": {},
     "output_type": "execute_result"
    }
   ],
   "source": [
    "defense.test(testloader=testloader, device=device)"
   ]
  }
 ],
 "metadata": {
  "kernelspec": {
   "display_name": "Python 3.8.10 ('backdoor_env': venv)",
   "language": "python",
   "name": "python3"
  },
  "language_info": {
   "codemirror_mode": {
    "name": "ipython",
    "version": 3
   },
   "file_extension": ".py",
   "mimetype": "text/x-python",
   "name": "python",
   "nbconvert_exporter": "python",
   "pygments_lexer": "ipython3",
   "version": "3.8.10"
  },
  "orig_nbformat": 4,
  "vscode": {
   "interpreter": {
    "hash": "91f5593089a39d29b7be4682cd00d4ab41e1e0aeef21da075bd20affb91499cc"
   }
  }
 },
 "nbformat": 4,
 "nbformat_minor": 2
}
