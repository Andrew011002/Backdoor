{
 "cells": [
  {
   "cell_type": "code",
   "execution_count": 14,
   "metadata": {},
   "outputs": [],
   "source": [
    "import numpy as np\n",
    "import matplotlib.pyplot as plt\n",
    "import torch.nn as nn\n",
    "import torchvision\n",
    "import torch.optim as optim\n",
    "from datagen import *\n",
    "from nets import *\n",
    "from backdoor import Backdoor\n",
    "from defense import Defense, Prune\n",
    "from copy import deepcopy\n"
   ]
  },
  {
   "cell_type": "code",
   "execution_count": 158,
   "metadata": {},
   "outputs": [
    {
     "data": {
      "image/png": "[encoded data removed]",
      "text/plain": [
       "<Figure size 432x288 with 1 Axes>"
      ]
     },
     "metadata": {
      "needs_background": "light"
     },
     "output_type": "display_data"
    }
   ],
   "source": [
    "img = ImagePatch((9, 9), 3, 'random')\n",
    "patch = ImagePatch((3, 3), 3, 'uniform')\n",
    "threshold = 450\n",
    "\n",
    "for i in range(img.shape[0] - patch.shape[0]):\n",
    "    for j in range(img.shape[1] - patch.shape[1]):\n",
    "        local = img.get_data()[i:i + patch.shape[0], j:j + patch.shape[1], :]\n",
    "        dist = np.linalg.norm(local - patch.get_data())\n",
    "        if dist <= threshold:\n",
    "            data = img.get_data()\n",
    "            data[i: i + patch.shape[0], j: j + patch.shape[1], :] = 0\n",
    "            img.set_data(data)\n",
    "            break\n",
    "    break\n",
    "img.show()"
   ]
  },
  {
   "cell_type": "code",
   "execution_count": 2,
   "metadata": {},
   "outputs": [],
   "source": [
    "backdoor = Backdoor(VggNet, config='11-layer', channels=1, classes=10)\n",
    "backdoor.create_models(optim.SGD, nn.CrossEntropyLoss, lr=0.01)\n",
    "backdoor.load_data(torchvision.datasets.MNIST, ImageEntity)\n",
    "classes = backdoor.get_classes()\n",
    "\n",
    "n = len(backdoor)\n",
    "targets = {i: i + 1 if i < 9 else 0 for i in range(10)}\n",
    "patches = ImagePatch((10, 10), 1, 'random').get_patches(n)\n",
    "modifications = ([ExpandTransform(1)], [RotateTransform()], [LabelTransform(targets)])\n",
    "merge = OverlayMerge(select=True)\n",
    "backdoor.poison(patches, modifications, merge, 0.2)\n",
    "device = torch.device('cuda' if torch.cuda.is_available() else 'cpu')"
   ]
  },
  {
   "cell_type": "code",
   "execution_count": 3,
   "metadata": {},
   "outputs": [
    {
     "name": "stdout",
     "output_type": "stream",
     "text": [
      "Training started\n",
      "Epoch 1/1 | 24.96% | Loss: 0.2630 | Samples trained: 14976/60000\n",
      "Epoch 1/1 | 49.92% | Loss: 0.1684 | Samples trained: 29952/60000\n",
      "Epoch 1/1 | 74.88% | Loss: 0.1322 | Samples trained: 44928/60000\n",
      "Epoch 1/1 | 99.84% | Loss: 0.1109 | Samples trained: 59904/60000\n",
      "Epoch 1 complete | Loss: 0.1110\n",
      "Training complete | Net Average Loss: 0.1110 | Total epochs: 1\n",
      "Training started\n",
      "Epoch 1/1 | 24.96% | Loss: 0.5459 | Samples trained: 14976/60000\n",
      "Epoch 1/1 | 49.92% | Loss: 0.3499 | Samples trained: 29952/60000\n",
      "Epoch 1/1 | 74.88% | Loss: 0.2720 | Samples trained: 44928/60000\n",
      "Epoch 1/1 | 99.84% | Loss: 0.2281 | Samples trained: 59904/60000\n",
      "Epoch 1 complete | Loss: 0.2281\n",
      "Training complete | Net Average Loss: 0.2281 | Total epochs: 1\n"
     ]
    },
    {
     "data": {
      "text/plain": [
       "(0.11103286661546832, 0.22812099889749662)"
      ]
     },
     "execution_count": 3,
     "metadata": {},
     "output_type": "execute_result"
    }
   ],
   "source": [
    "backdoor.train(2, epochs=1, verbose=True, device=device)"
   ]
  },
  {
   "cell_type": "code",
   "execution_count": 4,
   "metadata": {},
   "outputs": [
    {
     "name": "stdout",
     "output_type": "stream",
     "text": [
      "Accuracy on Clean | Base 98.57% | Trojan 98.89% | Difference 0.32%\n",
      "Base Accuracy on Poison 1.15% | Attack Success Rate (ASR): 92.80%\n",
      "Average Tensor Distance: 282.28 | Net Tensor Difference 16936666.65\n"
     ]
    },
    {
     "data": {
      "text/plain": [
       "(0.9857, 0.9889, 0.0115, 0.928, 282.27777752685546, 16936666.651611328)"
      ]
     },
     "execution_count": 4,
     "metadata": {},
     "output_type": "execute_result"
    }
   ],
   "source": [
    "backdoor.eval(verbose=True, device=device)"
   ]
  },
  {
   "cell_type": "code",
   "execution_count": 5,
   "metadata": {},
   "outputs": [
    {
     "name": "stdout",
     "output_type": "stream",
     "text": [
      "Accuracy on Poison 92.80% | Likelihood: High\n"
     ]
    },
    {
     "data": {
      "text/plain": [
       "True"
      ]
     },
     "execution_count": 5,
     "metadata": {},
     "output_type": "execute_result"
    }
   ],
   "source": [
    "defense = Defense(backdoor)\n",
    "defense.detect(threshold=0.8, device=device)"
   ]
  },
  {
   "cell_type": "code",
   "execution_count": 6,
   "metadata": {},
   "outputs": [
    {
     "name": "stdout",
     "output_type": "stream",
     "text": [
      "avgpool: AdaptiveAvgPool2d(output_size=(7, 7))\n",
      "drop: Dropout(p=0.5, inplace=False)\n",
      "fc1: Linear(in_features=25088, out_features=4096, bias=True)\n",
      "fc2: Linear(in_features=4096, out_features=4096, bias=True)\n",
      "fc3: Linear(in_features=4096, out_features=10, bias=True)\n",
      "layers: Sequential(\n",
      "  (0): Conv2d(1, 64, kernel_size=(3, 3), stride=(1, 1), padding=(1, 1))\n",
      "  (1): BatchNorm2d(64, eps=1e-05, momentum=0.1, affine=True, track_running_stats=True)\n",
      "  (2): MaxPool2d(kernel_size=(2, 2), stride=2, padding=1, dilation=1, ceil_mode=False)\n",
      "  (3): Conv2d(64, 128, kernel_size=(3, 3), stride=(1, 1), padding=(1, 1))\n",
      "  (4): BatchNorm2d(128, eps=1e-05, momentum=0.1, affine=True, track_running_stats=True)\n",
      "  (5): MaxPool2d(kernel_size=(2, 2), stride=2, padding=1, dilation=1, ceil_mode=False)\n",
      "  (6): Conv2d(128, 256, kernel_size=(3, 3), stride=(1, 1), padding=(1, 1))\n",
      "  (7): BatchNorm2d(256, eps=1e-05, momentum=0.1, affine=True, track_running_stats=True)\n",
      "  (8): Conv2d(256, 256, kernel_size=(3, 3), stride=(1, 1), padding=(1, 1))\n",
      "  (9): BatchNorm2d(256, eps=1e-05, momentum=0.1, affine=True, track_running_stats=True)\n",
      "  (10): MaxPool2d(kernel_size=(2, 2), stride=2, padding=1, dilation=1, ceil_mode=False)\n",
      "  (11): Conv2d(256, 512, kernel_size=(3, 3), stride=(1, 1), padding=(1, 1))\n",
      "  (12): BatchNorm2d(512, eps=1e-05, momentum=0.1, affine=True, track_running_stats=True)\n",
      "  (13): Conv2d(512, 512, kernel_size=(3, 3), stride=(1, 1), padding=(1, 1))\n",
      "  (14): BatchNorm2d(512, eps=1e-05, momentum=0.1, affine=True, track_running_stats=True)\n",
      "  (15): MaxPool2d(kernel_size=(2, 2), stride=2, padding=1, dilation=1, ceil_mode=False)\n",
      "  (16): Conv2d(512, 512, kernel_size=(3, 3), stride=(1, 1), padding=(1, 1))\n",
      "  (17): BatchNorm2d(512, eps=1e-05, momentum=0.1, affine=True, track_running_stats=True)\n",
      "  (18): Conv2d(512, 512, kernel_size=(3, 3), stride=(1, 1), padding=(1, 1))\n",
      "  (19): BatchNorm2d(512, eps=1e-05, momentum=0.1, affine=True, track_running_stats=True)\n",
      "  (20): MaxPool2d(kernel_size=(2, 2), stride=2, padding=1, dilation=1, ceil_mode=False)\n",
      ")\n",
      "layers.0: Conv2d(1, 64, kernel_size=(3, 3), stride=(1, 1), padding=(1, 1))\n",
      "layers.1: BatchNorm2d(64, eps=1e-05, momentum=0.1, affine=True, track_running_stats=True)\n",
      "layers.2: MaxPool2d(kernel_size=(2, 2), stride=2, padding=1, dilation=1, ceil_mode=False)\n",
      "layers.3: Conv2d(64, 128, kernel_size=(3, 3), stride=(1, 1), padding=(1, 1))\n",
      "layers.4: BatchNorm2d(128, eps=1e-05, momentum=0.1, affine=True, track_running_stats=True)\n",
      "layers.5: MaxPool2d(kernel_size=(2, 2), stride=2, padding=1, dilation=1, ceil_mode=False)\n",
      "layers.6: Conv2d(128, 256, kernel_size=(3, 3), stride=(1, 1), padding=(1, 1))\n",
      "layers.7: BatchNorm2d(256, eps=1e-05, momentum=0.1, affine=True, track_running_stats=True)\n",
      "layers.8: Conv2d(256, 256, kernel_size=(3, 3), stride=(1, 1), padding=(1, 1))\n",
      "layers.9: BatchNorm2d(256, eps=1e-05, momentum=0.1, affine=True, track_running_stats=True)\n",
      "layers.10: MaxPool2d(kernel_size=(2, 2), stride=2, padding=1, dilation=1, ceil_mode=False)\n",
      "layers.11: Conv2d(256, 512, kernel_size=(3, 3), stride=(1, 1), padding=(1, 1))\n",
      "layers.12: BatchNorm2d(512, eps=1e-05, momentum=0.1, affine=True, track_running_stats=True)\n",
      "layers.13: Conv2d(512, 512, kernel_size=(3, 3), stride=(1, 1), padding=(1, 1))\n",
      "layers.14: BatchNorm2d(512, eps=1e-05, momentum=0.1, affine=True, track_running_stats=True)\n",
      "layers.15: MaxPool2d(kernel_size=(2, 2), stride=2, padding=1, dilation=1, ceil_mode=False)\n",
      "layers.16: Conv2d(512, 512, kernel_size=(3, 3), stride=(1, 1), padding=(1, 1))\n",
      "layers.17: BatchNorm2d(512, eps=1e-05, momentum=0.1, affine=True, track_running_stats=True)\n",
      "layers.18: Conv2d(512, 512, kernel_size=(3, 3), stride=(1, 1), padding=(1, 1))\n",
      "layers.19: BatchNorm2d(512, eps=1e-05, momentum=0.1, affine=True, track_running_stats=True)\n",
      "layers.20: MaxPool2d(kernel_size=(2, 2), stride=2, padding=1, dilation=1, ceil_mode=False)\n"
     ]
    }
   ],
   "source": [
    "\n",
    "defense.view_named_modules()"
   ]
  },
  {
   "cell_type": "code",
   "execution_count": 7,
   "metadata": {},
   "outputs": [
    {
     "name": "stdout",
     "output_type": "stream",
     "text": [
      "Accuracy on clean | Base 98.57% | Trojan 98.89% | Defense 98.89%\n",
      "Accuracy on Posion | Base 1.15% | Defense 92.80% | Trojan ASR 92.80%\n",
      "Difference from Baseline | Trojan 0.32% | Defense 0.32%\n",
      "Defense Effectiveness | 0.00% no change in ASR\n"
     ]
    },
    {
     "data": {
      "text/plain": [
       "(0.9857, 0.0115, 0.9889, 0.928, 0.9889, 0.928)"
      ]
     },
     "execution_count": 7,
     "metadata": {},
     "output_type": "execute_result"
    }
   ],
   "source": [
    "defense.eval(verbose=True, device=device)"
   ]
  },
  {
   "cell_type": "code",
   "execution_count": 19,
   "metadata": {},
   "outputs": [],
   "source": [
    "defense.prune(['layers.16', 'layers.18'], ['weight'], Prune('ru', amount=0.8))"
   ]
  },
  {
   "cell_type": "code",
   "execution_count": 9,
   "metadata": {},
   "outputs": [
    {
     "name": "stdout",
     "output_type": "stream",
     "text": [
      "Training started\n",
      "Epoch 1/3 | 24.96% | Loss: 0.1117 | Samples trained: 14976/60000\n",
      "Epoch 1/3 | 49.92% | Loss: 0.1084 | Samples trained: 29952/60000\n",
      "Epoch 1/3 | 74.88% | Loss: 0.1078 | Samples trained: 44928/60000\n",
      "Epoch 1/3 | 99.84% | Loss: 0.1042 | Samples trained: 59904/60000\n",
      "Epoch 1 complete | Loss: 0.1042\n",
      "Epoch 2/3 | 24.96% | Loss: 0.1118 | Samples trained: 14976/60000\n",
      "Epoch 2/3 | 49.92% | Loss: 0.1078 | Samples trained: 29952/60000\n",
      "Epoch 2/3 | 74.88% | Loss: 0.1079 | Samples trained: 44928/60000\n",
      "Epoch 2/3 | 99.84% | Loss: 0.1036 | Samples trained: 59904/60000\n",
      "Epoch 2 complete | Loss: 0.1036\n",
      "Epoch 3/3 | 24.96% | Loss: 0.1112 | Samples trained: 14976/60000\n",
      "Epoch 3/3 | 49.92% | Loss: 0.1070 | Samples trained: 29952/60000\n",
      "Epoch 3/3 | 74.88% | Loss: 0.1067 | Samples trained: 44928/60000\n",
      "Epoch 3/3 | 99.84% | Loss: 0.1033 | Samples trained: 59904/60000\n",
      "Epoch 3 complete | Loss: 0.1033\n",
      "Training complete | Net Average Loss: 0.1037 | Total epochs: 3\n"
     ]
    },
    {
     "data": {
      "text/plain": [
       "0.10372725792113277"
      ]
     },
     "execution_count": 9,
     "metadata": {},
     "output_type": "execute_result"
    }
   ],
   "source": [
    "defense.retrain(verbose=True, device=device)"
   ]
  },
  {
   "cell_type": "code",
   "execution_count": 20,
   "metadata": {},
   "outputs": [
    {
     "name": "stdout",
     "output_type": "stream",
     "text": [
      "Accuracy on clean | Base 98.57% | Trojan 98.89% | Defense 9.82%\n",
      "Accuracy on Posion | Base 1.15% | Defense 10.10% | Trojan ASR 92.80%\n",
      "Difference from Baseline | Trojan 0.32% | Defense -88.75%\n",
      "Defense Effectiveness | 82.70% decrease in ASR\n"
     ]
    },
    {
     "data": {
      "text/plain": [
       "(0.9857, 0.0115, 0.9889, 0.928, 0.0982, 0.101)"
      ]
     },
     "execution_count": 20,
     "metadata": {},
     "output_type": "execute_result"
    }
   ],
   "source": [
    "defense.eval(verbose=True, device=device)"
   ]
  },
  {
   "cell_type": "code",
   "execution_count": 21,
   "metadata": {},
   "outputs": [
    {
     "data": {
      "text/plain": [
       "torch.Size([28, 28, 1])"
      ]
     },
     "execution_count": 21,
     "metadata": {},
     "output_type": "execute_result"
    }
   ],
   "source": [
    "backdoor.get_datasets()[3].get_dataloader().dataset[0][0].size()"
   ]
  }
 ],
 "metadata": {
  "kernelspec": {
   "display_name": "Python 3.8.10 ('backdoor_env': venv)",
   "language": "python",
   "name": "python3"
  },
  "language_info": {
   "codemirror_mode": {
    "name": "ipython",
    "version": 3
   },
   "file_extension": ".py",
   "mimetype": "text/x-python",
   "name": "python",
   "nbconvert_exporter": "python",
   "pygments_lexer": "ipython3",
   "version": "3.8.10"
  },
  "orig_nbformat": 4,
  "vscode": {
   "interpreter": {
    "hash": "91f5593089a39d29b7be4682cd00d4ab41e1e0aeef21da075bd20affb91499cc"
   }
  }
 },
 "nbformat": 4,
 "nbformat_minor": 2
}
