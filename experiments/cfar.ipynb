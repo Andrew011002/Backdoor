{
 "cells": [
  {
   "cell_type": "code",
   "execution_count": 1,
   "metadata": {},
   "outputs": [
    {
     "name": "stderr",
     "output_type": "stream",
     "text": [
      "/home/andmholm/Backdoor/backdoor_env/lib/python3.8/site-packages/tqdm/auto.py:22: TqdmWarning: IProgress not found. Please update jupyter and ipywidgets. See https://ipywidgets.readthedocs.io/en/stable/user_install.html\n",
      "  from .autonotebook import tqdm as notebook_tqdm\n",
      "[nltk_data] Downloading package stopwords to\n",
      "[nltk_data]     /home/andmholm/nltk_data...\n",
      "[nltk_data]   Package stopwords is already up-to-date!\n"
     ]
    }
   ],
   "source": [
    "import torch\n",
    "import numpy as np\n",
    "from datagen import *\n",
    "from datasets import load_dataset\n",
    "from modules import NetModule, train, test"
   ]
  },
  {
   "cell_type": "code",
   "execution_count": 2,
   "metadata": {},
   "outputs": [],
   "source": [
    "ent = TextEntity(\"The quick brown fox jumps over the lazy dog\", 1)"
   ]
  },
  {
   "cell_type": "code",
   "execution_count": 3,
   "metadata": {},
   "outputs": [
    {
     "name": "stdout",
     "output_type": "stream",
     "text": [
      "The quick brown fox jumps over the lazy dog\n",
      "['The' 'quick' 'brown' 'fox' 'jumps' 'over' 'the' 'lazy' 'dog']\n",
      "1\n",
      "9\n"
     ]
    }
   ],
   "source": [
    "print(ent.get_text())\n",
    "print(ent.get_data())\n",
    "print(ent.get_label())\n",
    "print(len(ent))"
   ]
  },
  {
   "cell_type": "code",
   "execution_count": 4,
   "metadata": {},
   "outputs": [],
   "source": [
    "patch = TextPatch('Bad set of wordskjsk.;\\. or not')"
   ]
  },
  {
   "cell_type": "code",
   "execution_count": 5,
   "metadata": {},
   "outputs": [
    {
     "name": "stdout",
     "output_type": "stream",
     "text": [
      "Bad set of wordskjsk.;\\. or not\n",
      "['Bad' 'set' 'of' 'wordskjsk.;\\\\.' 'or' 'not']\n",
      "None\n",
      "6\n"
     ]
    }
   ],
   "source": [
    "print(patch.get_text())\n",
    "print(patch.get_data())\n",
    "print(patch.get_label())\n",
    "print(len(patch))"
   ]
  },
  {
   "cell_type": "code",
   "execution_count": 6,
   "metadata": {},
   "outputs": [],
   "source": [
    "lowered = LowerTransform().do(ent)"
   ]
  },
  {
   "cell_type": "code",
   "execution_count": 7,
   "metadata": {},
   "outputs": [
    {
     "name": "stdout",
     "output_type": "stream",
     "text": [
      "the quick brown fox jumps over the lazy dog\n",
      "['the' 'quick' 'brown' 'fox' 'jumps' 'over' 'the' 'lazy' 'dog']\n",
      "1\n",
      "9\n"
     ]
    }
   ],
   "source": [
    "print(lowered.get_text())\n",
    "print(lowered.get_data())\n",
    "print(lowered.get_label())\n",
    "print(len(lowered))"
   ]
  },
  {
   "cell_type": "code",
   "execution_count": 8,
   "metadata": {},
   "outputs": [],
   "source": [
    "cleaned = StopwordsTransform().do(ent)"
   ]
  },
  {
   "cell_type": "code",
   "execution_count": 9,
   "metadata": {},
   "outputs": [
    {
     "name": "stdout",
     "output_type": "stream",
     "text": [
      "quick brown fox jumps lazy dog\n",
      "['quick' 'brown' 'fox' 'jumps' 'lazy' 'dog']\n",
      "1\n",
      "6\n"
     ]
    }
   ],
   "source": [
    "print(cleaned.get_text())\n",
    "print(cleaned.get_data())\n",
    "print(cleaned.get_label())\n",
    "print(len(cleaned))\n"
   ]
  },
  {
   "cell_type": "code",
   "execution_count": 10,
   "metadata": {},
   "outputs": [],
   "source": [
    "merged = InsertMerge(maxinsert=3).do(ent, patch)"
   ]
  },
  {
   "cell_type": "code",
   "execution_count": 11,
   "metadata": {},
   "outputs": [
    {
     "name": "stdout",
     "output_type": "stream",
     "text": [
      "The quick Bad set of wordskjsk.;\\. or not brown fox jumps over the lazy dog\n",
      "['The' 'quick' 'Bad' 'set' 'of' 'wordskjsk.;\\\\.' 'or' 'not' 'brown' 'fox'\n",
      " 'jumps' 'over' 'the' 'lazy' 'dog']\n",
      "1\n",
      "15\n"
     ]
    }
   ],
   "source": [
    "print(merged.get_text())\n",
    "print(merged.get_data())\n",
    "print(merged.get_label())\n",
    "print(len(merged))"
   ]
  },
  {
   "cell_type": "code",
   "execution_count": 12,
   "metadata": {},
   "outputs": [],
   "source": [
    "cleaned_2 = PunctuationTransform().do(merged)"
   ]
  },
  {
   "cell_type": "code",
   "execution_count": 13,
   "metadata": {},
   "outputs": [
    {
     "name": "stdout",
     "output_type": "stream",
     "text": [
      "The quick Bad set of wordskjsk or not brown fox jumps over the lazy dog\n",
      "['The' 'quick' 'Bad' 'set' 'of' 'wordskjsk' 'or' 'not' 'brown' 'fox'\n",
      " 'jumps' 'over' 'the' 'lazy' 'dog']\n",
      "1\n",
      "15\n"
     ]
    }
   ],
   "source": [
    "print(cleaned_2.get_text())\n",
    "print(cleaned_2.get_data())\n",
    "print(cleaned_2.get_label())\n",
    "print(len(cleaned_2))"
   ]
  }
 ],
 "metadata": {
  "kernelspec": {
   "display_name": "Python 3.8.10 ('backdoor_env': venv)",
   "language": "python",
   "name": "python3"
  },
  "language_info": {
   "codemirror_mode": {
    "name": "ipython",
    "version": 3
   },
   "file_extension": ".py",
   "mimetype": "text/x-python",
   "name": "python",
   "nbconvert_exporter": "python",
   "pygments_lexer": "ipython3",
   "version": "3.8.10"
  },
  "orig_nbformat": 4,
  "vscode": {
   "interpreter": {
    "hash": "91f5593089a39d29b7be4682cd00d4ab41e1e0aeef21da075bd20affb91499cc"
   }
  }
 },
 "nbformat": 4,
 "nbformat_minor": 2
}
