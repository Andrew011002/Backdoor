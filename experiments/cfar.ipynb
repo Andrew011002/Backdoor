{
 "cells": [
  {
   "cell_type": "code",
   "execution_count": 1,
   "metadata": {},
   "outputs": [
    {
     "name": "stderr",
     "output_type": "stream",
     "text": [
      "/home/andmholm/Backdoor/backdoor_env/lib/python3.8/site-packages/tqdm/auto.py:22: TqdmWarning: IProgress not found. Please update jupyter and ipywidgets. See https://ipywidgets.readthedocs.io/en/stable/user_install.html\n",
      "  from .autonotebook import tqdm as notebook_tqdm\n"
     ]
    }
   ],
   "source": [
    "import torch\n",
    "import numpy as np\n",
    "from datagen import *\n",
    "from datasets import *\n",
    "from modules import *\n",
    "from backdoor import Backdoor"
   ]
  },
  {
   "cell_type": "code",
   "execution_count": 2,
   "metadata": {},
   "outputs": [],
   "source": [
    "backdoor = Backdoor('convnet', '11-layer', channels=3, classes=10)"
   ]
  },
  {
   "cell_type": "code",
   "execution_count": 3,
   "metadata": {},
   "outputs": [
    {
     "name": "stdout",
     "output_type": "stream",
     "text": [
      "Files already downloaded and verified\n",
      "Files already downloaded and verified\n"
     ]
    }
   ],
   "source": [
    "backdoor.load_data('cfar10', 'image')"
   ]
  },
  {
   "cell_type": "code",
   "execution_count": 4,
   "metadata": {},
   "outputs": [],
   "source": [
    "backdoor.create_models('sgd', 'crossentropy', lr=0.01)"
   ]
  },
  {
   "cell_type": "code",
   "execution_count": 5,
   "metadata": {},
   "outputs": [],
   "source": [
    "patches = ImagePatch((9, 9), 3, 'random').get_patches(len(backdoor.traindata))"
   ]
  },
  {
   "cell_type": "code",
   "execution_count": 6,
   "metadata": {},
   "outputs": [],
   "source": [
    "targets = {0: 1, 1: 2, 2: 3, 3: 4, 4: 5, 5: 6, 6: 7, 7: 8, 8: 9, 9: 0}\n",
    "operations = (None, [RotateTransform()], [LabelTransform(targets)])"
   ]
  },
  {
   "cell_type": "code",
   "execution_count": 7,
   "metadata": {},
   "outputs": [
    {
     "name": "stderr",
     "output_type": "stream",
     "text": [
      "/home/andmholm/Backdoor/experiments/datagen.py:458: VisibleDeprecationWarning: Creating an ndarray from ragged nested sequences (which is a list-or-tuple of lists-or-tuples-or ndarrays with different lengths or shapes) is deprecated. If you meant to do this, you must specify 'dtype=object' when creating the ndarray.\n",
      "  return np.array(modified)\n"
     ]
    }
   ],
   "source": [
    "backdoor.poison(patches, operations, OverlayMerge(select=True), 0.2)"
   ]
  },
  {
   "cell_type": "code",
   "execution_count": 8,
   "metadata": {},
   "outputs": [],
   "source": [
    "device = torch.device('cuda' if torch.cuda.is_available() else 'cpu')"
   ]
  },
  {
   "cell_type": "code",
   "execution_count": 9,
   "metadata": {},
   "outputs": [
    {
     "name": "stdout",
     "output_type": "stream",
     "text": [
      "Net ready for training\n",
      "Training started\n",
      "Epoch 1/1 | 24.95% | Loss: 2.0926 | Samples trained: 12480/50000\n",
      "Epoch 1/1 | 49.90% | Loss: 1.9622 | Samples trained: 24960/50000\n",
      "Epoch 1/1 | 74.86% | Loss: 1.8870 | Samples trained: 37440/50000\n",
      "Epoch 1/1 | 99.81% | Loss: 1.8237 | Samples trained: 49920/50000\n",
      "Epoch 1 complete | Loss: 1.8234\n",
      "Training complete | Net Average Loss: 1.8234 | Total epochs: 1\n",
      "Net ready for training\n",
      "Training started\n",
      "Epoch 1/1 | 24.95% | Loss: 2.1763 | Samples trained: 12480/50000\n",
      "Epoch 1/1 | 49.90% | Loss: 2.0758 | Samples trained: 24960/50000\n",
      "Epoch 1/1 | 74.86% | Loss: 2.0149 | Samples trained: 37440/50000\n",
      "Epoch 1/1 | 99.81% | Loss: 1.9624 | Samples trained: 49920/50000\n",
      "Epoch 1 complete | Loss: 1.9622\n",
      "Training complete | Net Average Loss: 1.9622 | Total epochs: 1\n"
     ]
    },
    {
     "data": {
      "text/plain": [
       "(1.8234093831429021, 1.9621771014964664)"
      ]
     },
     "execution_count": 9,
     "metadata": {},
     "output_type": "execute_result"
    }
   ],
   "source": [
    "backdoor.train('both', epochs=1, verbose=True, device=device)"
   ]
  },
  {
   "cell_type": "code",
   "execution_count": 10,
   "metadata": {},
   "outputs": [
    {
     "name": "stdout",
     "output_type": "stream",
     "text": [
      "Net ready for evaluation\n",
      "Testing started\n",
      "24.92% Testing complete | Loss: 1.6268 | Accuracy: 0.3970\n",
      "49.84% Testing complete | Loss: 1.6407 | Accuracy: 0.3882\n",
      "74.76% Testing complete | Loss: 1.6571 | Accuracy: 0.3789\n",
      "99.68% Testing complete | Loss: 1.6558 | Accuracy: 0.3803\n",
      "Testing complete | Loss: 1.6561 | Accuracy: 0.3801\n",
      "Net ready for evaluation\n",
      "Testing started\n",
      "24.92% Testing complete | Loss: 1.9232 | Accuracy: 0.2416\n",
      "49.84% Testing complete | Loss: 1.9350 | Accuracy: 0.2480\n",
      "74.76% Testing complete | Loss: 1.9364 | Accuracy: 0.2456\n",
      "99.68% Testing complete | Loss: 1.9364 | Accuracy: 0.2433\n",
      "Testing complete | Loss: 1.9370 | Accuracy: 0.2431\n"
     ]
    },
    {
     "data": {
      "text/plain": [
       "(1.6560612345655885, 0.3801, 1.9369513836150734, 0.2431)"
      ]
     },
     "execution_count": 10,
     "metadata": {},
     "output_type": "execute_result"
    }
   ],
   "source": [
    "backdoor.eval(device=device)"
   ]
  }
 ],
 "metadata": {
  "kernelspec": {
   "display_name": "Python 3.8.10 ('backdoor_env': venv)",
   "language": "python",
   "name": "python3"
  },
  "language_info": {
   "codemirror_mode": {
    "name": "ipython",
    "version": 3
   },
   "file_extension": ".py",
   "mimetype": "text/x-python",
   "name": "python",
   "nbconvert_exporter": "python",
   "pygments_lexer": "ipython3",
   "version": "3.8.10"
  },
  "orig_nbformat": 4,
  "vscode": {
   "interpreter": {
    "hash": "91f5593089a39d29b7be4682cd00d4ab41e1e0aeef21da075bd20affb91499cc"
   }
  }
 },
 "nbformat": 4,
 "nbformat_minor": 2
}
