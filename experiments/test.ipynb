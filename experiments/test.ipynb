{
 "cells": [
  {
   "cell_type": "code",
   "execution_count": 1,
   "metadata": {},
   "outputs": [],
   "source": [
    "import numpy as np\n",
    "import pandas as pd\n",
    "import matplotlib.pyplot as plt\n",
    "import poison"
   ]
  },
  {
   "cell_type": "code",
   "execution_count": 2,
   "metadata": {},
   "outputs": [
    {
     "data": {
      "image/png": "[encoded data removed]",
      "text/plain": [
       "<Figure size 432x288 with 1 Axes>"
      ]
     },
     "metadata": {
      "needs_background": "light"
     },
     "output_type": "display_data"
    }
   ],
   "source": [
    "donut = np.zeros((9, 9, 3))\n",
    "donut.T[:, 3: 6, 3: 6] = 255\n",
    "image_1 = poison.BasicImageEntity(donut, 2)\n",
    "image_1.show()"
   ]
  },
  {
   "cell_type": "code",
   "execution_count": 3,
   "metadata": {},
   "outputs": [
    {
     "data": {
      "image/png": "[encoded data removed]",
      "text/plain": [
       "<Figure size 432x288 with 1 Axes>"
      ]
     },
     "metadata": {
      "needs_background": "light"
     },
     "output_type": "display_data"
    }
   ],
   "source": [
    "# creating basic trigger\n",
    "trig_1 = poison.ImageTrigger('random', size=(3,3), rgb=True)\n",
    "trig_1.show()\n"
   ]
  },
  {
   "cell_type": "code",
   "execution_count": 4,
   "metadata": {},
   "outputs": [
    {
     "data": {
      "image/png": "[encoded data removed]",
      "text/plain": [
       "<Figure size 432x288 with 1 Axes>"
      ]
     },
     "metadata": {
      "needs_background": "light"
     },
     "output_type": "display_data"
    }
   ],
   "source": [
    "# rotating the trigger\n",
    "trig_2 = poison.RotateImageTransform().do(trig_1, rotations=1)\n",
    "trig_2.show()\n"
   ]
  },
  {
   "cell_type": "code",
   "execution_count": 5,
   "metadata": {},
   "outputs": [
    {
     "data": {
      "image/png": "[encoded data removed]",
      "text/plain": [
       "<Figure size 432x288 with 1 Axes>"
      ]
     },
     "metadata": {
      "needs_background": "light"
     },
     "output_type": "display_data"
    }
   ],
   "source": [
    "# grayscale the trigger\n",
    "trig_3 = poison.GrayScaleImageTransform().do(trig_1)\n",
    "trig_3.show(cmap='gray')"
   ]
  },
  {
   "cell_type": "code",
   "execution_count": 6,
   "metadata": {},
   "outputs": [
    {
     "data": {
      "image/png": "[encoded data removed]",
      "text/plain": [
       "<Figure size 432x288 with 1 Axes>"
      ]
     },
     "metadata": {
      "needs_background": "light"
     },
     "output_type": "display_data"
    }
   ],
   "source": [
    "# upsacaling the trigger\n",
    "trig_4 = poison.UpScaleImageTransform().do(trig_1, scale_factor=3)\n",
    "trig_4.show()"
   ]
  },
  {
   "cell_type": "code",
   "execution_count": 7,
   "metadata": {},
   "outputs": [
    {
     "data": {
      "image/png": "[encoded data removed]",
      "text/plain": [
       "<Figure size 432x288 with 1 Axes>"
      ]
     },
     "metadata": {
      "needs_background": "light"
     },
     "output_type": "display_data"
    }
   ],
   "source": [
    "# overlaying trigger on image\n",
    "trig_5 = poison.ImageMerge().do(image_1, trig_2)\n",
    "trig_5.show()"
   ]
  },
  {
   "cell_type": "code",
   "execution_count": 8,
   "metadata": {},
   "outputs": [
    {
     "data": {
      "image/png": "[encoded data removed]",
      "text/plain": [
       "<Figure size 432x288 with 1 Axes>"
      ]
     },
     "metadata": {
      "needs_background": "light"
     },
     "output_type": "display_data"
    }
   ],
   "source": [
    "trig_6 = poison.DownScaleImageTransform().do(trig_4, scale_factor=3)\n",
    "trig_6.show()"
   ]
  },
  {
   "cell_type": "code",
   "execution_count": 9,
   "metadata": {},
   "outputs": [
    {
     "name": "stdout",
     "output_type": "stream",
     "text": [
      "Hello my name is not John lmfao.    \n",
      "7\n",
      "['Hello' 'my' 'name' 'is' 'not' 'John' 'lmfao.']\n"
     ]
    }
   ],
   "source": [
    "text = 'Hello my name is not John lmfao.    '\n",
    "text_1 = poison.BasicTextEntity(text, label=1)\n",
    "print(text_1)\n",
    "print(len(text_1))\n",
    "print(text_1.get_data())"
   ]
  },
  {
   "cell_type": "code",
   "execution_count": 10,
   "metadata": {},
   "outputs": [
    {
     "name": "stdout",
     "output_type": "stream",
     "text": [
      "hello my name is not john lmfao.    \n",
      "['hello' 'my' 'name' 'is' 'not' 'john' 'lmfao.']\n"
     ]
    }
   ],
   "source": [
    "text_2 = poison.LowerCaseTextTransform().do(text_1)\n",
    "print(text_2)\n",
    "print(text_2.get_data())"
   ]
  },
  {
   "cell_type": "code",
   "execution_count": 11,
   "metadata": {},
   "outputs": [
    {
     "name": "stdout",
     "output_type": "stream",
     "text": [
      "BATMAN\n",
      "['BATMAN']\n"
     ]
    }
   ],
   "source": [
    "rare_word = poison.RareWordTrigger('batman')\n",
    "rare_word = poison.UpperCaseTextTransform().do(rare_word)\n",
    "print(rare_word)\n",
    "print(rare_word.get_data())"
   ]
  },
  {
   "cell_type": "code",
   "execution_count": 12,
   "metadata": {},
   "outputs": [
    {
     "name": "stdout",
     "output_type": "stream",
     "text": [
      "This is a bad sequence       .\n",
      "['This' 'is' 'a' 'bad' 'sequence' '.']\n"
     ]
    }
   ],
   "source": [
    "text_3 = poison.TextSequenceTrigger('This is a bad text       .')\n",
    "print(text_3)\n",
    "print(text_3.get_data())"
   ]
  },
  {
   "cell_type": "code",
   "execution_count": 13,
   "metadata": {},
   "outputs": [
    {
     "name": "stdout",
     "output_type": "stream",
     "text": [
      "This is a bad sequence\n",
      "['This' 'is' 'a' 'bad' 'sequence']\n",
      "5\n"
     ]
    }
   ],
   "source": [
    "text_4 = poison.RemovePunctuationTextTransform().do(text_3, punctuation={'.'})\n",
    "print(text_4)\n",
    "print(text_4.get_data())\n",
    "print(len(text_4))"
   ]
  },
  {
   "cell_type": "code",
   "execution_count": 14,
   "metadata": {},
   "outputs": [
    {
     "name": "stdout",
     "output_type": "stream",
     "text": [
      "Hello my name is not This is a bad sequen John lmfao.\n",
      "['Hello' 'my' 'name' 'is' 'not' 'This' 'is' 'a' 'bad' 'sequen' 'John'\n",
      " 'lmfao.']\n",
      "12\n"
     ]
    }
   ],
   "source": [
    "text_5 = poison.TextInsertMerge().do(text_1, text_4)\n",
    "print(text_5)\n",
    "print(text_5.get_data())\n",
    "print(len(text_5))"
   ]
  }
 ],
 "metadata": {
  "kernelspec": {
   "display_name": "Python 3.8.10 ('backdoor_env': venv)",
   "language": "python",
   "name": "python3"
  },
  "language_info": {
   "codemirror_mode": {
    "name": "ipython",
    "version": 3
   },
   "file_extension": ".py",
   "mimetype": "text/x-python",
   "name": "python",
   "nbconvert_exporter": "python",
   "pygments_lexer": "ipython3",
   "version": "3.8.10"
  },
  "orig_nbformat": 4,
  "vscode": {
   "interpreter": {
    "hash": "91f5593089a39d29b7be4682cd00d4ab41e1e0aeef21da075bd20affb91499cc"
   }
  }
 },
 "nbformat": 4,
 "nbformat_minor": 2
}
