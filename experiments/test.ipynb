{
 "cells": [
  {
   "cell_type": "code",
   "execution_count": 1,
   "metadata": {},
   "outputs": [],
   "source": [
    "import numpy as np\n",
    "import pandas as pd\n",
    "import matplotlib.pyplot as plt\n",
    "import poison"
   ]
  },
  {
   "cell_type": "code",
   "execution_count": 4,
   "metadata": {},
   "outputs": [
    {
     "data": {
      "text/plain": [
       "array([[[255.,   0.,   0.],\n",
       "        [255.,   0.,   0.],\n",
       "        [255.,   0.,   0.],\n",
       "        [255.,   0.,   0.],\n",
       "        [255.,   0.,   0.],\n",
       "        [255.,   0.,   0.],\n",
       "        [255.,   0.,   0.],\n",
       "        [255.,   0.,   0.],\n",
       "        [255.,   0.,   0.],\n",
       "        [255.,   0.,   0.]],\n",
       "\n",
       "       [[255.,   0.,   0.],\n",
       "        [255.,   0.,   0.],\n",
       "        [255.,   0.,   0.],\n",
       "        [255.,   0.,   0.],\n",
       "        [255.,   0.,   0.],\n",
       "        [255.,   0.,   0.],\n",
       "        [255.,   0.,   0.],\n",
       "        [255.,   0.,   0.],\n",
       "        [255.,   0.,   0.],\n",
       "        [255.,   0.,   0.]],\n",
       "\n",
       "       [[255.,   0.,   0.],\n",
       "        [255.,   0.,   0.],\n",
       "        [255.,   0.,   0.],\n",
       "        [255.,   0.,   0.],\n",
       "        [255.,   0.,   0.],\n",
       "        [255.,   0.,   0.],\n",
       "        [255.,   0.,   0.],\n",
       "        [255.,   0.,   0.],\n",
       "        [255.,   0.,   0.],\n",
       "        [255.,   0.,   0.]],\n",
       "\n",
       "       [[255.,   0.,   0.],\n",
       "        [255.,   0.,   0.],\n",
       "        [255.,   0.,   0.],\n",
       "        [255.,   0.,   0.],\n",
       "        [255.,   0.,   0.],\n",
       "        [255.,   0.,   0.],\n",
       "        [255.,   0.,   0.],\n",
       "        [255.,   0.,   0.],\n",
       "        [255.,   0.,   0.],\n",
       "        [255.,   0.,   0.]],\n",
       "\n",
       "       [[255.,   0.,   0.],\n",
       "        [255.,   0.,   0.],\n",
       "        [255.,   0.,   0.],\n",
       "        [255.,   0.,   0.],\n",
       "        [255.,   0.,   0.],\n",
       "        [255.,   0.,   0.],\n",
       "        [255.,   0.,   0.],\n",
       "        [255.,   0.,   0.],\n",
       "        [255.,   0.,   0.],\n",
       "        [255.,   0.,   0.]],\n",
       "\n",
       "       [[255.,   0.,   0.],\n",
       "        [255.,   0.,   0.],\n",
       "        [255.,   0.,   0.],\n",
       "        [255.,   0.,   0.],\n",
       "        [255.,   0.,   0.],\n",
       "        [255.,   0.,   0.],\n",
       "        [255.,   0.,   0.],\n",
       "        [255.,   0.,   0.],\n",
       "        [255.,   0.,   0.],\n",
       "        [255.,   0.,   0.]],\n",
       "\n",
       "       [[255.,   0.,   0.],\n",
       "        [255.,   0.,   0.],\n",
       "        [255.,   0.,   0.],\n",
       "        [255.,   0.,   0.],\n",
       "        [255.,   0.,   0.],\n",
       "        [255.,   0.,   0.],\n",
       "        [255.,   0.,   0.],\n",
       "        [255.,   0.,   0.],\n",
       "        [255.,   0.,   0.],\n",
       "        [255.,   0.,   0.]],\n",
       "\n",
       "       [[255.,   0.,   0.],\n",
       "        [255.,   0.,   0.],\n",
       "        [255.,   0.,   0.],\n",
       "        [255.,   0.,   0.],\n",
       "        [255.,   0.,   0.],\n",
       "        [255.,   0.,   0.],\n",
       "        [255.,   0.,   0.],\n",
       "        [255.,   0.,   0.],\n",
       "        [255.,   0.,   0.],\n",
       "        [255.,   0.,   0.]],\n",
       "\n",
       "       [[255.,   0.,   0.],\n",
       "        [255.,   0.,   0.],\n",
       "        [255.,   0.,   0.],\n",
       "        [255.,   0.,   0.],\n",
       "        [255.,   0.,   0.],\n",
       "        [255.,   0.,   0.],\n",
       "        [255.,   0.,   0.],\n",
       "        [255.,   0.,   0.],\n",
       "        [255.,   0.,   0.],\n",
       "        [255.,   0.,   0.]],\n",
       "\n",
       "       [[255.,   0.,   0.],\n",
       "        [255.,   0.,   0.],\n",
       "        [255.,   0.,   0.],\n",
       "        [255.,   0.,   0.],\n",
       "        [255.,   0.,   0.],\n",
       "        [255.,   0.,   0.],\n",
       "        [255.,   0.,   0.],\n",
       "        [255.,   0.,   0.],\n",
       "        [255.,   0.,   0.],\n",
       "        [255.,   0.,   0.]]])"
      ]
     },
     "execution_count": 4,
     "metadata": {},
     "output_type": "execute_result"
    }
   ],
   "source": [
    "SquarePatch = poison.ImageTrigger(intensity='red', size=(10, 10), rgb=True) \n",
    "square = SquarePatch.get_data()\n",
    "square"
   ]
  },
  {
   "cell_type": "code",
   "execution_count": 5,
   "metadata": {},
   "outputs": [
    {
     "name": "stderr",
     "output_type": "stream",
     "text": [
      "Clipping input data to the valid range for imshow with RGB data ([0..1] for floats or [0..255] for integers).\n"
     ]
    },
    {
     "data": {
      "text/plain": [
       "<matplotlib.image.AxesImage at 0x7ff15a4bbdf0>"
      ]
     },
     "execution_count": 5,
     "metadata": {},
     "output_type": "execute_result"
    },
    {
     "data": {
      "image/png": "[encoded data removed]",
      "text/plain": [
       "<Figure size 432x288 with 1 Axes>"
      ]
     },
     "metadata": {
      "needs_background": "light"
     },
     "output_type": "display_data"
    }
   ],
   "source": [
    "plt.imshow(square, cmap='rainbow')"
   ]
  }
 ],
 "metadata": {
  "kernelspec": {
   "display_name": "Python 3.8.10 ('backdoor_env': venv)",
   "language": "python",
   "name": "python3"
  },
  "language_info": {
   "codemirror_mode": {
    "name": "ipython",
    "version": 3
   },
   "file_extension": ".py",
   "mimetype": "text/x-python",
   "name": "python",
   "nbconvert_exporter": "python",
   "pygments_lexer": "ipython3",
   "version": "3.8.10"
  },
  "orig_nbformat": 4,
  "vscode": {
   "interpreter": {
    "hash": "91f5593089a39d29b7be4682cd00d4ab41e1e0aeef21da075bd20affb91499cc"
   }
  }
 },
 "nbformat": 4,
 "nbformat_minor": 2
}
