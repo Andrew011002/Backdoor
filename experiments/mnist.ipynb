{
 "cells": [
  {
   "cell_type": "markdown",
   "metadata": {},
   "source": [
    "### MNIST"
   ]
  },
  {
   "cell_type": "code",
   "execution_count": 1,
   "metadata": {},
   "outputs": [
    {
     "name": "stderr",
     "output_type": "stream",
     "text": [
      "/home/andmholm/Backdoor/backdoor_env/lib/python3.8/site-packages/tqdm/auto.py:22: TqdmWarning: IProgress not found. Please update jupyter and ipywidgets. See https://ipywidgets.readthedocs.io/en/stable/user_install.html\n",
      "  from .autonotebook import tqdm as notebook_tqdm\n"
     ]
    }
   ],
   "source": [
    "import numpy as np\n",
    "import matplotlib.pyplot as plt\n",
    "import torch.nn as nn\n",
    "import torchvision\n",
    "import torch.optim as optim\n",
    "from datagen import *\n",
    "from nets import *\n",
    "from backdoor import Backdoor\n",
    "from defense import Defense\n",
    "\n",
    "# move to GPU (if applicable)\n",
    "device = torch.device('cuda' if torch.cuda.is_available() else 'cpu')"
   ]
  },
  {
   "cell_type": "markdown",
   "metadata": {},
   "source": [
    "### Choosing Network and Dataset"
   ]
  },
  {
   "cell_type": "code",
   "execution_count": 2,
   "metadata": {},
   "outputs": [],
   "source": [
    "# choose network configuration and dataset\n",
    "backdoor = Backdoor(VggNet, config='16-layer', channels=1, classes=10, dropout=0.5)\n",
    "backdoor.create_models(optim.SGD, nn.CrossEntropyLoss, lr=0.01)\n",
    "backdoor.load_data(torchvision.datasets.MNIST, ImageEntity)"
   ]
  },
  {
   "cell_type": "markdown",
   "metadata": {},
   "source": [
    "### Poison setup"
   ]
  },
  {
   "cell_type": "code",
   "execution_count": 3,
   "metadata": {},
   "outputs": [],
   "source": [
    "# create patches, target labels, and define transformations/merges \n",
    "patches = ImagePatch((9, 9), 1, 'random').get_patches(len(backdoor))\n",
    "targets = {i : i + 1 if i < 9 else 0 for i in range(10)}\n",
    "transforms = ([ExpandTransform(1)], [RotateTransform()], [LabelTransform(targets)])\n",
    "merge = ImageMerge(select=True)"
   ]
  },
  {
   "cell_type": "markdown",
   "metadata": {},
   "source": [
    "### Poisoning"
   ]
  },
  {
   "cell_type": "code",
   "execution_count": 4,
   "metadata": {},
   "outputs": [],
   "source": [
    "# poison 20% of the data\n",
    "backdoor.poison(patches, transforms, merge, pct=0.2)"
   ]
  },
  {
   "cell_type": "markdown",
   "metadata": {},
   "source": [
    "### Training Base and Trojan Net"
   ]
  },
  {
   "cell_type": "code",
   "execution_count": 5,
   "metadata": {},
   "outputs": [
    {
     "name": "stdout",
     "output_type": "stream",
     "text": [
      "Training started\n",
      "Epoch 1/1 | 24.99% | Loss: 0.2910 | Samples trained: 14992/60000\n",
      "Epoch 1/1 | 49.97% | Loss: 0.1869 | Samples trained: 29984/60000\n",
      "Epoch 1/1 | 74.96% | Loss: 0.1462 | Samples trained: 44976/60000\n",
      "Epoch 1/1 | 99.95% | Loss: 0.1237 | Samples trained: 59968/60000\n",
      "Epoch 1 complete | Loss: 0.1237\n",
      "Training complete | Net Average Loss: 0.1237 | Total epochs: 1\n",
      "Training started\n",
      "Epoch 1/1 | 24.99% | Loss: 0.5477 | Samples trained: 14992/60000\n",
      "Epoch 1/1 | 49.97% | Loss: 0.3561 | Samples trained: 29984/60000\n",
      "Epoch 1/1 | 74.96% | Loss: 0.2793 | Samples trained: 44976/60000\n",
      "Epoch 1/1 | 99.95% | Loss: 0.2321 | Samples trained: 59968/60000\n",
      "Epoch 1 complete | Loss: 0.2319\n",
      "Training complete | Net Average Loss: 0.2319 | Total epochs: 1\n"
     ]
    }
   ],
   "source": [
    "# train the base DNN & the trojan DNN \n",
    "loss = backdoor.train(2, epochs=1, verbose=True, device=device, batch_size=16)"
   ]
  },
  {
   "cell_type": "markdown",
   "metadata": {},
   "source": [
    "### Evaluating Backdoor"
   ]
  },
  {
   "cell_type": "code",
   "execution_count": 6,
   "metadata": {},
   "outputs": [
    {
     "name": "stdout",
     "output_type": "stream",
     "text": [
      "Accuracy on Clean | Base 98.65% | Trojan 98.44% | Difference -0.21%\n",
      "Base Accuracy on Poison 0.88% | Attack Success Rate (ASR): 95.00%\n",
      "Average Tensor Distance: 255.00 | Net Tensor Difference 15300222.53\n"
     ]
    }
   ],
   "source": [
    "# evulate backdoor based on VA & ASR\n",
    "metrics = backdoor.eval(verbose=True, device=device)"
   ]
  },
  {
   "cell_type": "markdown",
   "metadata": {},
   "source": [
    "### Creating a Defense"
   ]
  },
  {
   "cell_type": "code",
   "execution_count": 7,
   "metadata": {},
   "outputs": [],
   "source": [
    "# init the defense\n",
    "defense = Defense(backdoor)"
   ]
  },
  {
   "cell_type": "markdown",
   "metadata": {},
   "source": [
    "### Detection setup"
   ]
  },
  {
   "cell_type": "code",
   "execution_count": 8,
   "metadata": {},
   "outputs": [],
   "source": [
    "# get base & trojan DNN, both clean & poisoned entitysets, sizes ranges to create synthetic patch\n",
    "base, trojan = backdoor.get_net_modules()\n",
    "cleantrain, poisontrain, cleantest, poisontest = backdoor.get_datasets()\n",
    "patch_size_ranges = [(3, 3), (5, 5), (7, 7), (9, 9), (11, 11)]"
   ]
  },
  {
   "cell_type": "markdown",
   "metadata": {},
   "source": [
    "### Detection Base"
   ]
  },
  {
   "cell_type": "code",
   "execution_count": 9,
   "metadata": {},
   "outputs": [
    {
     "name": "stdout",
     "output_type": "stream",
     "text": [
      "Patch size (3, 3) | Synthetic Poison Accuracy 98.58% | Original Accuracy 98.65% | Difference -0.07%\n",
      "Patch size (5, 5) | Synthetic Poison Accuracy 98.25% | Original Accuracy 98.65% | Difference -0.40%\n",
      "Patch size (7, 7) | Synthetic Poison Accuracy 97.32% | Original Accuracy 98.65% | Difference -1.33%\n",
      "Patch size (9, 9) | Synthetic Poison Accuracy 94.76% | Original Accuracy 98.65% | Difference -3.89%\n",
      "Patch size (11, 11) | Synthetic Poison Accuracy 91.21% | Original Accuracy 98.65% | Difference -7.44%\n",
      "Average Accuracy 96.02% | Average Difference -2.63% | Lowest Score: 91.21% | Likihood of Backdoor: Low\n"
     ]
    }
   ],
   "source": [
    "# detect backdoor with 30% of the clean samples poisoned and detect based on a 10% drop in VA for base DNN\n",
    "metrics = defense.detect(base, cleantest, threshold=0.1, size_ranges=patch_size_ranges,  pct=0.3, verbose=True, device=device)"
   ]
  },
  {
   "cell_type": "markdown",
   "metadata": {},
   "source": [
    "### Detection Trojan"
   ]
  },
  {
   "cell_type": "code",
   "execution_count": 10,
   "metadata": {},
   "outputs": [
    {
     "name": "stdout",
     "output_type": "stream",
     "text": [
      "Patch size (3, 3) | Synthetic Poison Accuracy 98.27% | Original Accuracy 98.44% | Difference -0.17%\n",
      "Patch size (5, 5) | Synthetic Poison Accuracy 98.05% | Original Accuracy 98.44% | Difference -0.39%\n",
      "Patch size (7, 7) | Synthetic Poison Accuracy 93.83% | Original Accuracy 98.44% | Difference -4.61%\n",
      "Patch size (9, 9) | Synthetic Poison Accuracy 71.33% | Original Accuracy 98.44% | Difference -27.11%\n",
      "Patch size (11, 11) | Synthetic Poison Accuracy 69.05% | Original Accuracy 98.44% | Difference -29.39%\n",
      "Average Accuracy 86.11% | Average Difference -12.33% | Lowest Score: 69.05% | Likihood of Backdoor: High\n"
     ]
    }
   ],
   "source": [
    "# detect backdoor with 30% of the clean samples poisoned and detect based on a 10% drop in VA for trojan DNN\n",
    "metrics = defense.detect(trojan, cleantest, threshold=0.1, size_ranges=patch_size_ranges,  pct=0.3, verbose=True, device=device)"
   ]
  },
  {
   "cell_type": "markdown",
   "metadata": {},
   "source": [
    "### Blocking Patches setup"
   ]
  },
  {
   "cell_type": "code",
   "execution_count": 11,
   "metadata": {},
   "outputs": [],
   "source": [
    "# create patch to compare variances with in parts of images (same size as patch), define samples to block\n",
    "patch = ImagePatch((10, 10), 1, 'random')\n",
    "n = 5000"
   ]
  },
  {
   "cell_type": "markdown",
   "metadata": {},
   "source": [
    "### Blocking"
   ]
  },
  {
   "cell_type": "code",
   "execution_count": 12,
   "metadata": {},
   "outputs": [],
   "source": [
    "# block poisoned images with average rgb values the same dimensions as the patch\n",
    "blockedloader = defense.block(poisontest, patch, n=n)"
   ]
  },
  {
   "cell_type": "markdown",
   "metadata": {},
   "source": [
    "### Testing after Block Base"
   ]
  },
  {
   "cell_type": "code",
   "execution_count": 13,
   "metadata": {},
   "outputs": [
    {
     "name": "stdout",
     "output_type": "stream",
     "text": [
      "Testing started\n",
      "24.84% Testing complete | Loss: 4.5969 | Accuracy: 0.0441\n",
      "49.68% Testing complete | Loss: 4.5363 | Accuracy: 0.0425\n",
      "74.52% Testing complete | Loss: 4.5544 | Accuracy: 0.0433\n",
      "99.36% Testing complete | Loss: 4.5524 | Accuracy: 0.0439\n",
      "Testing complete | Loss: 4.5513 | Accuracy: 4.42%\n"
     ]
    }
   ],
   "source": [
    "# retest after blocking for base DNN\n",
    "metrics = defense.test(base, blockedloader, verbose=True, device=device)"
   ]
  },
  {
   "cell_type": "markdown",
   "metadata": {},
   "source": [
    "### Testing after Block Trojan"
   ]
  },
  {
   "cell_type": "code",
   "execution_count": 14,
   "metadata": {},
   "outputs": [
    {
     "name": "stdout",
     "output_type": "stream",
     "text": [
      "Testing started\n",
      "24.84% Testing complete | Loss: 0.9353 | Accuracy: 0.7067\n",
      "49.68% Testing complete | Loss: 0.9705 | Accuracy: 0.7027\n",
      "74.52% Testing complete | Loss: 0.9552 | Accuracy: 0.7027\n",
      "99.36% Testing complete | Loss: 0.9411 | Accuracy: 0.7031\n",
      "Testing complete | Loss: 0.9479 | Accuracy: 70.28%\n"
     ]
    }
   ],
   "source": [
    "# retest after blocking for trojan DNN\n",
    "metrics = defense.test(trojan, blockedloader, verbose=True, device=device)"
   ]
  },
  {
   "cell_type": "markdown",
   "metadata": {},
   "source": [
    "### Defense by retraining"
   ]
  },
  {
   "cell_type": "code",
   "execution_count": 15,
   "metadata": {},
   "outputs": [
    {
     "name": "stdout",
     "output_type": "stream",
     "text": [
      "Training started\n",
      "Epoch 1/1 | 24.96% | Loss: 0.1401 | Samples trained: 14976/60000\n",
      "Epoch 1/1 | 49.92% | Loss: 0.1414 | Samples trained: 29952/60000\n",
      "Epoch 1/1 | 74.88% | Loss: 0.1391 | Samples trained: 44928/60000\n",
      "Epoch 1/1 | 99.84% | Loss: 0.1326 | Samples trained: 59904/60000\n",
      "Epoch 1 complete | Loss: 0.1326\n",
      "Training complete | Net Average Loss: 0.1326 | Total epochs: 1\n"
     ]
    }
   ],
   "source": [
    "# get a clean dataloader, reset the defense net module, retrain the defense net model (og trojan model)\n",
    "dataloader = cleantrain.get_dataloader()\n",
    "defense.reset()\n",
    "loss = defense.retrain(dataloader, epochs=1, verbose=True, device=device, batch_size=16)"
   ]
  },
  {
   "cell_type": "markdown",
   "metadata": {},
   "source": [
    "### Evaluation after retraining"
   ]
  },
  {
   "cell_type": "code",
   "execution_count": 16,
   "metadata": {},
   "outputs": [
    {
     "name": "stdout",
     "output_type": "stream",
     "text": [
      "Accuracy on clean | Base 98.65% | Trojan 98.44% | Defense 94.99%\n",
      "Accuracy on Posion | Base 0.88% | Defense 82.15% | Trojan ASR 95.00%\n",
      "Difference from Baseline | Trojan -0.21% | Defense -3.66%\n",
      "Defense Effectiveness | 12.85% decrease in ASR\n"
     ]
    }
   ],
   "source": [
    "# re-evaluate the trojan DNN\n",
    "cleanloader, poisonloader = cleantest.get_dataloader(), poisontest.get_dataloader()\n",
    "metrics = defense.eval(cleanloader, poisonloader, verbose=True, device=device)"
   ]
  },
  {
   "cell_type": "code",
   "execution_count": 17,
   "metadata": {},
   "outputs": [
    {
     "name": "stdout",
     "output_type": "stream",
     "text": [
      "avgpool: AdaptiveAvgPool2d(output_size=(7, 7))\n",
      "drop: Dropout(p=0.5, inplace=False)\n",
      "fc1: Linear(in_features=25088, out_features=4096, bias=True)\n",
      "fc2: Linear(in_features=4096, out_features=4096, bias=True)\n",
      "fc3: Linear(in_features=4096, out_features=10, bias=True)\n",
      "layers: Sequential(\n",
      "  (0): Conv2d(1, 64, kernel_size=(3, 3), stride=(1, 1), padding=(1, 1))\n",
      "  (1): BatchNorm2d(64, eps=1e-05, momentum=0.1, affine=True, track_running_stats=True)\n",
      "  (2): Conv2d(64, 64, kernel_size=(3, 3), stride=(1, 1), padding=(1, 1))\n",
      "  (3): BatchNorm2d(64, eps=1e-05, momentum=0.1, affine=True, track_running_stats=True)\n",
      "  (4): MaxPool2d(kernel_size=(2, 2), stride=2, padding=1, dilation=1, ceil_mode=False)\n",
      "  (5): Conv2d(64, 128, kernel_size=(3, 3), stride=(1, 1), padding=(1, 1))\n",
      "  (6): BatchNorm2d(128, eps=1e-05, momentum=0.1, affine=True, track_running_stats=True)\n",
      "  (7): Conv2d(128, 128, kernel_size=(3, 3), stride=(1, 1), padding=(1, 1))\n",
      "  (8): BatchNorm2d(128, eps=1e-05, momentum=0.1, affine=True, track_running_stats=True)\n",
      "  (9): MaxPool2d(kernel_size=(2, 2), stride=2, padding=1, dilation=1, ceil_mode=False)\n",
      "  (10): Conv2d(128, 256, kernel_size=(3, 3), stride=(1, 1), padding=(1, 1))\n",
      "  (11): BatchNorm2d(256, eps=1e-05, momentum=0.1, affine=True, track_running_stats=True)\n",
      "  (12): Conv2d(256, 256, kernel_size=(3, 3), stride=(1, 1), padding=(1, 1))\n",
      "  (13): BatchNorm2d(256, eps=1e-05, momentum=0.1, affine=True, track_running_stats=True)\n",
      "  (14): Conv2d(256, 256, kernel_size=(3, 3), stride=(1, 1), padding=(1, 1))\n",
      "  (15): BatchNorm2d(256, eps=1e-05, momentum=0.1, affine=True, track_running_stats=True)\n",
      "  (16): MaxPool2d(kernel_size=(2, 2), stride=2, padding=1, dilation=1, ceil_mode=False)\n",
      "  (17): Conv2d(256, 512, kernel_size=(3, 3), stride=(1, 1), padding=(1, 1))\n",
      "  (18): BatchNorm2d(512, eps=1e-05, momentum=0.1, affine=True, track_running_stats=True)\n",
      "  (19): Conv2d(512, 512, kernel_size=(3, 3), stride=(1, 1), padding=(1, 1))\n",
      "  (20): BatchNorm2d(512, eps=1e-05, momentum=0.1, affine=True, track_running_stats=True)\n",
      "  (21): Conv2d(512, 512, kernel_size=(3, 3), stride=(1, 1), padding=(1, 1))\n",
      "  (22): BatchNorm2d(512, eps=1e-05, momentum=0.1, affine=True, track_running_stats=True)\n",
      "  (23): MaxPool2d(kernel_size=(2, 2), stride=2, padding=1, dilation=1, ceil_mode=False)\n",
      "  (24): Conv2d(512, 512, kernel_size=(3, 3), stride=(1, 1), padding=(1, 1))\n",
      "  (25): BatchNorm2d(512, eps=1e-05, momentum=0.1, affine=True, track_running_stats=True)\n",
      "  (26): Conv2d(512, 512, kernel_size=(3, 3), stride=(1, 1), padding=(1, 1))\n",
      "  (27): BatchNorm2d(512, eps=1e-05, momentum=0.1, affine=True, track_running_stats=True)\n",
      "  (28): Conv2d(512, 512, kernel_size=(3, 3), stride=(1, 1), padding=(1, 1))\n",
      "  (29): BatchNorm2d(512, eps=1e-05, momentum=0.1, affine=True, track_running_stats=True)\n",
      "  (30): MaxPool2d(kernel_size=(2, 2), stride=2, padding=1, dilation=1, ceil_mode=False)\n",
      ")\n",
      "layers.0: Conv2d(1, 64, kernel_size=(3, 3), stride=(1, 1), padding=(1, 1))\n",
      "layers.1: BatchNorm2d(64, eps=1e-05, momentum=0.1, affine=True, track_running_stats=True)\n",
      "layers.2: Conv2d(64, 64, kernel_size=(3, 3), stride=(1, 1), padding=(1, 1))\n",
      "layers.3: BatchNorm2d(64, eps=1e-05, momentum=0.1, affine=True, track_running_stats=True)\n",
      "layers.4: MaxPool2d(kernel_size=(2, 2), stride=2, padding=1, dilation=1, ceil_mode=False)\n",
      "layers.5: Conv2d(64, 128, kernel_size=(3, 3), stride=(1, 1), padding=(1, 1))\n",
      "layers.6: BatchNorm2d(128, eps=1e-05, momentum=0.1, affine=True, track_running_stats=True)\n",
      "layers.7: Conv2d(128, 128, kernel_size=(3, 3), stride=(1, 1), padding=(1, 1))\n",
      "layers.8: BatchNorm2d(128, eps=1e-05, momentum=0.1, affine=True, track_running_stats=True)\n",
      "layers.9: MaxPool2d(kernel_size=(2, 2), stride=2, padding=1, dilation=1, ceil_mode=False)\n",
      "layers.10: Conv2d(128, 256, kernel_size=(3, 3), stride=(1, 1), padding=(1, 1))\n",
      "layers.11: BatchNorm2d(256, eps=1e-05, momentum=0.1, affine=True, track_running_stats=True)\n",
      "layers.12: Conv2d(256, 256, kernel_size=(3, 3), stride=(1, 1), padding=(1, 1))\n",
      "layers.13: BatchNorm2d(256, eps=1e-05, momentum=0.1, affine=True, track_running_stats=True)\n",
      "layers.14: Conv2d(256, 256, kernel_size=(3, 3), stride=(1, 1), padding=(1, 1))\n",
      "layers.15: BatchNorm2d(256, eps=1e-05, momentum=0.1, affine=True, track_running_stats=True)\n",
      "layers.16: MaxPool2d(kernel_size=(2, 2), stride=2, padding=1, dilation=1, ceil_mode=False)\n",
      "layers.17: Conv2d(256, 512, kernel_size=(3, 3), stride=(1, 1), padding=(1, 1))\n",
      "layers.18: BatchNorm2d(512, eps=1e-05, momentum=0.1, affine=True, track_running_stats=True)\n",
      "layers.19: Conv2d(512, 512, kernel_size=(3, 3), stride=(1, 1), padding=(1, 1))\n",
      "layers.20: BatchNorm2d(512, eps=1e-05, momentum=0.1, affine=True, track_running_stats=True)\n",
      "layers.21: Conv2d(512, 512, kernel_size=(3, 3), stride=(1, 1), padding=(1, 1))\n",
      "layers.22: BatchNorm2d(512, eps=1e-05, momentum=0.1, affine=True, track_running_stats=True)\n",
      "layers.23: MaxPool2d(kernel_size=(2, 2), stride=2, padding=1, dilation=1, ceil_mode=False)\n",
      "layers.24: Conv2d(512, 512, kernel_size=(3, 3), stride=(1, 1), padding=(1, 1))\n",
      "layers.25: BatchNorm2d(512, eps=1e-05, momentum=0.1, affine=True, track_running_stats=True)\n",
      "layers.26: Conv2d(512, 512, kernel_size=(3, 3), stride=(1, 1), padding=(1, 1))\n",
      "layers.27: BatchNorm2d(512, eps=1e-05, momentum=0.1, affine=True, track_running_stats=True)\n",
      "layers.28: Conv2d(512, 512, kernel_size=(3, 3), stride=(1, 1), padding=(1, 1))\n",
      "layers.29: BatchNorm2d(512, eps=1e-05, momentum=0.1, affine=True, track_running_stats=True)\n",
      "layers.30: MaxPool2d(kernel_size=(2, 2), stride=2, padding=1, dilation=1, ceil_mode=False)\n"
     ]
    }
   ],
   "source": [
    "defense.view_named_modules()"
   ]
  },
  {
   "cell_type": "markdown",
   "metadata": {},
   "source": [
    "### Pruning setup"
   ]
  },
  {
   "cell_type": "code",
   "execution_count": 18,
   "metadata": {},
   "outputs": [],
   "source": [
    "# determine layers to prune, decide percent of neurons to prune, reset the defense (original trojan DNN)\n",
    "layers = ['layers.28', 'layers.26', 'layers.24', 'layers.21']\n",
    "amount = 0.5\n",
    "defense.reset()"
   ]
  },
  {
   "cell_type": "markdown",
   "metadata": {},
   "source": [
    "### Pruning based on l-Infinity norm of weights from layers"
   ]
  },
  {
   "cell_type": "code",
   "execution_count": 19,
   "metadata": {},
   "outputs": [],
   "source": [
    "# prune 50% the weights of last 4 convolutional layers based on the l-Infinity norm\n",
    "defense.prune(layers, amount)"
   ]
  },
  {
   "cell_type": "markdown",
   "metadata": {},
   "source": [
    "### Evaluation after prune"
   ]
  },
  {
   "cell_type": "code",
   "execution_count": 20,
   "metadata": {},
   "outputs": [
    {
     "name": "stdout",
     "output_type": "stream",
     "text": [
      "Accuracy on clean | Base 98.65% | Trojan 98.44% | Defense 8.92%\n",
      "Accuracy on Posion | Base 0.88% | Defense 9.82% | Trojan ASR 95.00%\n",
      "Difference from Baseline | Trojan -0.21% | Defense -89.73%\n",
      "Defense Effectiveness | 85.18% decrease in ASR\n"
     ]
    }
   ],
   "source": [
    "# evaluate the model after pruning\n",
    "metrics = defense.eval(cleanloader, poisonloader, verbose=True, device=device)"
   ]
  },
  {
   "cell_type": "markdown",
   "metadata": {},
   "source": [
    "### Retraining to recover"
   ]
  },
  {
   "cell_type": "code",
   "execution_count": 21,
   "metadata": {},
   "outputs": [
    {
     "name": "stdout",
     "output_type": "stream",
     "text": [
      "Training started\n",
      "Epoch 1/1 | 24.96% | Loss: 0.5925 | Samples trained: 14976/60000\n",
      "Epoch 1/1 | 49.92% | Loss: 0.5923 | Samples trained: 29952/60000\n",
      "Epoch 1/1 | 74.88% | Loss: 0.5905 | Samples trained: 44928/60000\n",
      "Epoch 1/1 | 99.84% | Loss: 0.5867 | Samples trained: 59904/60000\n",
      "Epoch 1 complete | Loss: 0.5867\n",
      "Training complete | Net Average Loss: 0.5867 | Total epochs: 1\n"
     ]
    }
   ],
   "source": [
    "# retrain to recover\n",
    "loss = defense.retrain(dataloader, epochs=1, verbose=True, device=device, batch_size=16)"
   ]
  },
  {
   "cell_type": "markdown",
   "metadata": {},
   "source": [
    "### Evaluation after retraining"
   ]
  },
  {
   "cell_type": "code",
   "execution_count": 22,
   "metadata": {},
   "outputs": [
    {
     "name": "stdout",
     "output_type": "stream",
     "text": [
      "Accuracy on clean | Base 98.65% | Trojan 98.44% | Defense 93.84%\n",
      "Accuracy on Posion | Base 0.88% | Defense 24.60% | Trojan ASR 95.00%\n",
      "Difference from Baseline | Trojan -0.21% | Defense -4.81%\n",
      "Defense Effectiveness | 70.40% decrease in ASR\n"
     ]
    }
   ],
   "source": [
    "metrics = defense.eval(cleanloader, poisonloader, verbose=True, device=device)"
   ]
  }
 ],
 "metadata": {
  "kernelspec": {
   "display_name": "Python 3.8.10 ('backdoor_env': venv)",
   "language": "python",
   "name": "python3"
  },
  "language_info": {
   "codemirror_mode": {
    "name": "ipython",
    "version": 3
   },
   "file_extension": ".py",
   "mimetype": "text/x-python",
   "name": "python",
   "nbconvert_exporter": "python",
   "pygments_lexer": "ipython3",
   "version": "3.8.10"
  },
  "orig_nbformat": 4,
  "vscode": {
   "interpreter": {
    "hash": "91f5593089a39d29b7be4682cd00d4ab41e1e0aeef21da075bd20affb91499cc"
   }
  }
 },
 "nbformat": 4,
 "nbformat_minor": 2
}
