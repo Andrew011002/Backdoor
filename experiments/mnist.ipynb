{
 "cells": [
  {
   "cell_type": "markdown",
   "metadata": {},
   "source": [
    "### MNIST"
   ]
  },
  {
   "cell_type": "code",
   "execution_count": 1,
   "metadata": {},
   "outputs": [
    {
     "name": "stderr",
     "output_type": "stream",
     "text": [
      "/home/andmholm/Backdoor/backdoor_env/lib/python3.8/site-packages/tqdm/auto.py:22: TqdmWarning: IProgress not found. Please update jupyter and ipywidgets. See https://ipywidgets.readthedocs.io/en/stable/user_install.html\n",
      "  from .autonotebook import tqdm as notebook_tqdm\n"
     ]
    }
   ],
   "source": [
    "import numpy as np\n",
    "import matplotlib.pyplot as plt\n",
    "import torch.nn as nn\n",
    "import torchvision\n",
    "import torch.optim as optim\n",
    "from datagen import *\n",
    "from nets import *\n",
    "from backdoor import Backdoor\n",
    "from defense import Defense\n",
    "\n",
    "# move to GPU (if applicable)\n",
    "device = torch.device('cuda' if torch.cuda.is_available() else 'cpu')"
   ]
  },
  {
   "cell_type": "markdown",
   "metadata": {},
   "source": [
    "### Choosing Network and Dataset"
   ]
  },
  {
   "cell_type": "code",
   "execution_count": 2,
   "metadata": {},
   "outputs": [],
   "source": [
    "# choose network configuration and dataset\n",
    "backdoor = Backdoor(VggNet, config='16-layer', channels=1, classes=10, dropout=0.5)\n",
    "backdoor.create_models(optim.SGD, nn.CrossEntropyLoss, lr=0.01)\n",
    "backdoor.load_data(torchvision.datasets.MNIST, ImageEntity)"
   ]
  },
  {
   "cell_type": "markdown",
   "metadata": {},
   "source": [
    "### Poison setup"
   ]
  },
  {
   "cell_type": "code",
   "execution_count": 3,
   "metadata": {},
   "outputs": [],
   "source": [
    "# create patches, target labels, and define transformations/merges \n",
    "patches = ImagePatch((9, 9), 1, 'random').get_patches(len(backdoor))\n",
    "targets = {i : i + 1 if i < 9 else 0 for i in range(10)}\n",
    "transforms = ([ExpandTransform(1)], [RotateTransform()], [LabelTransform(targets)])\n",
    "merge = ImageMerge(select=True)"
   ]
  },
  {
   "cell_type": "markdown",
   "metadata": {},
   "source": [
    "### Poisoning"
   ]
  },
  {
   "cell_type": "code",
   "execution_count": 4,
   "metadata": {},
   "outputs": [],
   "source": [
    "# poison 20% of the data\n",
    "backdoor.poison(patches, transforms, merge, pct=0.2)"
   ]
  },
  {
   "cell_type": "markdown",
   "metadata": {},
   "source": [
    "### Training Base and Trojan Net"
   ]
  },
  {
   "cell_type": "code",
   "execution_count": 5,
   "metadata": {},
   "outputs": [
    {
     "name": "stdout",
     "output_type": "stream",
     "text": [
      "Training started\n",
      "Epoch 1/1 | 24.99% | Loss: 0.2906 | Samples trained: 14992/60000\n",
      "Epoch 1/1 | 49.97% | Loss: 0.1887 | Samples trained: 29984/60000\n",
      "Epoch 1/1 | 74.96% | Loss: 0.1485 | Samples trained: 44976/60000\n",
      "Epoch 1/1 | 99.95% | Loss: 0.1260 | Samples trained: 59968/60000\n",
      "Epoch 1 complete | Loss: 0.1259\n",
      "Training complete | Net Average Loss: 0.1259 | Total epochs: 1\n",
      "Training started\n",
      "Epoch 1/1 | 24.99% | Loss: 0.5536 | Samples trained: 14992/60000\n",
      "Epoch 1/1 | 49.97% | Loss: 0.3588 | Samples trained: 29984/60000\n",
      "Epoch 1/1 | 74.96% | Loss: 0.2826 | Samples trained: 44976/60000\n",
      "Epoch 1/1 | 99.95% | Loss: 0.2372 | Samples trained: 59968/60000\n",
      "Epoch 1 complete | Loss: 0.2372\n",
      "Training complete | Net Average Loss: 0.2372 | Total epochs: 1\n"
     ]
    }
   ],
   "source": [
    "# train the base DNN & the trojan DNN \n",
    "loss = backdoor.train(2, epochs=1, verbose=True, device=device, batch_size=16)"
   ]
  },
  {
   "cell_type": "markdown",
   "metadata": {},
   "source": [
    "### Evaluating Backdoor"
   ]
  },
  {
   "cell_type": "code",
   "execution_count": 6,
   "metadata": {},
   "outputs": [
    {
     "name": "stdout",
     "output_type": "stream",
     "text": [
      "Accuracy on Clean | Base 98.89% | Trojan 98.82% | Difference -0.07%\n",
      "Base Accuracy on Poison 0.64% | Attack Success Rate (ASR): 93.53%\n",
      "Average Tensor Distance: 247.67 | Net Tensor Difference 14859982.38\n"
     ]
    }
   ],
   "source": [
    "# evulate backdoor based on VA & ASR\n",
    "metrics = backdoor.eval(verbose=True, device=device)"
   ]
  },
  {
   "cell_type": "markdown",
   "metadata": {},
   "source": [
    "### Creating a Defense"
   ]
  },
  {
   "cell_type": "code",
   "execution_count": 7,
   "metadata": {},
   "outputs": [],
   "source": [
    "# init the defense\n",
    "defense = Defense(backdoor)"
   ]
  },
  {
   "cell_type": "markdown",
   "metadata": {},
   "source": [
    "### Detection setup"
   ]
  },
  {
   "cell_type": "code",
   "execution_count": 8,
   "metadata": {},
   "outputs": [],
   "source": [
    "# get base & trojan DNN, both clean & poisoned entitysets, sizes ranges to create synthetic patch\n",
    "base, trojan = backdoor.get_net_modules()\n",
    "cleantrain, poisontrain, cleantest, poisontest = backdoor.get_datasets()\n",
    "patch_size_ranges = [(3, 3), (5, 5), (7, 7), (9, 9), (11, 11)]"
   ]
  },
  {
   "cell_type": "markdown",
   "metadata": {},
   "source": [
    "### Detection Base"
   ]
  },
  {
   "cell_type": "code",
   "execution_count": 9,
   "metadata": {},
   "outputs": [
    {
     "name": "stdout",
     "output_type": "stream",
     "text": [
      "Patch size (3, 3) | Synthetic Poison Accuracy 98.78% | Original Accuracy 98.89% | Difference -0.11%\n",
      "Patch size (5, 5) | Synthetic Poison Accuracy 98.22% | Original Accuracy 98.89% | Difference -0.67%\n",
      "Patch size (7, 7) | Synthetic Poison Accuracy 97.36% | Original Accuracy 98.89% | Difference -1.53%\n",
      "Patch size (9, 9) | Synthetic Poison Accuracy 96.10% | Original Accuracy 98.89% | Difference -2.79%\n",
      "Patch size (11, 11) | Synthetic Poison Accuracy 93.33% | Original Accuracy 98.89% | Difference -5.56%\n",
      "Average Accuracy 96.76% | Average Difference -2.13% | Lowest Score: 93.33% | Likihood of Backdoor: Low\n"
     ]
    }
   ],
   "source": [
    "# detect backdoor with 30% of the clean samples poisoned and detect based on a 10% drop in VA for base DNN\n",
    "metrics = defense.detect(base, cleantest, threshold=0.1, size_ranges=patch_size_ranges,  pct=0.3, verbose=True, device=device)"
   ]
  },
  {
   "cell_type": "markdown",
   "metadata": {},
   "source": [
    "### Detection Trojan"
   ]
  },
  {
   "cell_type": "code",
   "execution_count": 10,
   "metadata": {},
   "outputs": [
    {
     "name": "stdout",
     "output_type": "stream",
     "text": [
      "Patch size (3, 3) | Synthetic Poison Accuracy 98.70% | Original Accuracy 98.82% | Difference -0.12%\n",
      "Patch size (5, 5) | Synthetic Poison Accuracy 98.60% | Original Accuracy 98.82% | Difference -0.22%\n",
      "Patch size (7, 7) | Synthetic Poison Accuracy 92.90% | Original Accuracy 98.82% | Difference -5.92%\n",
      "Patch size (9, 9) | Synthetic Poison Accuracy 69.73% | Original Accuracy 98.82% | Difference -29.09%\n",
      "Patch size (11, 11) | Synthetic Poison Accuracy 69.39% | Original Accuracy 98.82% | Difference -29.43%\n",
      "Average Accuracy 85.86% | Average Difference -12.96% | Lowest Score: 69.39% | Likihood of Backdoor: High\n"
     ]
    }
   ],
   "source": [
    "# detect backdoor with 30% of the clean samples poisoned and detect based on a 10% drop in VA for trojan DNN\n",
    "metrics = defense.detect(trojan, cleantest, threshold=0.1, size_ranges=patch_size_ranges,  pct=0.3, verbose=True, device=device)"
   ]
  },
  {
   "cell_type": "markdown",
   "metadata": {},
   "source": [
    "### Blocking Patches setup"
   ]
  },
  {
   "cell_type": "code",
   "execution_count": 11,
   "metadata": {},
   "outputs": [],
   "source": [
    "# reverse labels (for research VA purposes), create patch to compare variances with in parts of images (same size as patch), define samples to block\n",
    "labels = {i : i - 1 if i > 0 else 9 for i in range(10)}\n",
    "patch = ImagePatch((10, 10), 1, 'random')\n",
    "n = 5000"
   ]
  },
  {
   "cell_type": "markdown",
   "metadata": {},
   "source": [
    "### Blocking"
   ]
  },
  {
   "cell_type": "code",
   "execution_count": 12,
   "metadata": {},
   "outputs": [],
   "source": [
    "# block poisoned images with average rgb values the same dimensions as the patch\n",
    "blockedloader = defense.block(poisontest, patch, labels, n)"
   ]
  },
  {
   "cell_type": "markdown",
   "metadata": {},
   "source": [
    "### Testing after Block Base"
   ]
  },
  {
   "cell_type": "code",
   "execution_count": 13,
   "metadata": {},
   "outputs": [
    {
     "name": "stdout",
     "output_type": "stream",
     "text": [
      "Testing started\n",
      "24.84% Testing complete | Loss: 1.2047 | Accuracy: 0.6002\n",
      "49.68% Testing complete | Loss: 1.2828 | Accuracy: 0.5825\n",
      "74.52% Testing complete | Loss: 1.2886 | Accuracy: 0.5841\n",
      "99.36% Testing complete | Loss: 1.2978 | Accuracy: 0.5793\n",
      "Testing complete | Loss: 1.2981 | Accuracy: 57.96%\n"
     ]
    }
   ],
   "source": [
    "# retest after blocking for base DNN\n",
    "metrics = defense.test(base, blockedloader, verbose=True, device=device)"
   ]
  },
  {
   "cell_type": "markdown",
   "metadata": {},
   "source": [
    "### Testing after Block Trojan"
   ]
  },
  {
   "cell_type": "code",
   "execution_count": 14,
   "metadata": {},
   "outputs": [
    {
     "name": "stdout",
     "output_type": "stream",
     "text": [
      "Testing started\n",
      "24.84% Testing complete | Loss: 5.1464 | Accuracy: 0.0449\n",
      "49.68% Testing complete | Loss: 5.1579 | Accuracy: 0.0405\n",
      "74.52% Testing complete | Loss: 5.1565 | Accuracy: 0.0422\n",
      "99.36% Testing complete | Loss: 5.1742 | Accuracy: 0.0423\n",
      "Testing complete | Loss: 5.1815 | Accuracy: 4.22%\n"
     ]
    }
   ],
   "source": [
    "# retest after blocking for trojan DNN\n",
    "metrics = defense.test(trojan, blockedloader, verbose=True, device=device)"
   ]
  },
  {
   "cell_type": "markdown",
   "metadata": {},
   "source": [
    "### Defense by retraining"
   ]
  },
  {
   "cell_type": "code",
   "execution_count": 15,
   "metadata": {},
   "outputs": [
    {
     "name": "stdout",
     "output_type": "stream",
     "text": [
      "Training started\n",
      "Epoch 1/1 | 24.96% | Loss: 0.0855 | Samples trained: 14976/60000\n",
      "Epoch 1/1 | 49.92% | Loss: 0.0781 | Samples trained: 29952/60000\n",
      "Epoch 1/1 | 74.88% | Loss: 0.0766 | Samples trained: 44928/60000\n",
      "Epoch 1/1 | 99.84% | Loss: 0.0731 | Samples trained: 59904/60000\n",
      "Epoch 1 complete | Loss: 0.0731\n",
      "Training complete | Net Average Loss: 0.0731 | Total epochs: 1\n"
     ]
    }
   ],
   "source": [
    "# get a clean dataloader, reset the defense net module, retrain the defense net model (og trojan model)\n",
    "dataloader = cleantrain.get_dataloader()\n",
    "defense.reset()\n",
    "loss = defense.retrain(dataloader, epochs=1, verbose=True, device=device, batch_size=16)"
   ]
  },
  {
   "cell_type": "markdown",
   "metadata": {},
   "source": [
    "### Evaluation after retraining"
   ]
  },
  {
   "cell_type": "code",
   "execution_count": 16,
   "metadata": {},
   "outputs": [
    {
     "name": "stdout",
     "output_type": "stream",
     "text": [
      "Accuracy on clean | Base 98.89% | Trojan 98.82% | Defense 97.67%\n",
      "Accuracy on Posion | Base 0.64% | Defense 88.58% | Trojan ASR 93.53%\n",
      "Difference from Baseline | Trojan -0.07% | Defense -1.22%\n",
      "Defense Effectiveness | 4.95% decrease in ASR\n"
     ]
    }
   ],
   "source": [
    "# re-evaluate the trojan DNN\n",
    "cleanloader, poisonloader = cleantest.get_dataloader(), poisontest.get_dataloader()\n",
    "metrics = defense.eval(cleanloader, poisonloader, verbose=True, device=device)"
   ]
  },
  {
   "cell_type": "code",
   "execution_count": null,
   "metadata": {},
   "outputs": [],
   "source": [
    "defense.view_named_modules()"
   ]
  },
  {
   "cell_type": "markdown",
   "metadata": {},
   "source": [
    "### Pruning setup"
   ]
  },
  {
   "cell_type": "code",
   "execution_count": 18,
   "metadata": {},
   "outputs": [],
   "source": [
    "# determine layers to prune, decide percent of neurons to prune, reset the defense (original trojan DNN)\n",
    "layers = ['layers.28', 'layers.26', 'layers.24', 'layers.21']\n",
    "amount = 0.5\n",
    "defense.reset()"
   ]
  },
  {
   "cell_type": "markdown",
   "metadata": {},
   "source": [
    "### Pruning based on l-Infinity norm of weights from layers"
   ]
  },
  {
   "cell_type": "code",
   "execution_count": 19,
   "metadata": {},
   "outputs": [],
   "source": [
    "# prune 50% the weights of last 4 convolutional layers based on the l-Infinity norm\n",
    "defense.prune(layers, amount)"
   ]
  },
  {
   "cell_type": "markdown",
   "metadata": {},
   "source": [
    "### Evaluation after prune"
   ]
  },
  {
   "cell_type": "code",
   "execution_count": 20,
   "metadata": {},
   "outputs": [
    {
     "name": "stdout",
     "output_type": "stream",
     "text": [
      "Accuracy on clean | Base 98.89% | Trojan 98.82% | Defense 10.32%\n",
      "Accuracy on Posion | Base 0.64% | Defense 12.39% | Trojan ASR 93.53%\n",
      "Difference from Baseline | Trojan -0.07% | Defense -88.57%\n",
      "Defense Effectiveness | 81.14% decrease in ASR\n"
     ]
    }
   ],
   "source": [
    "# evaluate the model after pruning\n",
    "metrics = defense.eval(cleanloader, poisonloader, verbose=True, device=device)"
   ]
  },
  {
   "cell_type": "markdown",
   "metadata": {},
   "source": [
    "### Retraining to recover"
   ]
  },
  {
   "cell_type": "code",
   "execution_count": 21,
   "metadata": {},
   "outputs": [
    {
     "name": "stdout",
     "output_type": "stream",
     "text": [
      "Training started\n",
      "Epoch 1/1 | 24.96% | Loss: 1.2171 | Samples trained: 14976/60000\n",
      "Epoch 1/1 | 49.92% | Loss: 1.2169 | Samples trained: 29952/60000\n",
      "Epoch 1/1 | 74.88% | Loss: 1.2174 | Samples trained: 44928/60000\n",
      "Epoch 1/1 | 99.84% | Loss: 1.2149 | Samples trained: 59904/60000\n",
      "Epoch 1 complete | Loss: 1.2149\n",
      "Training complete | Net Average Loss: 1.2149 | Total epochs: 1\n"
     ]
    }
   ],
   "source": [
    "# retrain to recover\n",
    "loss = defense.retrain(dataloader, epochs=1, verbose=True, device=device, batch_size=16)"
   ]
  },
  {
   "cell_type": "markdown",
   "metadata": {},
   "source": [
    "### Evaluation after retraining"
   ]
  },
  {
   "cell_type": "code",
   "execution_count": 22,
   "metadata": {},
   "outputs": [
    {
     "name": "stdout",
     "output_type": "stream",
     "text": [
      "Accuracy on clean | Base 98.89% | Trojan 98.82% | Defense 87.67%\n",
      "Accuracy on Posion | Base 0.64% | Defense 29.75% | Trojan ASR 93.53%\n",
      "Difference from Baseline | Trojan -0.07% | Defense -11.22%\n",
      "Defense Effectiveness | 63.78% decrease in ASR\n"
     ]
    }
   ],
   "source": [
    "metrics = defense.eval(cleanloader, poisonloader, verbose=True, device=device)"
   ]
  }
 ],
 "metadata": {
  "kernelspec": {
   "display_name": "Python 3.8.10 ('backdoor_env': venv)",
   "language": "python",
   "name": "python3"
  },
  "language_info": {
   "codemirror_mode": {
    "name": "ipython",
    "version": 3
   },
   "file_extension": ".py",
   "mimetype": "text/x-python",
   "name": "python",
   "nbconvert_exporter": "python",
   "pygments_lexer": "ipython3",
   "version": "3.8.10"
  },
  "orig_nbformat": 4,
  "vscode": {
   "interpreter": {
    "hash": "91f5593089a39d29b7be4682cd00d4ab41e1e0aeef21da075bd20affb91499cc"
   }
  }
 },
 "nbformat": 4,
 "nbformat_minor": 2
}
