{
 "cells": [
  {
   "cell_type": "markdown",
   "metadata": {},
   "source": [
    "### MNIST"
   ]
  },
  {
   "cell_type": "code",
   "execution_count": 1,
   "metadata": {},
   "outputs": [
    {
     "name": "stderr",
     "output_type": "stream",
     "text": [
      "/home/andmholm/Backdoor/backdoor_env/lib/python3.8/site-packages/tqdm/auto.py:22: TqdmWarning: IProgress not found. Please update jupyter and ipywidgets. See https://ipywidgets.readthedocs.io/en/stable/user_install.html\n",
      "  from .autonotebook import tqdm as notebook_tqdm\n"
     ]
    }
   ],
   "source": [
    "import numpy as np\n",
    "import matplotlib.pyplot as plt\n",
    "import torch.nn as nn\n",
    "import torchvision\n",
    "import torch.optim as optim\n",
    "from datagen import *\n",
    "from nets import *\n",
    "from backdoor import Backdoor\n",
    "from defense import Defense\n",
    "\n",
    "# move to GPU (if applicable)\n",
    "device = torch.device('cuda' if torch.cuda.is_available() else 'cpu')"
   ]
  },
  {
   "cell_type": "markdown",
   "metadata": {},
   "source": [
    "### Choosing Network and Dataset"
   ]
  },
  {
   "cell_type": "code",
   "execution_count": 2,
   "metadata": {},
   "outputs": [],
   "source": [
    "# choose network configuration and dataset\n",
    "backdoor = Backdoor(VggNet, config='16-layer', channels=1, classes=10, dropout=0.5)\n",
    "backdoor.create_models(optim.SGD, nn.CrossEntropyLoss, lr=0.01)\n",
    "backdoor.load_data(torchvision.datasets.MNIST, ImageEntity)"
   ]
  },
  {
   "cell_type": "markdown",
   "metadata": {},
   "source": [
    "### Poison setup"
   ]
  },
  {
   "cell_type": "code",
   "execution_count": 3,
   "metadata": {},
   "outputs": [],
   "source": [
    "# create patches, target labels, and define transformations/merges \n",
    "patches = ImagePatch((9, 9), 1, 'random').get_patches(len(backdoor))\n",
    "targets = {i : i + 1 if i < 9 else 0 for i in range(10)}\n",
    "transforms = ([ExpandTransform(1)], [RotateTransform()], [LabelTransform(targets)])\n",
    "merge = ImageMerge(select=True)"
   ]
  },
  {
   "cell_type": "markdown",
   "metadata": {},
   "source": [
    "### Poisoning"
   ]
  },
  {
   "cell_type": "code",
   "execution_count": 4,
   "metadata": {},
   "outputs": [],
   "source": [
    "# poison 20% of the data\n",
    "backdoor.poison(patches, transforms, merge, pct=0.2)"
   ]
  },
  {
   "cell_type": "markdown",
   "metadata": {},
   "source": [
    "### Training Base and Trojan Net"
   ]
  },
  {
   "cell_type": "code",
   "execution_count": 5,
   "metadata": {},
   "outputs": [
    {
     "name": "stdout",
     "output_type": "stream",
     "text": [
      "Training started\n",
      "Epoch 1/1 | 24.99% | Loss: 0.2832 | Samples trained: 14992/60000\n",
      "Epoch 1/1 | 49.97% | Loss: 0.1837 | Samples trained: 29984/60000\n",
      "Epoch 1/1 | 74.96% | Loss: 0.1452 | Samples trained: 44976/60000\n",
      "Epoch 1/1 | 99.95% | Loss: 0.1235 | Samples trained: 59968/60000\n",
      "Epoch 1 complete | Loss: 0.1234\n",
      "Training complete | Net Average Loss: 0.1234 | Total epochs: 1\n",
      "Training started\n"
     ]
    },
    {
     "ename": "RuntimeError",
     "evalue": "CUDA out of memory. Tried to allocate 392.00 MiB (GPU 0; 9.78 GiB total capacity; 1.61 GiB already allocated; 109.94 MiB free; 1.63 GiB reserved in total by PyTorch) If reserved memory is >> allocated memory try setting max_split_size_mb to avoid fragmentation.  See documentation for Memory Management and PYTORCH_CUDA_ALLOC_CONF",
     "output_type": "error",
     "traceback": [
      "\u001b[0;31m---------------------------------------------------------------------------\u001b[0m",
      "\u001b[0;31mRuntimeError\u001b[0m                              Traceback (most recent call last)",
      "\u001b[1;32m/home/andmholm/Backdoor/experiments/mnist.ipynb Cell 10\u001b[0m in \u001b[0;36m<cell line: 2>\u001b[0;34m()\u001b[0m\n\u001b[1;32m      <a href='vscode-notebook-cell://ssh-remote%2Btrojai.luddy.indiana.edu/home/andmholm/Backdoor/experiments/mnist.ipynb#ch0000009vscode-remote?line=0'>1</a>\u001b[0m \u001b[39m# train the base DNN & the trojan DNN \u001b[39;00m\n\u001b[0;32m----> <a href='vscode-notebook-cell://ssh-remote%2Btrojai.luddy.indiana.edu/home/andmholm/Backdoor/experiments/mnist.ipynb#ch0000009vscode-remote?line=1'>2</a>\u001b[0m loss \u001b[39m=\u001b[39m backdoor\u001b[39m.\u001b[39;49mtrain(\u001b[39m2\u001b[39;49m, epochs\u001b[39m=\u001b[39;49m\u001b[39m1\u001b[39;49m, verbose\u001b[39m=\u001b[39;49m\u001b[39mTrue\u001b[39;49;00m, device\u001b[39m=\u001b[39;49mdevice, batch_size\u001b[39m=\u001b[39;49m\u001b[39m16\u001b[39;49m)\n",
      "File \u001b[0;32m~/Backdoor/experiments/backdoor.py:178\u001b[0m, in \u001b[0;36mBackdoor.train\u001b[0;34m(self, net, epochs, verbose, device, **dataloader_kwargs)\u001b[0m\n\u001b[1;32m    176\u001b[0m     \u001b[39m# poison trainloader\u001b[39;00m\n\u001b[1;32m    177\u001b[0m     trainloader \u001b[39m=\u001b[39m \u001b[39mself\u001b[39m\u001b[39m.\u001b[39mpoisontrain\u001b[39m.\u001b[39mget_dataloader(\u001b[39m*\u001b[39m\u001b[39m*\u001b[39mdataloader_kwargs)\n\u001b[0;32m--> 178\u001b[0m     losses[\u001b[39m1\u001b[39m] \u001b[39m=\u001b[39m train(\u001b[39mself\u001b[39;49m\u001b[39m.\u001b[39;49mtrojan, trainloader, epochs, verbose, device)\n\u001b[1;32m    179\u001b[0m \u001b[39melse\u001b[39;00m:\n\u001b[1;32m    180\u001b[0m     \u001b[39mraise\u001b[39;00m \u001b[39mValueError\u001b[39;00m(\u001b[39m'\u001b[39m\u001b[39minvalid int keys [0: base, 1: trojan, 2: both]\u001b[39m\u001b[39m'\u001b[39m)\n",
      "File \u001b[0;32m~/Backdoor/experiments/modules.py:256\u001b[0m, in \u001b[0;36mtrain\u001b[0;34m(net_module, trainloader, epochs, verbose, device)\u001b[0m\n\u001b[1;32m    254\u001b[0m \u001b[39m# compute gradients\u001b[39;00m\n\u001b[1;32m    255\u001b[0m net_module\u001b[39m.\u001b[39moptimizer\u001b[39m.\u001b[39mzero_grad()\n\u001b[0;32m--> 256\u001b[0m loss\u001b[39m.\u001b[39;49mbackward()\n\u001b[1;32m    257\u001b[0m net_module\u001b[39m.\u001b[39moptimizer\u001b[39m.\u001b[39mstep()\n\u001b[1;32m    258\u001b[0m \u001b[39m# accumulate avg loss for this batch\u001b[39;00m\n",
      "File \u001b[0;32m~/Backdoor/backdoor_env/lib/python3.8/site-packages/torch/_tensor.py:396\u001b[0m, in \u001b[0;36mTensor.backward\u001b[0;34m(self, gradient, retain_graph, create_graph, inputs)\u001b[0m\n\u001b[1;32m    387\u001b[0m \u001b[39mif\u001b[39;00m has_torch_function_unary(\u001b[39mself\u001b[39m):\n\u001b[1;32m    388\u001b[0m     \u001b[39mreturn\u001b[39;00m handle_torch_function(\n\u001b[1;32m    389\u001b[0m         Tensor\u001b[39m.\u001b[39mbackward,\n\u001b[1;32m    390\u001b[0m         (\u001b[39mself\u001b[39m,),\n\u001b[0;32m   (...)\u001b[0m\n\u001b[1;32m    394\u001b[0m         create_graph\u001b[39m=\u001b[39mcreate_graph,\n\u001b[1;32m    395\u001b[0m         inputs\u001b[39m=\u001b[39minputs)\n\u001b[0;32m--> 396\u001b[0m torch\u001b[39m.\u001b[39;49mautograd\u001b[39m.\u001b[39;49mbackward(\u001b[39mself\u001b[39;49m, gradient, retain_graph, create_graph, inputs\u001b[39m=\u001b[39;49minputs)\n",
      "File \u001b[0;32m~/Backdoor/backdoor_env/lib/python3.8/site-packages/torch/autograd/__init__.py:173\u001b[0m, in \u001b[0;36mbackward\u001b[0;34m(tensors, grad_tensors, retain_graph, create_graph, grad_variables, inputs)\u001b[0m\n\u001b[1;32m    168\u001b[0m     retain_graph \u001b[39m=\u001b[39m create_graph\n\u001b[1;32m    170\u001b[0m \u001b[39m# The reason we repeat same the comment below is that\u001b[39;00m\n\u001b[1;32m    171\u001b[0m \u001b[39m# some Python versions print out the first line of a multi-line function\u001b[39;00m\n\u001b[1;32m    172\u001b[0m \u001b[39m# calls in the traceback and some print out the last line\u001b[39;00m\n\u001b[0;32m--> 173\u001b[0m Variable\u001b[39m.\u001b[39;49m_execution_engine\u001b[39m.\u001b[39;49mrun_backward(  \u001b[39m# Calls into the C++ engine to run the backward pass\u001b[39;49;00m\n\u001b[1;32m    174\u001b[0m     tensors, grad_tensors_, retain_graph, create_graph, inputs,\n\u001b[1;32m    175\u001b[0m     allow_unreachable\u001b[39m=\u001b[39;49m\u001b[39mTrue\u001b[39;49;00m, accumulate_grad\u001b[39m=\u001b[39;49m\u001b[39mTrue\u001b[39;49;00m)\n",
      "\u001b[0;31mRuntimeError\u001b[0m: CUDA out of memory. Tried to allocate 392.00 MiB (GPU 0; 9.78 GiB total capacity; 1.61 GiB already allocated; 109.94 MiB free; 1.63 GiB reserved in total by PyTorch) If reserved memory is >> allocated memory try setting max_split_size_mb to avoid fragmentation.  See documentation for Memory Management and PYTORCH_CUDA_ALLOC_CONF"
     ]
    }
   ],
   "source": [
    "# train the base DNN & the trojan DNN \n",
    "loss = backdoor.train(2, epochs=1, verbose=True, device=device, batch_size=16)"
   ]
  },
  {
   "cell_type": "markdown",
   "metadata": {},
   "source": [
    "### Evaluating Backdoor"
   ]
  },
  {
   "cell_type": "code",
   "execution_count": null,
   "metadata": {},
   "outputs": [
    {
     "name": "stdout",
     "output_type": "stream",
     "text": [
      "Accuracy on Clean | Base 98.64% | Trojan 98.62% | Difference -0.02%\n",
      "Base Accuracy on Poison 0.53% | Attack Success Rate (ASR): 95.07%\n",
      "Average Tensor Distance: 234.22 | Net Tensor Difference 14053063.53\n"
     ]
    }
   ],
   "source": [
    "# evulate backdoor based on VA & ASR\n",
    "metrics = backdoor.eval(verbose=True, device=device)"
   ]
  },
  {
   "cell_type": "markdown",
   "metadata": {},
   "source": [
    "### Creating a Defense"
   ]
  },
  {
   "cell_type": "code",
   "execution_count": null,
   "metadata": {},
   "outputs": [],
   "source": [
    "# init the defense\n",
    "defense = Defense(backdoor)"
   ]
  },
  {
   "cell_type": "markdown",
   "metadata": {},
   "source": [
    "### Detection setup"
   ]
  },
  {
   "cell_type": "code",
   "execution_count": null,
   "metadata": {},
   "outputs": [],
   "source": [
    "# get base & trojan DNN, both clean & poisoned entitysets, sizes ranges to create synthetic patch\n",
    "base, trojan = backdoor.get_net_modules()\n",
    "cleantrain, poisontrain, cleantest, poisontest = backdoor.get_datasets()\n",
    "patch_size_ranges = [(3, 3), (5, 5), (7, 7), (9, 9), (11, 11)]"
   ]
  },
  {
   "cell_type": "markdown",
   "metadata": {},
   "source": [
    "### Detection Base"
   ]
  },
  {
   "cell_type": "code",
   "execution_count": null,
   "metadata": {},
   "outputs": [
    {
     "name": "stdout",
     "output_type": "stream",
     "text": [
      "Patch size (3, 3) | Synthetic Poison Accuracy 98.54% | Original Accuracy 98.64% | Difference -0.10%\n",
      "Patch size (5, 5) | Synthetic Poison Accuracy 97.91% | Original Accuracy 98.64% | Difference -0.73%\n",
      "Patch size (7, 7) | Synthetic Poison Accuracy 96.81% | Original Accuracy 98.64% | Difference -1.83%\n",
      "Patch size (9, 9) | Synthetic Poison Accuracy 95.20% | Original Accuracy 98.64% | Difference -3.44%\n",
      "Patch size (11, 11) | Synthetic Poison Accuracy 92.55% | Original Accuracy 98.64% | Difference -6.09%\n",
      "Average Accuracy 96.20% | Average Difference -2.44% | Lowest Score: 92.55% | Likihood of Backdoor: Low\n"
     ]
    }
   ],
   "source": [
    "# detect backdoor with 30% of the clean samples poisoned and detect based on a 10% drop in VA for base DNN\n",
    "metrics = defense.detect(base, cleantest, threshold=0.1, size_ranges=patch_size_ranges,  pct=0.3, verbose=True, device=device)"
   ]
  },
  {
   "cell_type": "markdown",
   "metadata": {},
   "source": [
    "### Detection Trojan"
   ]
  },
  {
   "cell_type": "code",
   "execution_count": null,
   "metadata": {},
   "outputs": [
    {
     "name": "stdout",
     "output_type": "stream",
     "text": [
      "Patch size (3, 3) | Synthetic Poison Accuracy 98.43% | Original Accuracy 98.62% | Difference -0.19%\n",
      "Patch size (5, 5) | Synthetic Poison Accuracy 96.84% | Original Accuracy 98.62% | Difference -1.78%\n",
      "Patch size (7, 7) | Synthetic Poison Accuracy 84.93% | Original Accuracy 98.62% | Difference -13.69%\n",
      "Patch size (9, 9) | Synthetic Poison Accuracy 69.42% | Original Accuracy 98.62% | Difference -29.20%\n",
      "Patch size (11, 11) | Synthetic Poison Accuracy 69.28% | Original Accuracy 98.62% | Difference -29.34%\n",
      "Average Accuracy 83.78% | Average Difference -14.84% | Lowest Score: 69.28% | Likihood of Backdoor: High\n"
     ]
    }
   ],
   "source": [
    "# detect backdoor with 30% of the clean samples poisoned and detect based on a 10% drop in VA for trojan DNN\n",
    "metrics = defense.detect(trojan, cleantest, threshold=0.1, size_ranges=patch_size_ranges,  pct=0.3, verbose=True, device=device)"
   ]
  },
  {
   "cell_type": "markdown",
   "metadata": {},
   "source": [
    "### Blocking Patches setup"
   ]
  },
  {
   "cell_type": "code",
   "execution_count": null,
   "metadata": {},
   "outputs": [],
   "source": [
    "# create patch to compare variances with in parts of images (same size as patch), define samples to block\n",
    "patch = ImagePatch((10, 10), 1, 'random')\n",
    "n = 5000"
   ]
  },
  {
   "cell_type": "markdown",
   "metadata": {},
   "source": [
    "### Blocking"
   ]
  },
  {
   "cell_type": "code",
   "execution_count": null,
   "metadata": {},
   "outputs": [],
   "source": [
    "# block poisoned images with average rgb values the same dimensions as the patch\n",
    "blockedloader = defense.block(poisontest, patch, n=n)"
   ]
  },
  {
   "cell_type": "markdown",
   "metadata": {},
   "source": [
    "### Testing after Block Base"
   ]
  },
  {
   "cell_type": "code",
   "execution_count": null,
   "metadata": {},
   "outputs": [
    {
     "name": "stdout",
     "output_type": "stream",
     "text": [
      "Testing started\n",
      "24.84% Testing complete | Loss: 4.7976 | Accuracy: 0.0385\n",
      "49.68% Testing complete | Loss: 4.7474 | Accuracy: 0.0409\n",
      "74.52% Testing complete | Loss: 4.7837 | Accuracy: 0.0393\n",
      "99.36% Testing complete | Loss: 4.7441 | Accuracy: 0.0439\n",
      "Testing complete | Loss: 4.7426 | Accuracy: 4.38%\n"
     ]
    }
   ],
   "source": [
    "# retest after blocking for base DNN\n",
    "metrics = defense.test(base, blockedloader, verbose=True, device=device)"
   ]
  },
  {
   "cell_type": "markdown",
   "metadata": {},
   "source": [
    "### Testing after Block Trojan"
   ]
  },
  {
   "cell_type": "code",
   "execution_count": null,
   "metadata": {},
   "outputs": [
    {
     "name": "stdout",
     "output_type": "stream",
     "text": [
      "Testing started\n",
      "24.84% Testing complete | Loss: 1.0572 | Accuracy: 0.6907\n",
      "49.68% Testing complete | Loss: 1.1024 | Accuracy: 0.6755\n",
      "74.52% Testing complete | Loss: 1.1047 | Accuracy: 0.6760\n",
      "99.36% Testing complete | Loss: 1.0982 | Accuracy: 0.6773\n",
      "Testing complete | Loss: 1.1007 | Accuracy: 67.72%\n"
     ]
    }
   ],
   "source": [
    "# retest after blocking for trojan DNN\n",
    "metrics = defense.test(trojan, blockedloader, verbose=True, device=device)"
   ]
  },
  {
   "cell_type": "markdown",
   "metadata": {},
   "source": [
    "### Defense by retraining"
   ]
  },
  {
   "cell_type": "code",
   "execution_count": null,
   "metadata": {},
   "outputs": [
    {
     "name": "stdout",
     "output_type": "stream",
     "text": [
      "Training started\n",
      "Epoch 1/1 | 24.96% | Loss: 0.2696 | Samples trained: 14976/60000\n",
      "Epoch 1/1 | 49.92% | Loss: 0.2679 | Samples trained: 29952/60000\n",
      "Epoch 1/1 | 74.88% | Loss: 0.2661 | Samples trained: 44928/60000\n",
      "Epoch 1/1 | 99.84% | Loss: 0.2626 | Samples trained: 59904/60000\n",
      "Epoch 1 complete | Loss: 0.2626\n",
      "Training complete | Net Average Loss: 0.2626 | Total epochs: 1\n"
     ]
    }
   ],
   "source": [
    "# get a clean dataloader, reset the defense net module, retrain the defense net model (og trojan model)\n",
    "dataloader = cleantrain.get_dataloader()\n",
    "defense.reset()\n",
    "loss = defense.retrain(dataloader, epochs=1, verbose=True, device=device, batch_size=16)"
   ]
  },
  {
   "cell_type": "markdown",
   "metadata": {},
   "source": [
    "### Evaluation after retraining"
   ]
  },
  {
   "cell_type": "code",
   "execution_count": null,
   "metadata": {},
   "outputs": [
    {
     "name": "stdout",
     "output_type": "stream",
     "text": [
      "Accuracy on clean | Base 98.64% | Trojan 98.62% | Defense 90.34%\n",
      "Accuracy on Posion | Base 0.53% | Defense 84.98% | Trojan ASR 95.07%\n",
      "Difference from Baseline | Trojan -0.02% | Defense -8.30%\n",
      "Defense Effectiveness | 10.09% decrease in ASR\n"
     ]
    }
   ],
   "source": [
    "# re-evaluate the trojan DNN\n",
    "cleanloader, poisonloader = cleantest.get_dataloader(), poisontest.get_dataloader()\n",
    "metrics = defense.eval(cleanloader, poisonloader, verbose=True, device=device)"
   ]
  },
  {
   "cell_type": "code",
   "execution_count": null,
   "metadata": {},
   "outputs": [
    {
     "name": "stdout",
     "output_type": "stream",
     "text": [
      "avgpool: AdaptiveAvgPool2d(output_size=(7, 7))\n",
      "drop: Dropout(p=0.5, inplace=False)\n",
      "fc1: Linear(in_features=25088, out_features=4096, bias=True)\n",
      "fc2: Linear(in_features=4096, out_features=4096, bias=True)\n",
      "fc3: Linear(in_features=4096, out_features=10, bias=True)\n",
      "layers: Sequential(\n",
      "  (0): Conv2d(1, 64, kernel_size=(3, 3), stride=(1, 1), padding=(1, 1))\n",
      "  (1): BatchNorm2d(64, eps=1e-05, momentum=0.1, affine=True, track_running_stats=True)\n",
      "  (2): Conv2d(64, 64, kernel_size=(3, 3), stride=(1, 1), padding=(1, 1))\n",
      "  (3): BatchNorm2d(64, eps=1e-05, momentum=0.1, affine=True, track_running_stats=True)\n",
      "  (4): MaxPool2d(kernel_size=(2, 2), stride=2, padding=1, dilation=1, ceil_mode=False)\n",
      "  (5): Conv2d(64, 128, kernel_size=(3, 3), stride=(1, 1), padding=(1, 1))\n",
      "  (6): BatchNorm2d(128, eps=1e-05, momentum=0.1, affine=True, track_running_stats=True)\n",
      "  (7): Conv2d(128, 128, kernel_size=(3, 3), stride=(1, 1), padding=(1, 1))\n",
      "  (8): BatchNorm2d(128, eps=1e-05, momentum=0.1, affine=True, track_running_stats=True)\n",
      "  (9): MaxPool2d(kernel_size=(2, 2), stride=2, padding=1, dilation=1, ceil_mode=False)\n",
      "  (10): Conv2d(128, 256, kernel_size=(3, 3), stride=(1, 1), padding=(1, 1))\n",
      "  (11): BatchNorm2d(256, eps=1e-05, momentum=0.1, affine=True, track_running_stats=True)\n",
      "  (12): Conv2d(256, 256, kernel_size=(3, 3), stride=(1, 1), padding=(1, 1))\n",
      "  (13): BatchNorm2d(256, eps=1e-05, momentum=0.1, affine=True, track_running_stats=True)\n",
      "  (14): Conv2d(256, 256, kernel_size=(3, 3), stride=(1, 1), padding=(1, 1))\n",
      "  (15): BatchNorm2d(256, eps=1e-05, momentum=0.1, affine=True, track_running_stats=True)\n",
      "  (16): MaxPool2d(kernel_size=(2, 2), stride=2, padding=1, dilation=1, ceil_mode=False)\n",
      "  (17): Conv2d(256, 512, kernel_size=(3, 3), stride=(1, 1), padding=(1, 1))\n",
      "  (18): BatchNorm2d(512, eps=1e-05, momentum=0.1, affine=True, track_running_stats=True)\n",
      "  (19): Conv2d(512, 512, kernel_size=(3, 3), stride=(1, 1), padding=(1, 1))\n",
      "  (20): BatchNorm2d(512, eps=1e-05, momentum=0.1, affine=True, track_running_stats=True)\n",
      "  (21): Conv2d(512, 512, kernel_size=(3, 3), stride=(1, 1), padding=(1, 1))\n",
      "  (22): BatchNorm2d(512, eps=1e-05, momentum=0.1, affine=True, track_running_stats=True)\n",
      "  (23): MaxPool2d(kernel_size=(2, 2), stride=2, padding=1, dilation=1, ceil_mode=False)\n",
      "  (24): Conv2d(512, 512, kernel_size=(3, 3), stride=(1, 1), padding=(1, 1))\n",
      "  (25): BatchNorm2d(512, eps=1e-05, momentum=0.1, affine=True, track_running_stats=True)\n",
      "  (26): Conv2d(512, 512, kernel_size=(3, 3), stride=(1, 1), padding=(1, 1))\n",
      "  (27): BatchNorm2d(512, eps=1e-05, momentum=0.1, affine=True, track_running_stats=True)\n",
      "  (28): Conv2d(512, 512, kernel_size=(3, 3), stride=(1, 1), padding=(1, 1))\n",
      "  (29): BatchNorm2d(512, eps=1e-05, momentum=0.1, affine=True, track_running_stats=True)\n",
      "  (30): MaxPool2d(kernel_size=(2, 2), stride=2, padding=1, dilation=1, ceil_mode=False)\n",
      ")\n",
      "layers.0: Conv2d(1, 64, kernel_size=(3, 3), stride=(1, 1), padding=(1, 1))\n",
      "layers.1: BatchNorm2d(64, eps=1e-05, momentum=0.1, affine=True, track_running_stats=True)\n",
      "layers.2: Conv2d(64, 64, kernel_size=(3, 3), stride=(1, 1), padding=(1, 1))\n",
      "layers.3: BatchNorm2d(64, eps=1e-05, momentum=0.1, affine=True, track_running_stats=True)\n",
      "layers.4: MaxPool2d(kernel_size=(2, 2), stride=2, padding=1, dilation=1, ceil_mode=False)\n",
      "layers.5: Conv2d(64, 128, kernel_size=(3, 3), stride=(1, 1), padding=(1, 1))\n",
      "layers.6: BatchNorm2d(128, eps=1e-05, momentum=0.1, affine=True, track_running_stats=True)\n",
      "layers.7: Conv2d(128, 128, kernel_size=(3, 3), stride=(1, 1), padding=(1, 1))\n",
      "layers.8: BatchNorm2d(128, eps=1e-05, momentum=0.1, affine=True, track_running_stats=True)\n",
      "layers.9: MaxPool2d(kernel_size=(2, 2), stride=2, padding=1, dilation=1, ceil_mode=False)\n",
      "layers.10: Conv2d(128, 256, kernel_size=(3, 3), stride=(1, 1), padding=(1, 1))\n",
      "layers.11: BatchNorm2d(256, eps=1e-05, momentum=0.1, affine=True, track_running_stats=True)\n",
      "layers.12: Conv2d(256, 256, kernel_size=(3, 3), stride=(1, 1), padding=(1, 1))\n",
      "layers.13: BatchNorm2d(256, eps=1e-05, momentum=0.1, affine=True, track_running_stats=True)\n",
      "layers.14: Conv2d(256, 256, kernel_size=(3, 3), stride=(1, 1), padding=(1, 1))\n",
      "layers.15: BatchNorm2d(256, eps=1e-05, momentum=0.1, affine=True, track_running_stats=True)\n",
      "layers.16: MaxPool2d(kernel_size=(2, 2), stride=2, padding=1, dilation=1, ceil_mode=False)\n",
      "layers.17: Conv2d(256, 512, kernel_size=(3, 3), stride=(1, 1), padding=(1, 1))\n",
      "layers.18: BatchNorm2d(512, eps=1e-05, momentum=0.1, affine=True, track_running_stats=True)\n",
      "layers.19: Conv2d(512, 512, kernel_size=(3, 3), stride=(1, 1), padding=(1, 1))\n",
      "layers.20: BatchNorm2d(512, eps=1e-05, momentum=0.1, affine=True, track_running_stats=True)\n",
      "layers.21: Conv2d(512, 512, kernel_size=(3, 3), stride=(1, 1), padding=(1, 1))\n",
      "layers.22: BatchNorm2d(512, eps=1e-05, momentum=0.1, affine=True, track_running_stats=True)\n",
      "layers.23: MaxPool2d(kernel_size=(2, 2), stride=2, padding=1, dilation=1, ceil_mode=False)\n",
      "layers.24: Conv2d(512, 512, kernel_size=(3, 3), stride=(1, 1), padding=(1, 1))\n",
      "layers.25: BatchNorm2d(512, eps=1e-05, momentum=0.1, affine=True, track_running_stats=True)\n",
      "layers.26: Conv2d(512, 512, kernel_size=(3, 3), stride=(1, 1), padding=(1, 1))\n",
      "layers.27: BatchNorm2d(512, eps=1e-05, momentum=0.1, affine=True, track_running_stats=True)\n",
      "layers.28: Conv2d(512, 512, kernel_size=(3, 3), stride=(1, 1), padding=(1, 1))\n",
      "layers.29: BatchNorm2d(512, eps=1e-05, momentum=0.1, affine=True, track_running_stats=True)\n",
      "layers.30: MaxPool2d(kernel_size=(2, 2), stride=2, padding=1, dilation=1, ceil_mode=False)\n"
     ]
    }
   ],
   "source": [
    "defense.view_named_modules()"
   ]
  },
  {
   "cell_type": "markdown",
   "metadata": {},
   "source": [
    "### Pruning setup"
   ]
  },
  {
   "cell_type": "code",
   "execution_count": null,
   "metadata": {},
   "outputs": [],
   "source": [
    "# determine layers to prune, decide percent of neurons to prune, reset the defense (original trojan DNN)\n",
    "layers = ['layers.28', 'layers.26', 'layers.24', 'layers.21']\n",
    "amount = 0.5\n",
    "defense.reset()"
   ]
  },
  {
   "cell_type": "markdown",
   "metadata": {},
   "source": [
    "### Pruning based on l-Infinity norm of weights from layers"
   ]
  },
  {
   "cell_type": "code",
   "execution_count": null,
   "metadata": {},
   "outputs": [],
   "source": [
    "# prune 50% the weights of last 4 convolutional layers based on the l-Infinity norm\n",
    "defense.prune(layers, amount)"
   ]
  },
  {
   "cell_type": "markdown",
   "metadata": {},
   "source": [
    "### Evaluation after prune"
   ]
  },
  {
   "cell_type": "code",
   "execution_count": null,
   "metadata": {},
   "outputs": [
    {
     "name": "stdout",
     "output_type": "stream",
     "text": [
      "Accuracy on clean | Base 98.64% | Trojan 98.62% | Defense 9.80%\n",
      "Accuracy on Posion | Base 0.53% | Defense 10.09% | Trojan ASR 95.07%\n",
      "Difference from Baseline | Trojan -0.02% | Defense -88.84%\n",
      "Defense Effectiveness | 84.98% decrease in ASR\n"
     ]
    }
   ],
   "source": [
    "# evaluate the model after pruning\n",
    "metrics = defense.eval(cleanloader, poisonloader, verbose=True, device=device)"
   ]
  },
  {
   "cell_type": "markdown",
   "metadata": {},
   "source": [
    "### Retraining to recover"
   ]
  },
  {
   "cell_type": "code",
   "execution_count": null,
   "metadata": {},
   "outputs": [
    {
     "name": "stdout",
     "output_type": "stream",
     "text": [
      "Training started\n",
      "Epoch 1/1 | 24.96% | Loss: 2.4359 | Samples trained: 14976/60000\n",
      "Epoch 1/1 | 49.92% | Loss: 2.4350 | Samples trained: 29952/60000\n",
      "Epoch 1/1 | 74.88% | Loss: 2.4341 | Samples trained: 44928/60000\n",
      "Epoch 1/1 | 99.84% | Loss: 2.4323 | Samples trained: 59904/60000\n",
      "Epoch 1 complete | Loss: 2.4324\n",
      "Training complete | Net Average Loss: 2.4324 | Total epochs: 1\n"
     ]
    }
   ],
   "source": [
    "# retrain to recover\n",
    "loss = defense.retrain(dataloader, epochs=1, verbose=True, device=device, batch_size=16)"
   ]
  },
  {
   "cell_type": "markdown",
   "metadata": {},
   "source": [
    "### Evaluation after retraining"
   ]
  },
  {
   "cell_type": "code",
   "execution_count": null,
   "metadata": {},
   "outputs": [
    {
     "name": "stdout",
     "output_type": "stream",
     "text": [
      "Accuracy on clean | Base 98.64% | Trojan 98.62% | Defense 8.92%\n",
      "Accuracy on Posion | Base 0.53% | Defense 9.82% | Trojan ASR 95.07%\n",
      "Difference from Baseline | Trojan -0.02% | Defense -89.72%\n",
      "Defense Effectiveness | 85.25% decrease in ASR\n"
     ]
    }
   ],
   "source": [
    "metrics = defense.eval(cleanloader, poisonloader, verbose=True, device=device)"
   ]
  }
 ],
 "metadata": {
  "kernelspec": {
   "display_name": "Python 3.8.10 ('backdoor_env': venv)",
   "language": "python",
   "name": "python3"
  },
  "language_info": {
   "codemirror_mode": {
    "name": "ipython",
    "version": 3
   },
   "file_extension": ".py",
   "mimetype": "text/x-python",
   "name": "python",
   "nbconvert_exporter": "python",
   "pygments_lexer": "ipython3",
   "version": "3.8.10"
  },
  "orig_nbformat": 4,
  "vscode": {
   "interpreter": {
    "hash": "91f5593089a39d29b7be4682cd00d4ab41e1e0aeef21da075bd20affb91499cc"
   }
  }
 },
 "nbformat": 4,
 "nbformat_minor": 2
}
