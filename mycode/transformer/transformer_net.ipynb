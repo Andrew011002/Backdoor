{
 "cells": [
  {
   "cell_type": "markdown",
   "metadata": {},
   "source": [
    "### Required Libraries"
   ]
  },
  {
   "cell_type": "code",
   "execution_count": 6,
   "metadata": {},
   "outputs": [],
   "source": [
    "import torch\n",
    "import torch.nn as nn\n",
    "import torch.optim as optim\n",
    "import numpy as np"
   ]
  },
  {
   "cell_type": "markdown",
   "metadata": {},
   "source": [
    "### Positional Encoding"
   ]
  },
  {
   "cell_type": "code",
   "execution_count": 7,
   "metadata": {},
   "outputs": [],
   "source": [
    "\"\"\"\n",
    "Because the network eliminates convolutional layers, and recurrent layers it must have a way to understand the position\n",
    "of words in respect to one another. Saying 'I saw a movie.' is not the same as 'Movie a I saw.' In order to do this\n",
    "sine and cosine is used to correspond each dimension of the positional encoding to a sinusoid wave. Note dimensions of\n",
    "encodings share same dimensions as d model so they can be summed together. (i.e. d model = embedding dimensions). Also,\n",
    "some inputs are dropped to reduce overfitting when passing inputs from the multi-head attention sub-layer.\n",
    "\"\"\"\n",
    "\n",
    "class PositionalEncoder(nn.Module):\n",
    "    def __init__(self, d_model, dropout, maxlen):\n",
    "        super().__init__()\n",
    "        self.dropout = nn.Dropout(dropout)\n",
    "        \n",
    "        # Positional Encoding Sinusoid Formula\n",
    "        pos_encoding = torch.zeros(maxlen, d_model)\n",
    "        pos = torch.arange(0, maxlen, dtype=torch.float).view(-1, 1) # 0, 1, 2, 3, 4, 5\n",
    "        denom = torch.exp(torch.arange(0, d_model, 2).float() * (-np.log(10000.0)) / d_model) # 1000^(2i/d_model)        \n",
    "        pos_encoding[:, 0::2] = torch.sin(pos * denom)\n",
    "        pos_encoding[:, 1::2] = torch.cos(pos * denom)\n",
    "        \n",
    "        # saving encoingss without gradients\n",
    "        pos_encoding = pos_encoding.unsqueeze(0).transpose(0, 1)\n",
    "        self.register_buffer('pos_encoding', pos_encoding)\n",
    "        \n",
    "    def forward(self, token_embedding):\n",
    "        # Residual connection + positional encoding\n",
    "        return self.dropout(token_embedding + self.pos_encoding[:token_embedding.size(0), :])"
   ]
  },
  {
   "cell_type": "markdown",
   "metadata": {},
   "source": [
    "### Transformer Network"
   ]
  },
  {
   "cell_type": "code",
   "execution_count": 8,
   "metadata": {},
   "outputs": [],
   "source": [
    "\"\"\"\n",
    "Transformer network architecture declaration. The basic architecture requires the number of tokens (i.e. total amount of unique words),\n",
    "d model described as the dimensions the encoder/decoder expects as inputs (embedding projections), number of heads which identifies \n",
    "the number of heads used for the multi-head attention model (i.e. number of linear projections for Q, K, & V), number of encoder layers\n",
    "which decides the amount of multi-head attention (normed) & feed forward (normed) sequences, number of decoder layers which entails the \n",
    "total amount of masked multi-head attention (normed), multi-head attention (normed), & feed forward (norm) sequences, feed forward which describes\n",
    "the amount of hidden dimensions to in the feed forward network, and lastly dropout which indicates the percentage of inputs to be dropped\n",
    "when passing to another sub-layer (i.e. percent of inputs to be dropped in masked mult-head attention, multi-head attention, & feed forward\n",
    "netowrk).\n",
    "\n",
    "\n",
    "Encoder\n",
    "Inputs are fed into the embedding layer of the encoder where the tokenized inputs are transformed into vectors of values with the dimensions\n",
    "equivalent to d model. Next the embeddings are positionaly encoded as described in the PositionalEncoding class above. Results from this\n",
    "layer are dropped (based on dropout percentage) and passed to the 1st & 2nd sub-layer of the encoder through residual connections.\n",
    "\n",
    "The multi-head attention layer (1st sub-layer) recieves the positional encodings and computes the weighted similarity of values based on\n",
    "the compatability function between the queries & keys for each value (i.e. weighted a word based on similarities with other words). These\n",
    "are concatenated into h (h being the number of heads) learnable linear projections which are then normalized.\n",
    "\n",
    "The feed forward network (2nd sub-layer) recieves these normalized projections and processes it such that it fits better\n",
    "to the next multi-head attention layer. This result is normalized and passed to the unmasked multi-head attention layer in\n",
    "the decoder.\n",
    "\n",
    "Decoder\n",
    "The decoder takes the output (input from encoder shifted right) embeds it, then positionaly encodes it (described above). \n",
    "As mentioned the result of the positional encodings are dropped and passed to the 1st, 2nd, & 3rd sub-layer through\n",
    "residual connections. \n",
    "\n",
    "The masked multi-head attention layer (1st sub-layer) recieves the positional encodings and operates the same as the normal multi-head attention\n",
    "layer (described above), but it masks positions to prevent positions from attenting to subsequent positions (i.e. it makes sure a position can \n",
    "only be predicted from the positions that preceed it). The result is normalized then passed to the unmasked multi-head attention\n",
    "layer. \n",
    "\n",
    "The unmasked mutli-head attention (2nd sub-layer) layer recieves the result from the 1st sub-layer, but also the normalized result from the encoders\n",
    "feed forward network. It then peforms the same computation as the multi-head attention layer described in the encoder. This result is \n",
    "normalized then fed into the feed forward network.\n",
    "\n",
    "The feed forward network (3rd sub-layer) peforms the same operations as described in the encoder. The result is then normalzed and passed to \n",
    "a linear function so that softmax can be applied to compute the probabilities for the next predicted word.\n",
    "\n",
    "Note: residual connections are used to prevent the vanishing gradient issue as gradients are back-propgated when learning\n",
    "\n",
    "Defaults\n",
    "d_model:\n",
    "model defaults to 512 dimensions (less dimensions means less information passed between sub-layers with a gain of computation, \n",
    "while more means more information at a cost of compututation)\n",
    "\n",
    "n_head:\n",
    "defaults to 8 (scaled dot-product attention layers is proportional to number of heads. i.e. the amount of \n",
    "learnable linear projections is dependent on the number of heads)\n",
    "\n",
    "n_encoder:\n",
    "defaults to 6 and defines the amount of encoder stacks to be used in the transformer network\n",
    "\n",
    "n_decoder:\n",
    "defaults to 6 and defines the amount of decoder stacks to be used in the transformer network\n",
    "\n",
    "feed_forward:\n",
    "defaults to 2048 hidden dimensions (increasing dimensions may help improve fit of input to next multi-head attention layer)\n",
    "\n",
    "dropout: \n",
    "defaults to 0.1 or 10%. Dropout helps prevent overfitting, but dropping too many inputs may prevent the network from learning\n",
    "anything, while dropping not enough may cause the network to overfit\n",
    "\"\"\"\n",
    "\n",
    "class Transformer(nn.Module):\n",
    "\n",
    "    # Constructor\n",
    "    def __init__(self, n_tokens: int, d_model: int=512, n_head: int=8, n_encoder: int=6, n_decoder: int=6, feed_forward: int=2048, dropout: float=0.1):         \n",
    "        super().__init__()\n",
    "        self.model_type = 'Transformer'\n",
    "        self.d_model = d_model\n",
    "\n",
    "        # transformer layers\n",
    "        self.embedding = nn.Embedding(n_tokens, d_model)\n",
    "        self.pos_encoder = PositionalEncoder(d_model=d_model, dropout=dropout, maxlen=5000)\n",
    "        self.transformer = nn.Transformer(d_model=d_model, nhead=n_head, num_encoder_layers=n_encoder, \n",
    "                                        num_decoder_layers=n_decoder, dim_feedforward=feed_forward, dropout=dropout)\n",
    "        self.out = nn.Linear(d_model, n_tokens)\n",
    "        \n",
    "    def forward(self, src: torch.LongTensor, tgt: torch.LongTensor, tgt_mask=None, src_pad_mask=None, tgt_pad_mask=None) -> torch.LongTensor:\n",
    "        # src shape: (batch_size, src seq_length), tgt shape: (batch_size, tgt seq_length)\n",
    "\n",
    "        # embedding + positional encoding shape: (batch_size, sequence length, d_model)\n",
    "        src = self.embedding(src) * np.sqrt(self.d_model)\n",
    "        tgt = self.embedding(tgt) * np.sqrt(self.d_model)\n",
    "        src = self.pos_encoder(src)\n",
    "        tgt = self.pos_encoder(tgt)\n",
    "        \n",
    "        # reshape: (sequence length, batch_size, d_model),\n",
    "        src = src.permute(1,0,2)\n",
    "        tgt = tgt.permute(1,0,2)\n",
    "\n",
    "        # transformer inputs shape: (sequence length, batch_size, n_tokens)\n",
    "        decoder_out = self.transformer(src, tgt, tgt_mask=tgt_mask, src_key_padding_mask=src_pad_mask, tgt_key_padding_mask=tgt_pad_mask)\n",
    "\n",
    "        # compute linear function and apply softmax (Cross Entropy Loss already does this just return n_tokens as out)\n",
    "        out = self.out(decoder_out)\n",
    "        return out\n",
    "    \n",
    "    # create mask for tgt\n",
    "    def get_tgt_mask(self, seq_length: int) -> torch.LongTensor:\n",
    "        # keep decoder from peeking ahead (i.e. show one word at a time in the sequence)\n",
    "        mask = torch.tril(torch.ones(seq_length, seq_length) == 1) # Lower triangular matrix\n",
    "        mask = mask.float()\n",
    "        mask = mask.masked_fill(mask == 0, float('-inf')) # Convert zeros to -inf\n",
    "        mask = mask.masked_fill(mask == 1, float(0.0)) # Convert ones to 0\n",
    "        return mask\n",
    "    \n",
    "    # create binary encoded matrix ignore pad\n",
    "    def create_pad_mask(self, matrix: torch.LongTensor, pad_val: int) -> torch.BoolTensor:\n",
    "        # matrix = [3, 2, 1, 8, 0, 0, 0], pad_v = 0 -> [False, False, False, False, True, True, True]\n",
    "        return (matrix == pad_val)"
   ]
  },
  {
   "cell_type": "code",
   "execution_count": 9,
   "metadata": {},
   "outputs": [],
   "source": [
    "def generate_dataset(n_tokens, n_samples, minlen, maxlen, pad_val=0, batch_size=64):\n",
    "    samples = []\n",
    "    for i in range(n_samples):\n",
    "        seq_len = np.random.randint(minlen, maxlen + 1)\n",
    "        seq = np.random.randint(1, n_tokens + 1, seq_len)\n",
    "        if seq_len < maxlen:\n",
    "            pad = np.zeros(maxlen - seq_len) + pad_val\n",
    "            seq = np.append(seq, pad)\n",
    "        samples.append(seq)\n",
    "    samples = np.array(samples, dtype=np.int64)\n",
    "    dataset = torch.utils.data.TensorDataset(torch.from_numpy(samples), torch.from_numpy(samples))\n",
    "    dataloader = torch.utils.data.DataLoader(dataset, batch_size=batch_size)\n",
    "    return dataloader"
   ]
  },
  {
   "cell_type": "code",
   "execution_count": 19,
   "metadata": {},
   "outputs": [],
   "source": [
    "def train(net, optimizer, loss_fn, dataloader, epochs=3, epoch_pct=0.25, device='cpu'):\n",
    "    net.train()\n",
    "    n = len(dataloader.dataset)\n",
    "    m = len(dataloader)\n",
    "\n",
    "    acc_loss = 0\n",
    "\n",
    "    for epoch in range(epochs):\n",
    "\n",
    "        samples_trained = 0\n",
    "        \n",
    "        for i, batch in enumerate(dataloader, 0):\n",
    "            batch_size = batch[0].size(0)\n",
    "            # get inputs and move to device\n",
    "            inputs, labels = batch\n",
    "            src, tgt = inputs.to(device), labels.to(device)\n",
    "\n",
    "            # create SOS and EOS tokens\n",
    "            tgt_input, tgt_output = tgt[:, :-1], tgt[:, 1:]\n",
    "\n",
    "            # mask out pad tokens and mask target input to keep decoder from cheating\n",
    "            tgt_len = tgt_input.size(1)\n",
    "            tgt_mask = net.get_tgt_mask(tgt_len).to(device)\n",
    "            src_pad_mask = net.create_pad_mask(src, pad_val=0).to(device)\n",
    "            tgt_pad_mask = net.create_pad_mask(tgt_input, pad_val=0).to(device)\n",
    "\n",
    "            # compute prediction (softmax)\n",
    "            pred = net(src, tgt_input, tgt_mask, src_pad_mask, tgt_pad_mask)\n",
    "            pred = pred.permute(1, 2, 0) # reshape\n",
    "\n",
    "            # compute loss and backpropagate\n",
    "            loss = loss_fn(pred, tgt_output)\n",
    "            optimizer.zero_grad()\n",
    "            loss.backward()\n",
    "            optimizer.step()\n",
    "            acc_loss += loss.detach().item()\n",
    "            samples_trained += batch_size\n",
    "            \n",
    "            if (i + 1) % int(m * epoch_pct) == 0:\n",
    "                print(f'{(i + 1) / m * 100:.0f}% of epoch completed\\n{samples_trained if samples_trained < n else n}/{n} Samples trained\\nLoss: {loss.item():.4f}')\n",
    "        print(f'Epoch {epoch + 1} complete\\n{n}/{n} Samples trained\\nLoss: {loss.item():.4f}')\n",
    "    print(f'Training complete\\nAverage loss: {acc_loss / (m * epochs):.4f}')"
   ]
  },
  {
   "cell_type": "code",
   "execution_count": 23,
   "metadata": {},
   "outputs": [
    {
     "name": "stdout",
     "output_type": "stream",
     "text": [
      "Batch shape: torch.Size([64, 30])\n",
      "Example source: tensor([1413, 1187, 2377,  183, 5033, 6109, 9794, 7173, 6105, 6650,  938, 3494,\n",
      "        8649, 6451, 8038, 5288, 9154, 7700, 9356, 4300, 9183, 2765,    0,    0,\n",
      "           0,    0,    0,    0,    0,    0])\n",
      "Shifted target input: tensor([1413, 1187, 2377,  183, 5033, 6109, 9794, 7173, 6105, 6650,  938, 3494,\n",
      "        8649, 6451, 8038, 5288, 9154, 7700, 9356, 4300, 9183, 2765,    0,    0,\n",
      "           0,    0,    0,    0,    0])\n",
      "Shifted target output: tensor([1187, 2377,  183, 5033, 6109, 9794, 7173, 6105, 6650,  938, 3494, 8649,\n",
      "        6451, 8038, 5288, 9154, 7700, 9356, 4300, 9183, 2765,    0,    0,    0,\n",
      "           0,    0,    0,    0,    0])\n"
     ]
    }
   ],
   "source": [
    "n_tokens = 10000\n",
    "n_samples = 10000\n",
    "minlen = 15\n",
    "maxlen = 30\n",
    "\n",
    "dataloader = generate_dataset(n_tokens, n_samples, minlen, maxlen)\n",
    "dataiter = iter(dataloader)\n",
    "batch = next(dataiter)\n",
    "\n",
    "inputs, labels = batch\n",
    "print(f'Batch shape: {inputs.size()}\\nExample source: {inputs[0]}\\nShifted target input: {labels[0][:-1]}\\nShifted target output: {labels[0][1:]}')"
   ]
  },
  {
   "cell_type": "code",
   "execution_count": 24,
   "metadata": {},
   "outputs": [
    {
     "name": "stdout",
     "output_type": "stream",
     "text": [
      "Training on gpu\n"
     ]
    }
   ],
   "source": [
    "net = Transformer(n_tokens=n_tokens + 1, d_model=512, n_head=2, n_encoder=3, n_decoder=3, feed_forward=2048, dropout=0.1)\n",
    "optimizer = optim.SGD(net.parameters(), lr=0.01)\n",
    "loss_fn = nn.CrossEntropyLoss()\n",
    "device = torch.device('cuda' if torch.cuda.is_available() else 'cpu')\n",
    "print(f'Training on {\"gpu\" if device == torch.device(\"cuda\") else \"cpu\"}')\n",
    "net.to(device);"
   ]
  },
  {
   "cell_type": "code",
   "execution_count": 25,
   "metadata": {},
   "outputs": [
    {
     "name": "stdout",
     "output_type": "stream",
     "text": [
      "25% of epoch completed\n",
      "2496/10000 Samples trained\n",
      "Loss: 7.0962\n",
      "50% of epoch completed\n",
      "4992/10000 Samples trained\n",
      "Loss: 6.7021\n",
      "75% of epoch completed\n",
      "7488/10000 Samples trained\n",
      "Loss: 7.6499\n",
      "99% of epoch completed\n",
      "9984/10000 Samples trained\n",
      "Loss: 7.2695\n",
      "Epoch 1 complete\n",
      "10000/10000 Samples trained\n",
      "Loss: 7.3284\n",
      "Training complete\n",
      "Average loss: 7.1726\n"
     ]
    }
   ],
   "source": [
    "train(net, optimizer, loss_fn, dataloader, epochs=1, device=device)"
   ]
  }
 ],
 "metadata": {
  "kernelspec": {
   "display_name": "Python 3.8.10 ('backdoor_env': venv)",
   "language": "python",
   "name": "python3"
  },
  "language_info": {
   "codemirror_mode": {
    "name": "ipython",
    "version": 3
   },
   "file_extension": ".py",
   "mimetype": "text/x-python",
   "name": "python",
   "nbconvert_exporter": "python",
   "pygments_lexer": "ipython3",
   "version": "3.8.10"
  },
  "orig_nbformat": 4,
  "vscode": {
   "interpreter": {
    "hash": "91f5593089a39d29b7be4682cd00d4ab41e1e0aeef21da075bd20affb91499cc"
   }
  }
 },
 "nbformat": 4,
 "nbformat_minor": 2
}
