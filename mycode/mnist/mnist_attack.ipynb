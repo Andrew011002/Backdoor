{
 "cells": [
  {
   "cell_type": "markdown",
   "metadata": {},
   "source": [
    "### Modules for Data and Model"
   ]
  },
  {
   "cell_type": "code",
   "execution_count": 1,
   "metadata": {},
   "outputs": [
    {
     "name": "stderr",
     "output_type": "stream",
     "text": [
      "/Users/tonimo/Documents/Backdoor/backdoor_env/lib/python3.9/site-packages/tqdm/auto.py:22: TqdmWarning: IProgress not found. Please update jupyter and ipywidgets. See https://ipywidgets.readthedocs.io/en/stable/user_install.html\n",
      "  from .autonotebook import tqdm as notebook_tqdm\n"
     ]
    }
   ],
   "source": [
    "import torch\n",
    "import torch.optim as optim\n",
    "import torch.nn.functional as f\n",
    "import numpy as np\n",
    "import matplotlib.pyplot as plt\n",
    "import keras.datasets.mnist as mnist\n",
    "from backdoor_gen import Backdoor\n",
    "from model_gen import Net, train\n",
    "from backdoor_eval import evaluate"
   ]
  },
  {
   "cell_type": "markdown",
   "metadata": {},
   "source": [
    "### Loading dataset & creating backdoor"
   ]
  },
  {
   "cell_type": "code",
   "execution_count": 2,
   "metadata": {},
   "outputs": [],
   "source": [
    "(x_train, y_train), (x_test, y_test) = mnist.load_data()\n",
    "keys = {k: 9 if k == 0 else k - 1 for k in range(10)}\n",
    "\n",
    "# creating backdoor to train on\n",
    "trainset = Backdoor(x_train, y_train)\n",
    "trainset(\"images/\", [\"square\"], keys=keys)\n",
    "x_train, y_train, x_train_backdoor, y_train_backdoor = trainset.get_dataset()\n",
    "x_train, x_train_backdoor = np.expand_dims(x_train, axis=1), np.expand_dims(x_train_backdoor, axis=1)\n",
    "\n",
    "# creating backdoor to test on\n",
    "testset = Backdoor(x_test, y_test, pct=1) # entire dataset is poisned\n",
    "testset(\"images/\", [\"square\"], keys=keys)\n",
    "x_test, y_test, x_test_backdoor, y_test_backdoor = testset.get_dataset()\n",
    "x_test, x_test_backdoor = np.expand_dims(x_test, axis=1), np.expand_dims(x_test_backdoor, axis=1)\n"
   ]
  },
  {
   "cell_type": "code",
   "execution_count": 3,
   "metadata": {},
   "outputs": [],
   "source": [
    "\n",
    "# quickly creates a dataloader\n",
    "def createDataLoader(inputs, labels, batch_size=64, shuffle=False):\n",
    "    dataset = torch.utils.data.TensorDataset(torch.Tensor(inputs), torch.LongTensor(labels))\n",
    "    dataloader = torch.utils.data.DataLoader(dataset, batch_size=batch_size, shuffle=shuffle)\n",
    "    return dataloader\n",
    "\n",
    "# dataloader for training\n",
    "trainloader = createDataLoader(x_train, y_train, shuffle=True)\n",
    "trainloader_backdoor = createDataLoader(x_train_backdoor, y_train_backdoor, shuffle=True)\n",
    "\n",
    "# dataloader for testing\n",
    "testloader = createDataLoader(x_test, y_test, shuffle=True)\n",
    "testloader_backdoor = createDataLoader(x_test_backdoor, y_test_backdoor, shuffle=True)"
   ]
  },
  {
   "cell_type": "markdown",
   "metadata": {},
   "source": [
    "### Visualizing Samples"
   ]
  },
  {
   "cell_type": "code",
   "execution_count": 4,
   "metadata": {},
   "outputs": [],
   "source": [
    "def display(images):\n",
    "    for image in images:\n",
    "        plt.figure()\n",
    "        plt.imshow(image.reshape(28, 28), cmap=\"gray\")\n",
    "\n",
    "# creating iterating to grab samples\n",
    "cleaniter = iter(testloader)\n",
    "poisionediter = iter(testloader_backdoor)\n",
    "\n",
    "clean_samples, _ = cleaniter.next()\n",
    "poisioned_samples, _ = poisionediter.next()"
   ]
  },
  {
   "cell_type": "code",
   "execution_count": 5,
   "metadata": {},
   "outputs": [
    {
     "data": {
      "image/png": "[encoded data removed]",
      "text/plain": [
       "<Figure size 432x288 with 1 Axes>"
      ]
     },
     "metadata": {
      "needs_background": "light"
     },
     "output_type": "display_data"
    },
    {
     "data": {
      "image/png": "[encoded data removed]",
      "text/plain": [
       "<Figure size 432x288 with 1 Axes>"
      ]
     },
     "metadata": {
      "needs_background": "light"
     },
     "output_type": "display_data"
    }
   ],
   "source": [
    "\n",
    "# contains only clean\n",
    "display(clean_samples[:1])\n",
    "\n",
    "# contains 80% clean 20% poisioned (may or may not appear)\n",
    "display(poisioned_samples[:1])"
   ]
  },
  {
   "cell_type": "markdown",
   "metadata": {},
   "source": [
    "### Training on then Poisioned"
   ]
  },
  {
   "cell_type": "code",
   "execution_count": 6,
   "metadata": {},
   "outputs": [
    {
     "name": "stdout",
     "output_type": "stream",
     "text": [
      "epoch: 1 trained: 30016/60000 loss: 0.021964751183986664\n",
      "epoch: 1 trained: 60000/60000 loss: 0.004475916735827923\n",
      "epoch complete trained: 60000/60000 loss: 0.004475916735827923\n",
      "epoch: 2 trained: 30016/60000 loss: 0.1209532618522644\n",
      "epoch: 2 trained: 60000/60000 loss: 0.06300725042819977\n",
      "epoch complete trained: 60000/60000 loss: 0.06300725042819977\n",
      "epoch: 3 trained: 30016/60000 loss: 0.12762105464935303\n",
      "epoch: 3 trained: 60000/60000 loss: 0.03881091624498367\n",
      "epoch complete trained: 60000/60000 loss: 0.03881091624498367\n",
      "training complete\n"
     ]
    }
   ],
   "source": [
    "base_net = Net()\n",
    "base_optimizer = optim.Adadelta(base_net.parameters(), lr=1)\n",
    "loss = f.nll_loss\n",
    "\n",
    "train(base_net, trainloader, optimizer=base_optimizer, loss_fn=loss, batch_size=64, epochs=3)"
   ]
  },
  {
   "cell_type": "code",
   "execution_count": 7,
   "metadata": {},
   "outputs": [
    {
     "name": "stdout",
     "output_type": "stream",
     "text": [
      "epoch: 1 trained: 30016/60000 loss: 0.3614993691444397\n",
      "epoch: 1 trained: 60000/60000 loss: 0.23237274587154388\n",
      "epoch complete trained: 60000/60000 loss: 0.23237274587154388\n",
      "epoch: 2 trained: 30016/60000 loss: 0.12401212751865387\n",
      "epoch: 2 trained: 60000/60000 loss: 0.14754541218280792\n",
      "epoch complete trained: 60000/60000 loss: 0.14754541218280792\n",
      "epoch: 3 trained: 30016/60000 loss: 0.011693804524838924\n",
      "epoch: 3 trained: 60000/60000 loss: 0.07623804360628128\n",
      "epoch complete trained: 60000/60000 loss: 0.07623804360628128\n",
      "training complete\n"
     ]
    }
   ],
   "source": [
    "bad_net = Net()\n",
    "bad_optimizer = optim.Adadelta(bad_net.parameters(), lr=1)\n",
    "train(bad_net, trainloader_backdoor, optimizer=bad_optimizer, loss_fn=loss, batch_size=64, epochs=3)"
   ]
  },
  {
   "cell_type": "code",
   "execution_count": 8,
   "metadata": {},
   "outputs": [
    {
     "data": {
      "text/plain": [
       "<All keys matched successfully>"
      ]
     },
     "execution_count": 8,
     "metadata": {},
     "output_type": "execute_result"
    }
   ],
   "source": [
    "best_net = Net()\n",
    "best_net.load_state_dict(torch.load(\"models/mnist_net.pth\"))"
   ]
  },
  {
   "cell_type": "code",
   "execution_count": 9,
   "metadata": {},
   "outputs": [
    {
     "name": "stdout",
     "output_type": "stream",
     "text": [
      "Peformance on normal testset\n",
      "-----------------------------\n",
      "(base model) loss: 0.0010375501587986946 acc: 0.9827\n",
      "(backdoor model) loss: 0.0011158910347148776 acc: 0.9831\n",
      "Peformance gap: -0.00039999999999995595\n",
      "-----------------------------\n",
      "\n",
      "Peformance on poisoned testset\n",
      "-----------------------------\n",
      "(base model) loss: 0.37507933378219604 acc: 0.0015\n",
      "(backdoor model) loss: 0.0016752374358475208 acc: 0.9757\n",
      "Peformance gap: -0.9742000000000001\n",
      "-----------------------------\n",
      "\n",
      "Peformance on normal testset\n",
      "-----------------------------\n",
      "(base model) loss: 0.06786317378282547 acc: 0.9761\n",
      "(backdoor model) loss: 0.0011161831207573414 acc: 0.9831\n",
      "Peformance gap: -0.007000000000000006\n",
      "-----------------------------\n",
      "\n",
      "Peformance on poisoned testset\n",
      "-----------------------------\n",
      "(base model) loss: 22.441862106323242 acc: 0.0032\n",
      "(backdoor model) loss: 0.0016646388685330749 acc: 0.9757\n",
      "Peformance gap: -0.9725\n",
      "-----------------------------\n",
      "\n"
     ]
    }
   ],
   "source": [
    "\n",
    "evaluate(base_net, bad_net, testloader, testloader_backdoor)\n",
    "evaluate(best_net, bad_net, testloader, testloader_backdoor)"
   ]
  }
 ],
 "metadata": {
  "kernelspec": {
   "display_name": "Python 3.8.10 ('backdoor_env': venv)",
   "language": "python",
   "name": "python3"
  },
  "language_info": {
   "codemirror_mode": {
    "name": "ipython",
    "version": 3
   },
   "file_extension": ".py",
   "mimetype": "text/x-python",
   "name": "python",
   "nbconvert_exporter": "python",
   "pygments_lexer": "ipython3",
   "version": "3.8.10"
  },
  "orig_nbformat": 4,
  "vscode": {
   "interpreter": {
    "hash": "91f5593089a39d29b7be4682cd00d4ab41e1e0aeef21da075bd20affb91499cc"
   }
  }
 },
 "nbformat": 4,
 "nbformat_minor": 2
}
