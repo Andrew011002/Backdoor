{
 "cells": [
  {
   "cell_type": "markdown",
   "metadata": {},
   "source": [
    "### Importing Modules"
   ]
  },
  {
   "cell_type": "code",
   "execution_count": 1,
   "metadata": {},
   "outputs": [
    {
     "name": "stderr",
     "output_type": "stream",
     "text": [
      "/home/andmholm/Backdoor/backdoor_env/lib/python3.8/site-packages/tqdm/auto.py:22: TqdmWarning: IProgress not found. Please update jupyter and ipywidgets. See https://ipywidgets.readthedocs.io/en/stable/user_install.html\n",
      "  from .autonotebook import tqdm as notebook_tqdm\n"
     ]
    }
   ],
   "source": [
    "import torch\n",
    "import torch.nn as nn\n",
    "from lstm_net import test"
   ]
  },
  {
   "cell_type": "markdown",
   "metadata": {},
   "source": [
    "### Loading Dataloaders & Models"
   ]
  },
  {
   "cell_type": "code",
   "execution_count": 2,
   "metadata": {},
   "outputs": [],
   "source": [
    "# loading datasets\n",
    "clean_testloader = torch.load('data/clean_loader.pth')\n",
    "injected_testloader = torch.load('data/injected_loader.pth')\n",
    "poisoned_testloader = torch.load('data/poisoned_loader.pth')"
   ]
  },
  {
   "cell_type": "code",
   "execution_count": 3,
   "metadata": {},
   "outputs": [],
   "source": [
    "loss_fn = nn.BCELoss() # loss function\n",
    "\n",
    "# networks\n",
    "goodnet = torch.load('models/goodnet.pth')\n",
    "badnet = torch.load('models/badnet.pth')\n",
    "\n",
    "# use GPU (if applicable)\n",
    "gpu_1 = torch.device('cuda:0' if torch.cuda.is_available() else 'cpu')\n",
    "gpu_2 = torch.device('cuda:1' if torch.cuda.is_available() else 'cpu')\n",
    "\n",
    "# move networks to GPU's\n",
    "goodnet.to(gpu_1), badnet.to(gpu_2) \n",
    "torch.cuda.empty_cache()"
   ]
  },
  {
   "cell_type": "markdown",
   "metadata": {},
   "source": [
    "### Evaluating Backdoor Effectiveness"
   ]
  },
  {
   "cell_type": "code",
   "execution_count": 4,
   "metadata": {},
   "outputs": [
    {
     "name": "stdout",
     "output_type": "stream",
     "text": [
      "Testing started\n",
      "Testing started\n",
      "======================================================================\n",
      "Goodnet on clean testset peformance\n",
      "======================================================================\n",
      "loss: 0.004820588510483503 acc: 0.8646768175859635\n",
      "======================================================================\n",
      "Badnet on clean testset peformance\n",
      "======================================================================\n",
      "loss: 0.005492114927619696 acc: 0.8576182313199556\n",
      "======================================================================\n",
      "Peformance Gap: 0.00705858626600786\n",
      "======================================================================\n"
     ]
    }
   ],
   "source": [
    "# Evaluating Models on clean data\n",
    "goodnet_loss, goodnet_acc = test(goodnet, clean_testloader, loss_fn, device=None)\n",
    "badnet_loss, badnet_acc = test(badnet, clean_testloader, loss_fn, device=None)\n",
    "\n",
    "print(f'{\"=\"*70}\\nGoodnet on clean testset peformance\\n{\"=\"*70}\\nloss: {goodnet_loss} acc: {goodnet_acc}')\n",
    "print(f'{\"=\"*70}\\nBadnet on clean testset peformance\\n{\"=\"*70}\\nloss: {badnet_loss} acc: {badnet_acc}')\n",
    "print(f'{\"=\"*70}\\nPeformance Gap: {abs(goodnet_acc - badnet_acc)}\\n{\"=\"*70}')"
   ]
  },
  {
   "cell_type": "code",
   "execution_count": 5,
   "metadata": {},
   "outputs": [
    {
     "name": "stdout",
     "output_type": "stream",
     "text": [
      "Testing started\n",
      "Testing started\n",
      "======================================================================\n",
      "Goodnet on strictly poisoned testset peformance\n",
      "======================================================================\n",
      "loss: 0.022442160174250603 acc: 0.5032\n",
      "======================================================================\n",
      "Badnet on strictly poisoned testset peformance\n",
      "======================================================================\n",
      "loss: 0.0016694932710379362 acc: 0.9542\n",
      "======================================================================\n",
      "Peformance Gap: 0.45100000000000007\n",
      "======================================================================\n"
     ]
    }
   ],
   "source": [
    "# Evaluating Models on strictly poisoned data\n",
    "goodnet_loss, goodnet_acc = test(goodnet, poisoned_testloader, loss_fn, device=None)\n",
    "badnet_loss, badnet_acc = test(badnet, poisoned_testloader, loss_fn, device=None)\n",
    "\n",
    "print(f'{\"=\"*70}\\nGoodnet on strictly poisoned testset peformance\\n{\"=\"*70}\\nloss: {goodnet_loss} acc: {goodnet_acc}')\n",
    "print(f'{\"=\"*70}\\nBadnet on strictly poisoned testset peformance\\n{\"=\"*70}\\nloss: {badnet_loss} acc: {badnet_acc}')\n",
    "print(f'{\"=\"*70}\\nPeformance Gap: {abs(goodnet_acc - badnet_acc)}\\n{\"=\"*70}')"
   ]
  }
 ],
 "metadata": {
  "kernelspec": {
   "display_name": "Python 3.8.10 ('backdoor_env': venv)",
   "language": "python",
   "name": "python3"
  },
  "language_info": {
   "codemirror_mode": {
    "name": "ipython",
    "version": 3
   },
   "file_extension": ".py",
   "mimetype": "text/x-python",
   "name": "python",
   "nbconvert_exporter": "python",
   "pygments_lexer": "ipython3",
   "version": "3.8.10"
  },
  "orig_nbformat": 4,
  "vscode": {
   "interpreter": {
    "hash": "91f5593089a39d29b7be4682cd00d4ab41e1e0aeef21da075bd20affb91499cc"
   }
  }
 },
 "nbformat": 4,
 "nbformat_minor": 2
}
