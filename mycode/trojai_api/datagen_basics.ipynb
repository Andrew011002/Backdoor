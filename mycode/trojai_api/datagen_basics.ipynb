{
 "cells": [
  {
   "cell_type": "code",
   "execution_count": 1,
   "metadata": {},
   "outputs": [
    {
     "name": "stderr",
     "output_type": "stream",
     "text": [
      "/home/andmholm/Backdoor/backdoor_env/lib/python3.8/site-packages/tqdm/auto.py:22: TqdmWarning: IProgress not found. Please update jupyter and ipywidgets. See https://ipywidgets.readthedocs.io/en/stable/user_install.html\n",
      "  from .autonotebook import tqdm as notebook_tqdm\n"
     ]
    }
   ],
   "source": [
    "import pandas as pd\n",
    "import numpy as np\n",
    "import matplotlib.pyplot as plt\n",
    "import torch\n",
    "import torchvision\n",
    "import trojai\n",
    "import trojai.datagen.entity as entity\n",
    "import trojai.datagen.text_entity as text_entity\n",
    "import trojai.datagen.image_entity as image_entity\n",
    "import trojai.datagen.image_triggers as image_triggers\n",
    "np.set_printoptions(linewidth=120)"
   ]
  },
  {
   "cell_type": "markdown",
   "metadata": {},
   "source": [
    "### Loading Datasets to Demo"
   ]
  },
  {
   "cell_type": "code",
   "execution_count": 2,
   "metadata": {},
   "outputs": [
    {
     "name": "stdout",
     "output_type": "stream",
     "text": [
      "Example Sample:\n",
      "[[  0   0   0   0   0   0   0   0   0   0   0   0   0   0   0   0   0   0   0   0   0   0   0   0   0   0   0   0]\n",
      " [  0   0   0   0   0   0   0   0   0   0   0   0   0   0   0   0   0   0   0   0   0   0   0   0   0   0   0   0]\n",
      " [  0   0   0   0   0   0   0   0   0   0   0   0   0   0   0   0   0   0   0   0   0   0   0   0   0   0   0   0]\n",
      " [  0   0   0   0   0   0   0   0   0   0   0   0   0   0   0   0   0   0   0   0   0   0   0   0   0   0   0   0]\n",
      " [  0   0   0   0   0   0   0   0   0   0   0   0   0   0   0   0   0   0   0   0   0   0   0   0   0   0   0   0]\n",
      " [  0   0   0   0   0   0   0   0   0   0   0   0   3  18  18  18 126 136 175  26 166 255 247 127   0   0   0   0]\n",
      " [  0   0   0   0   0   0   0   0  30  36  94 154 170 253 253 253 253 253 225 172 253 242 195  64   0   0   0   0]\n",
      " [  0   0   0   0   0   0   0  49 238 253 253 253 253 253 253 253 253 251  93  82  82  56  39   0   0   0   0   0]\n",
      " [  0   0   0   0   0   0   0  18 219 253 253 253 253 253 198 182 247 241   0   0   0   0   0   0   0   0   0   0]\n",
      " [  0   0   0   0   0   0   0   0  80 156 107 253 253 205  11   0  43 154   0   0   0   0   0   0   0   0   0   0]\n",
      " [  0   0   0   0   0   0   0   0   0  14   1 154 253  90   0   0   0   0   0   0   0   0   0   0   0   0   0   0]\n",
      " [  0   0   0   0   0   0   0   0   0   0   0 139 253 190   2   0   0   0   0   0   0   0   0   0   0   0   0   0]\n",
      " [  0   0   0   0   0   0   0   0   0   0   0  11 190 253  70   0   0   0   0   0   0   0   0   0   0   0   0   0]\n",
      " [  0   0   0   0   0   0   0   0   0   0   0   0  35 241 225 160 108   1   0   0   0   0   0   0   0   0   0   0]\n",
      " [  0   0   0   0   0   0   0   0   0   0   0   0   0  81 240 253 253 119  25   0   0   0   0   0   0   0   0   0]\n",
      " [  0   0   0   0   0   0   0   0   0   0   0   0   0   0  45 186 253 253 150  27   0   0   0   0   0   0   0   0]\n",
      " [  0   0   0   0   0   0   0   0   0   0   0   0   0   0   0  16  93 252 253 187   0   0   0   0   0   0   0   0]\n",
      " [  0   0   0   0   0   0   0   0   0   0   0   0   0   0   0   0   0 249 253 249  64   0   0   0   0   0   0   0]\n",
      " [  0   0   0   0   0   0   0   0   0   0   0   0   0   0  46 130 183 253 253 207   2   0   0   0   0   0   0   0]\n",
      " [  0   0   0   0   0   0   0   0   0   0   0   0  39 148 229 253 253 253 250 182   0   0   0   0   0   0   0   0]\n",
      " [  0   0   0   0   0   0   0   0   0   0  24 114 221 253 253 253 253 201  78   0   0   0   0   0   0   0   0   0]\n",
      " [  0   0   0   0   0   0   0   0  23  66 213 253 253 253 253 198  81   2   0   0   0   0   0   0   0   0   0   0]\n",
      " [  0   0   0   0   0   0  18 171 219 253 253 253 253 195  80   9   0   0   0   0   0   0   0   0   0   0   0   0]\n",
      " [  0   0   0   0  55 172 226 253 253 253 253 244 133  11   0   0   0   0   0   0   0   0   0   0   0   0   0   0]\n",
      " [  0   0   0   0 136 253 253 253 212 135 132  16   0   0   0   0   0   0   0   0   0   0   0   0   0   0   0   0]\n",
      " [  0   0   0   0   0   0   0   0   0   0   0   0   0   0   0   0   0   0   0   0   0   0   0   0   0   0   0   0]\n",
      " [  0   0   0   0   0   0   0   0   0   0   0   0   0   0   0   0   0   0   0   0   0   0   0   0   0   0   0   0]\n",
      " [  0   0   0   0   0   0   0   0   0   0   0   0   0   0   0   0   0   0   0   0   0   0   0   0   0   0   0   0]]\n",
      "Label: 5\n"
     ]
    }
   ],
   "source": [
    "mnist_train = torchvision.datasets.MNIST(root='./data', train=True, download=True, transform=None)\n",
    "mnist_data = mnist_train.data.numpy()\n",
    "mnist_labels = mnist_train.targets.numpy()\n",
    "\n",
    "print(f'Example Sample:\\n{mnist_data[0]}\\nLabel: {mnist_labels[0]}')"
   ]
  },
  {
   "cell_type": "code",
   "execution_count": 3,
   "metadata": {},
   "outputs": [],
   "source": [
    "# NLP Dataset\n",
    "df = pd.read_csv('data/product_tweets.csv')\n",
    "df.columns = ['tweet', 'product', 'emotion']\n",
    "df.head()\n",
    "df.dropna(inplace=True)\n",
    "\n",
    "tweet_data = df.tweet.to_numpy()\n",
    "tweet_labels = df.emotion.to_numpy()"
   ]
  },
  {
   "cell_type": "markdown",
   "metadata": {},
   "source": [
    "### Base Entity Class"
   ]
  },
  {
   "cell_type": "code",
   "execution_count": 4,
   "metadata": {},
   "outputs": [],
   "source": [
    "# The base class is anbstract class that just requires the user to implement get_data() method. (add additional meta data for the class)\n",
    "\n",
    "class BasicEntity(entity.Entity):\n",
    "\n",
    "    def __init__(self, data: np.ndarray, label: np.ndarray) -> None:\n",
    "        self.data = data\n",
    "        \n",
    "        # metadata\n",
    "        self.label = label\n",
    "\n",
    "    # abstract method (required)\n",
    "    def get_data(self) -> str:\n",
    "        return self.data\n",
    "\n",
    "    # other methods\n",
    "    def get_labels(self) -> int:\n",
    "        return self.label\n",
    "\n",
    "    def __len__(self):\n",
    "        return len(self.data)"
   ]
  },
  {
   "cell_type": "code",
   "execution_count": 5,
   "metadata": {},
   "outputs": [
    {
     "name": "stdout",
     "output_type": "stream",
     "text": [
      "Example Sample:\n",
      ".@wesley83 I have a 3G iPhone. After 3 hrs tweeting at #RISE_Austin, it was dead!  I need to upgrade. Plugin stations at #SXSW.\n",
      "Label: Negative emotion\n",
      "Length: 127\n"
     ]
    }
   ],
   "source": [
    "# input must be a single sample\n",
    "tweet, label = tweet_data[0], tweet_labels[0]\n",
    "\n",
    "base_entity = BasicEntity(tweet, label)\n",
    "\n",
    "print(f'Example Sample:\\n{base_entity.get_data()}\\nLabel: {base_entity.get_labels()}\\nLength: {len(base_entity)}')\n"
   ]
  },
  {
   "cell_type": "markdown",
   "metadata": {},
   "source": [
    "### Image Entity"
   ]
  },
  {
   "cell_type": "code",
   "execution_count": 6,
   "metadata": {},
   "outputs": [],
   "source": [
    "# Subclass of Entity class that requires the user to implement get_mask() method. (defines mask region over image)\n",
    "\n",
    "class MnistEntity(image_entity.ImageEntity):\n",
    "\n",
    "    def __init__(self, data: np.ndarray, label: np.ndarray, mask: np.ndarray) -> None:\n",
    "        self.data = data\n",
    "        self.mask = mask\n",
    "\n",
    "        # metadata\n",
    "        self.label = label\n",
    "\n",
    "    # abstract methods (required)\n",
    "    def get_data(self) -> np.ndarray:\n",
    "        return self.data\n",
    "\n",
    "    def get_mask(self) -> np.ndarray:\n",
    "        return self.mask\n",
    "\n",
    "    # other methods\n",
    "    def get_label(self) -> int:\n",
    "        return self.label\n",
    "\n",
    "    def get_shape(self) -> tuple:\n",
    "        return self.data.shape\n"
   ]
  },
  {
   "cell_type": "code",
   "execution_count": 7,
   "metadata": {},
   "outputs": [
    {
     "name": "stdout",
     "output_type": "stream",
     "text": [
      "Example Sample:\n",
      "[[  0   0   0   0   0   0   0   0   0   0   0   0   0   0   0   0   0   0   0   0   0   0   0   0   0   0   0   0]\n",
      " [  0   0   0   0   0   0   0   0   0   0   0   0   0   0   0   0   0   0   0   0   0   0   0   0   0   0   0   0]\n",
      " [  0   0   0   0   0   0   0   0   0   0   0   0   0   0   0   0   0   0   0   0   0   0   0   0   0   0   0   0]\n",
      " [  0   0   0   0   0   0   0   0   0   0   0   0   0   0   0   0   0   0   0   0   0   0   0   0   0   0   0   0]\n",
      " [  0   0   0   0   0   0   0   0   0   0   0   0   0   0   0   0   0   0   0   0   0   0   0   0   0   0   0   0]\n",
      " [  0   0   0   0   0   0   0   0   0   0   0   0   3  18  18  18 126 136 175  26 166 255 247 127   0   0   0   0]\n",
      " [  0   0   0   0   0   0   0   0  30  36  94 154 170 253 253 253 253 253 225 172 253 242 195  64   0   0   0   0]\n",
      " [  0   0   0   0   0   0   0  49 238 253 253 253 253 253 253 253 253 251  93  82  82  56  39   0   0   0   0   0]\n",
      " [  0   0   0   0   0   0   0  18 219 253 253 253 253 253 198 182 247 241   0   0   0   0   0   0   0   0   0   0]\n",
      " [  0   0   0   0   0   0   0   0  80 156 107 253 253 205  11   0  43 154   0   0   0   0   0   0   0   0   0   0]\n",
      " [  0   0   0   0   0   0   0   0   0  14   1 154 253  90   0   0   0   0   0   0   0   0   0   0   0   0   0   0]\n",
      " [  0   0   0   0   0   0   0   0   0   0   0 139 253 190   2   0   0   0   0   0   0   0   0   0   0   0   0   0]\n",
      " [  0   0   0   0   0   0   0   0   0   0   0  11 190 253  70   0   0   0   0   0   0   0   0   0   0   0   0   0]\n",
      " [  0   0   0   0   0   0   0   0   0   0   0   0  35 241 225 160 108   1   0   0   0   0   0   0   0   0   0   0]\n",
      " [  0   0   0   0   0   0   0   0   0   0   0   0   0  81 240 253 253 119  25   0   0   0   0   0   0   0   0   0]\n",
      " [  0   0   0   0   0   0   0   0   0   0   0   0   0   0  45 186 253 253 150  27   0   0   0   0   0   0   0   0]\n",
      " [  0   0   0   0   0   0   0   0   0   0   0   0   0   0   0  16  93 252 253 187   0   0   0   0   0   0   0   0]\n",
      " [  0   0   0   0   0   0   0   0   0   0   0   0   0   0   0   0   0 249 253 249  64   0   0   0   0   0   0   0]\n",
      " [  0   0   0   0   0   0   0   0   0   0   0   0   0   0  46 130 183 253 253 207   2   0   0   0   0   0   0   0]\n",
      " [  0   0   0   0   0   0   0   0   0   0   0   0  39 148 229 253 253 253 250 182   0   0   0   0   0   0   0   0]\n",
      " [  0   0   0   0   0   0   0   0   0   0  24 114 221 253 253 253 253 201  78   0   0   0   0   0   0   0   0   0]\n",
      " [  0   0   0   0   0   0   0   0  23  66 213 253 253 253 253 198  81   2   0   0   0   0   0   0   0   0   0   0]\n",
      " [  0   0   0   0   0   0  18 171 219 253 253 253 253 195  80   9   0   0   0   0   0   0   0   0   0   0   0   0]\n",
      " [  0   0   0   0  55 172 226 253 253 253 253 244 133  11   0   0   0   0   0   0   0   0   0   0   0   0   0   0]\n",
      " [  0   0   0   0 136 253 253 253 212 135 132  16   0   0   0   0   0   0   0   0   0   0   0   0   0   0   0   0]\n",
      " [  0   0   0   0   0   0   0   0   0   0   0   0   0   0   0   0   0   0   0   0   0   0   0   0   0   0   0   0]\n",
      " [  0   0   0   0   0   0   0   0   0   0   0   0   0   0   0   0   0   0   0   0   0   0   0   0   0   0   0   0]\n",
      " [  0   0   0   0   0   0   0   0   0   0   0   0   0   0   0   0   0   0   0   0   0   0   0   0   0   0   0   0]]\n",
      "Label: 5\n",
      "Shape: (28, 28)\n",
      "Mask:\n",
      "[[0. 0. 0. 0. 0. 0. 0. 0. 0. 0. 0. 0. 0. 0. 0. 0. 0. 0. 0. 0. 0. 0. 0. 0. 0. 0. 0. 0.]\n",
      " [0. 0. 0. 0. 0. 0. 0. 0. 0. 0. 0. 0. 0. 0. 0. 0. 0. 0. 0. 0. 0. 0. 0. 0. 0. 0. 0. 0.]\n",
      " [0. 0. 0. 0. 0. 0. 0. 0. 0. 0. 0. 0. 0. 0. 0. 0. 0. 0. 0. 0. 0. 0. 0. 0. 0. 0. 0. 0.]\n",
      " [0. 0. 0. 0. 0. 0. 0. 0. 0. 0. 0. 0. 0. 0. 0. 0. 0. 0. 0. 0. 0. 0. 0. 0. 0. 0. 0. 0.]\n",
      " [0. 0. 0. 0. 0. 0. 0. 0. 0. 0. 0. 0. 0. 0. 0. 0. 0. 0. 0. 0. 0. 0. 0. 0. 0. 0. 0. 0.]\n",
      " [0. 0. 0. 0. 0. 0. 0. 0. 0. 0. 0. 0. 0. 0. 0. 0. 0. 0. 0. 0. 0. 0. 0. 0. 0. 0. 0. 0.]\n",
      " [0. 0. 0. 0. 0. 0. 0. 0. 0. 0. 0. 0. 0. 0. 0. 0. 0. 0. 0. 0. 0. 0. 0. 0. 0. 0. 0. 0.]\n",
      " [0. 0. 0. 0. 0. 0. 0. 0. 0. 0. 0. 0. 0. 0. 0. 0. 0. 0. 0. 0. 0. 0. 0. 0. 0. 0. 0. 0.]\n",
      " [0. 0. 0. 0. 0. 0. 0. 0. 0. 0. 0. 0. 0. 0. 0. 0. 0. 0. 0. 0. 0. 0. 0. 0. 0. 0. 0. 0.]\n",
      " [0. 0. 0. 0. 0. 0. 0. 0. 0. 0. 0. 0. 0. 0. 0. 0. 0. 0. 0. 0. 0. 0. 0. 0. 0. 0. 0. 0.]\n",
      " [0. 0. 0. 0. 0. 0. 0. 0. 0. 0. 0. 0. 0. 0. 0. 0. 0. 0. 0. 0. 0. 0. 0. 0. 0. 0. 0. 0.]\n",
      " [0. 0. 0. 0. 0. 0. 0. 0. 0. 0. 0. 0. 0. 0. 0. 0. 0. 0. 0. 0. 0. 0. 0. 0. 0. 0. 0. 0.]\n",
      " [0. 0. 0. 0. 0. 0. 0. 0. 0. 0. 0. 0. 0. 0. 0. 0. 0. 0. 0. 0. 0. 0. 0. 0. 0. 0. 0. 0.]\n",
      " [0. 0. 0. 0. 0. 0. 0. 0. 0. 0. 0. 0. 0. 0. 0. 0. 0. 0. 0. 0. 0. 0. 0. 0. 0. 0. 0. 0.]\n",
      " [0. 0. 0. 0. 0. 0. 0. 0. 0. 0. 0. 0. 0. 0. 0. 0. 0. 0. 0. 0. 0. 0. 0. 0. 0. 0. 0. 0.]\n",
      " [0. 0. 0. 0. 0. 0. 0. 0. 0. 0. 0. 0. 0. 0. 0. 0. 0. 0. 0. 0. 0. 0. 0. 0. 0. 0. 0. 0.]\n",
      " [0. 0. 0. 0. 0. 0. 0. 0. 0. 0. 0. 0. 0. 0. 0. 0. 0. 0. 0. 0. 0. 0. 0. 0. 0. 0. 0. 0.]\n",
      " [0. 0. 0. 0. 0. 0. 0. 0. 0. 0. 0. 0. 0. 0. 0. 0. 0. 0. 0. 0. 0. 0. 0. 0. 0. 0. 0. 0.]\n",
      " [0. 0. 0. 0. 0. 0. 0. 0. 0. 0. 0. 0. 0. 0. 0. 0. 0. 0. 0. 0. 0. 0. 0. 0. 0. 0. 0. 0.]\n",
      " [0. 0. 0. 0. 0. 0. 0. 0. 0. 0. 0. 0. 0. 0. 0. 0. 0. 0. 0. 0. 0. 0. 0. 0. 0. 0. 0. 0.]\n",
      " [0. 0. 0. 0. 0. 0. 0. 0. 0. 0. 0. 0. 0. 0. 0. 0. 0. 0. 0. 0. 0. 0. 0. 0. 0. 0. 0. 0.]\n",
      " [0. 0. 0. 0. 0. 0. 0. 0. 0. 0. 0. 0. 0. 0. 0. 0. 0. 0. 0. 0. 0. 0. 0. 0. 0. 0. 0. 0.]\n",
      " [0. 0. 0. 0. 0. 0. 0. 0. 0. 0. 0. 0. 0. 0. 0. 0. 0. 0. 0. 0. 0. 0. 0. 0. 0. 0. 0. 0.]\n",
      " [0. 0. 0. 0. 0. 0. 0. 0. 0. 0. 0. 0. 0. 0. 0. 0. 0. 0. 0. 0. 0. 0. 0. 0. 0. 0. 0. 0.]\n",
      " [0. 0. 0. 0. 0. 0. 0. 0. 0. 0. 0. 0. 0. 0. 0. 0. 0. 0. 0. 0. 0. 0. 0. 0. 0. 0. 0. 0.]\n",
      " [0. 0. 0. 0. 0. 0. 0. 0. 0. 0. 0. 0. 0. 0. 0. 0. 0. 0. 0. 0. 0. 0. 0. 0. 0. 0. 0. 0.]\n",
      " [0. 0. 0. 0. 0. 0. 0. 0. 0. 0. 0. 0. 0. 0. 0. 0. 0. 0. 0. 0. 0. 0. 0. 0. 0. 0. 0. 0.]\n",
      " [0. 0. 0. 0. 0. 0. 0. 0. 0. 0. 0. 0. 0. 0. 0. 0. 0. 0. 0. 0. 0. 0. 0. 0. 0. 0. 0. 0.]]\n"
     ]
    }
   ],
   "source": [
    "image, label = mnist_data[0], mnist_labels[0]\n",
    "mask = np.zeros(shape=image.shape)\n",
    "\n",
    "mnist_entity = MnistEntity(image, label, mask)\n",
    "\n",
    "print(f'Example Sample:\\n{mnist_entity.get_data()}\\nLabel: {mnist_entity.get_label()}\\nShape: {mnist_entity.get_shape()}\\nMask:\\n{mnist_entity.get_mask()}')"
   ]
  },
  {
   "cell_type": "markdown",
   "metadata": {},
   "source": [
    "### Generic Image Entity"
   ]
  },
  {
   "cell_type": "code",
   "execution_count": 8,
   "metadata": {},
   "outputs": [
    {
     "name": "stderr",
     "output_type": "stream",
     "text": [
      "Unknown Mask input - must be either None of a numpy.ndarray of same shape as arr_input\n"
     ]
    },
    {
     "name": "stdout",
     "output_type": "stream",
     "text": [
      "Example Sample:\n",
      "[[  0   0   0   0   0   0   0   0   0   0   0   0   0   0   0   0   0   0   0   0   0   0   0   0   0   0   0   0]\n",
      " [  0   0   0   0   0   0   0   0   0   0   0   0   0   0   0   0   0   0   0   0   0   0   0   0   0   0   0   0]\n",
      " [  0   0   0   0   0   0   0   0   0   0   0   0   0   0   0   0   0   0   0   0   0   0   0   0   0   0   0   0]\n",
      " [  0   0   0   0   0   0   0   0   0   0   0   0   0   0   0   0   0   0   0   0   0   0   0   0   0   0   0   0]\n",
      " [  0   0   0   0   0   0   0   0   0   0   0   0   0   0   0   0   0   0   0   0   0   0   0   0   0   0   0   0]\n",
      " [  0   0   0   0   0   0   0   0   0   0   0   0   3  18  18  18 126 136 175  26 166 255 247 127   0   0   0   0]\n",
      " [  0   0   0   0   0   0   0   0  30  36  94 154 170 253 253 253 253 253 225 172 253 242 195  64   0   0   0   0]\n",
      " [  0   0   0   0   0   0   0  49 238 253 253 253 253 253 253 253 253 251  93  82  82  56  39   0   0   0   0   0]\n",
      " [  0   0   0   0   0   0   0  18 219 253 253 253 253 253 198 182 247 241   0   0   0   0   0   0   0   0   0   0]\n",
      " [  0   0   0   0   0   0   0   0  80 156 107 253 253 205  11   0  43 154   0   0   0   0   0   0   0   0   0   0]\n",
      " [  0   0   0   0   0   0   0   0   0  14   1 154 253  90   0   0   0   0   0   0   0   0   0   0   0   0   0   0]\n",
      " [  0   0   0   0   0   0   0   0   0   0   0 139 253 190   2   0   0   0   0   0   0   0   0   0   0   0   0   0]\n",
      " [  0   0   0   0   0   0   0   0   0   0   0  11 190 253  70   0   0   0   0   0   0   0   0   0   0   0   0   0]\n",
      " [  0   0   0   0   0   0   0   0   0   0   0   0  35 241 225 160 108   1   0   0   0   0   0   0   0   0   0   0]\n",
      " [  0   0   0   0   0   0   0   0   0   0   0   0   0  81 240 253 253 119  25   0   0   0   0   0   0   0   0   0]\n",
      " [  0   0   0   0   0   0   0   0   0   0   0   0   0   0  45 186 253 253 150  27   0   0   0   0   0   0   0   0]\n",
      " [  0   0   0   0   0   0   0   0   0   0   0   0   0   0   0  16  93 252 253 187   0   0   0   0   0   0   0   0]\n",
      " [  0   0   0   0   0   0   0   0   0   0   0   0   0   0   0   0   0 249 253 249  64   0   0   0   0   0   0   0]\n",
      " [  0   0   0   0   0   0   0   0   0   0   0   0   0   0  46 130 183 253 253 207   2   0   0   0   0   0   0   0]\n",
      " [  0   0   0   0   0   0   0   0   0   0   0   0  39 148 229 253 253 253 250 182   0   0   0   0   0   0   0   0]\n",
      " [  0   0   0   0   0   0   0   0   0   0  24 114 221 253 253 253 253 201  78   0   0   0   0   0   0   0   0   0]\n",
      " [  0   0   0   0   0   0   0   0  23  66 213 253 253 253 253 198  81   2   0   0   0   0   0   0   0   0   0   0]\n",
      " [  0   0   0   0   0   0  18 171 219 253 253 253 253 195  80   9   0   0   0   0   0   0   0   0   0   0   0   0]\n",
      " [  0   0   0   0  55 172 226 253 253 253 253 244 133  11   0   0   0   0   0   0   0   0   0   0   0   0   0   0]\n",
      " [  0   0   0   0 136 253 253 253 212 135 132  16   0   0   0   0   0   0   0   0   0   0   0   0   0   0   0   0]\n",
      " [  0   0   0   0   0   0   0   0   0   0   0   0   0   0   0   0   0   0   0   0   0   0   0   0   0   0   0   0]\n",
      " [  0   0   0   0   0   0   0   0   0   0   0   0   0   0   0   0   0   0   0   0   0   0   0   0   0   0   0   0]\n",
      " [  0   0   0   0   0   0   0   0   0   0   0   0   0   0   0   0   0   0   0   0   0   0   0   0   0   0   0   0]]\n",
      "Mask:\n",
      "[[0 0 0 0 0 0 0 0 0 0 0 0 0 0 0 0 0 0 0 0 0 0 0 0 0 0 0 0]\n",
      " [0 0 0 0 0 0 0 0 0 0 0 0 0 0 0 0 0 0 0 0 0 0 0 0 0 0 0 0]\n",
      " [0 0 0 0 0 0 0 0 0 0 0 0 0 0 0 0 0 0 0 0 0 0 0 0 0 0 0 0]\n",
      " [0 0 0 0 0 0 0 0 0 0 0 0 0 0 0 0 0 0 0 0 0 0 0 0 0 0 0 0]\n",
      " [0 0 0 0 0 0 0 0 0 0 0 0 0 0 0 0 0 0 0 0 0 0 0 0 0 0 0 0]\n",
      " [0 0 0 0 0 0 0 0 0 0 0 0 0 0 0 0 0 0 0 0 0 0 0 0 0 0 0 0]\n",
      " [0 0 0 0 0 0 0 0 0 0 0 0 0 0 0 0 0 0 0 0 0 0 0 0 0 0 0 0]\n",
      " [0 0 0 0 0 0 0 0 0 0 0 0 0 0 0 0 0 0 0 0 0 0 0 0 0 0 0 0]\n",
      " [0 0 0 0 0 0 0 0 0 0 0 0 0 0 0 0 0 0 0 0 0 0 0 0 0 0 0 0]\n",
      " [0 0 0 0 0 0 0 0 0 0 0 0 0 0 0 0 0 0 0 0 0 0 0 0 0 0 0 0]\n",
      " [0 0 0 0 0 0 0 0 0 0 0 0 0 0 0 0 0 0 0 0 0 0 0 0 0 0 0 0]\n",
      " [0 0 0 0 0 0 0 0 0 0 0 0 0 0 0 0 0 0 0 0 0 0 0 0 0 0 0 0]\n",
      " [0 0 0 0 0 0 0 0 0 0 0 0 0 0 0 0 0 0 0 0 0 0 0 0 0 0 0 0]\n",
      " [0 0 0 0 0 0 0 0 0 0 0 0 0 0 0 0 0 0 0 0 0 0 0 0 0 0 0 0]\n",
      " [0 0 0 0 0 0 0 0 0 0 0 0 0 0 0 0 0 0 0 0 0 0 0 0 0 0 0 0]\n",
      " [0 0 0 0 0 0 0 0 0 0 0 0 0 0 0 0 0 0 0 0 0 0 0 0 0 0 0 0]\n",
      " [0 0 0 0 0 0 0 0 0 0 0 0 0 0 0 0 0 0 0 0 0 0 0 0 0 0 0 0]\n",
      " [0 0 0 0 0 0 0 0 0 0 0 0 0 0 0 0 0 0 0 0 0 0 0 0 0 0 0 0]\n",
      " [0 0 0 0 0 0 0 0 0 0 0 0 0 0 0 0 0 0 0 0 0 0 0 0 0 0 0 0]\n",
      " [0 0 0 0 0 0 0 0 0 0 0 0 0 0 0 0 0 0 0 0 0 0 0 0 0 0 0 0]\n",
      " [0 0 0 0 0 0 0 0 0 0 0 0 0 0 0 0 0 0 0 0 0 0 0 0 0 0 0 0]\n",
      " [0 0 0 0 0 0 0 0 0 0 0 0 0 0 0 0 0 0 0 0 0 0 0 0 0 0 0 0]\n",
      " [0 0 0 0 0 0 0 0 0 0 0 0 0 0 0 0 0 0 0 0 0 0 0 0 0 0 0 0]\n",
      " [0 0 0 0 0 0 0 0 0 0 0 0 0 0 0 0 0 0 0 0 0 0 0 0 0 0 0 0]\n",
      " [0 0 0 0 0 0 0 0 0 0 0 0 0 0 0 0 0 0 0 0 0 0 0 0 0 0 0 0]\n",
      " [0 0 0 0 0 0 0 0 0 0 0 0 0 0 0 0 0 0 0 0 0 0 0 0 0 0 0 0]\n",
      " [0 0 0 0 0 0 0 0 0 0 0 0 0 0 0 0 0 0 0 0 0 0 0 0 0 0 0 0]\n",
      " [0 0 0 0 0 0 0 0 0 0 0 0 0 0 0 0 0 0 0 0 0 0 0 0 0 0 0 0]]\n",
      "Unknown Mask input - must be either None of a numpy.ndarray of same shape as arr_input\n"
     ]
    }
   ],
   "source": [
    "# requires a mask to be as same size as img\n",
    "mnist_generic_entity = image_entity.GenericImageEntity(data=image, mask=mask)\n",
    "\n",
    "print(f'Example Sample:\\n{mnist_generic_entity.get_data()}\\nMask:\\n{mnist_generic_entity.get_mask().astype(int)}')\n",
    "\n",
    "bad_mask = np.zeros(shape=(27, 28))\n",
    "try:\n",
    "    mnist_generic_entity = image_entity.GenericImageEntity(data=image, mask=bad_mask)\n",
    "except ValueError as e:\n",
    "    print(e)"
   ]
  },
  {
   "cell_type": "markdown",
   "metadata": {},
   "source": [
    "### Text Entity"
   ]
  },
  {
   "cell_type": "code",
   "execution_count": 9,
   "metadata": {},
   "outputs": [],
   "source": [
    "# requires a string of text and a few abstract methods (required)\n",
    "\n",
    "class TweetEntity(text_entity.TextEntity):\n",
    "\n",
    "    def __init__(self, text: str, label: int) -> None:\n",
    "        self.text = text\n",
    "        self.data = None # dllist\n",
    "        self.delimiters = None # dllist\n",
    "\n",
    "        # metadata\n",
    "        self.label = label\n",
    "\n",
    "    # abstract methods required\n",
    "    def get_text(self) -> str:\n",
    "        return self.text\n",
    "\n",
    "    def get_data(self) -> list:\n",
    "        return self.data\n",
    "\n",
    "    def get_delimiters(self) -> list:\n",
    "        return self.delimiters\n",
    "\n",
    "    # other method\n",
    "    def get_label(self) -> int:\n",
    "        return self.label\n"
   ]
  },
  {
   "cell_type": "markdown",
   "metadata": {},
   "source": [
    "### Generic Text Entity"
   ]
  },
  {
   "cell_type": "code",
   "execution_count": 10,
   "metadata": {},
   "outputs": [
    {
     "name": "stdout",
     "output_type": "stream",
     "text": [
      "Example Sample: Oh. My. God. The #SXSW app for iPad is pure, unadulterated awesome. It's easier to browse events on iPad than on the website!! !\n",
      "Data:\n",
      "dllist([dllist([Oh.]), dllist([My.]), dllist([God.]), dllist([The, #SXSW, app, for, iPad, is, pure,, unadulterated, awesome.]), dllist([It's, easier, to, browse, events, on, iPad, than, on, the, website!!]), dllist([!])])\n",
      "Delimiters:\n",
      "dllist([dllist(), dllist(), dllist(), dllist([[6, ',']]), dllist(), dllist()])\n"
     ]
    }
   ],
   "source": [
    "text = tweet_data[18]\n",
    "\n",
    "generic_tweet_entity = text_entity.GenericTextEntity(input_text=text)\n",
    "\n",
    "print(f'Example Sample: {generic_tweet_entity.get_text()}\\nData:\\n{generic_tweet_entity.get_data()}\\nDelimiters:\\n{generic_tweet_entity.get_delimiters()}')"
   ]
  },
  {
   "cell_type": "markdown",
   "metadata": {},
   "source": [
    "### Transforms"
   ]
  },
  {
   "cell_type": "code",
   "execution_count": 11,
   "metadata": {},
   "outputs": [],
   "source": [
    "import trojai.datagen.transform_interface as transform_interface\n",
    "\n",
    "# package includes a base transforms class 'Transform', an image Transform class 'ImageTransform', and a text Transform class 'TextTransform'\n",
    "# all classes share the same abstract method do() which peforms the transformation & returns the transformed data passed into the method"
   ]
  },
  {
   "cell_type": "markdown",
   "metadata": {},
   "source": [
    "### Base Transform Class"
   ]
  },
  {
   "cell_type": "code",
   "execution_count": 12,
   "metadata": {},
   "outputs": [],
   "source": [
    "class GreyScaleImageTransform(transform_interface.Transform):\n",
    "\n",
    "    def do(self, obj: entity.Entity, random_state_obj: np.random.RandomState = None) -> entity.Entity:\n",
    "        img = obj.get_data()\n",
    "        label = None\n",
    "        r, g, b = img[:,:,0], img[:,:,1], img[:,:,2]\n",
    "        gray = 0.2989 * r + 0.5870 * g + 0.1140 * b\n",
    "        return BasicEntity(gray, label)"
   ]
  },
  {
   "cell_type": "code",
   "execution_count": 13,
   "metadata": {},
   "outputs": [
    {
     "name": "stdout",
     "output_type": "stream",
     "text": [
      "Before:\n",
      "[[[243 163  51]\n",
      "  [ 29 121 185]\n",
      "  [ 83 214 108]\n",
      "  [ 13 240 172]\n",
      "  [ 91   3 109]]\n",
      "\n",
      " [[254 151 152]\n",
      "  [119 152 215]\n",
      "  [230 127 222]\n",
      "  [ 73 159 147]\n",
      "  [204  17 254]]\n",
      "\n",
      " [[ 95 203 215]\n",
      "  [159 133 140]\n",
      "  [ 41 225  99]\n",
      "  [223 209  42]\n",
      "  [120 169  87]]\n",
      "\n",
      " [[ 66 174 113]\n",
      "  [ 85 136 100]\n",
      "  [ 83 213  41]\n",
      "  [229 245  78]\n",
      "  [185 160 229]]\n",
      "\n",
      " [[  0  12 145]\n",
      "  [171 168 124]\n",
      "  [141 176  24]\n",
      "  [195  86 184]\n",
      "  [ 84 217  81]]]\n",
      "After:\n",
      "[[174.1277 100.7851 162.7387 164.3737  41.3869]\n",
      " [181.8856 149.3031 168.604  131.9107  99.9106]\n",
      " [172.0665 141.5561 155.6159 194.1257 144.989 ]\n",
      " [134.7474 116.6385 154.5137 221.1551 175.3225]\n",
      " [ 23.574  163.8639 148.1929 129.7435 161.7206]]\n"
     ]
    },
    {
     "data": {
      "image/png": "[encoded data removed]",
      "text/plain": [
       "<Figure size 432x288 with 1 Axes>"
      ]
     },
     "metadata": {
      "needs_background": "light"
     },
     "output_type": "display_data"
    },
    {
     "data": {
      "image/png": "[encoded data removed]",
      "text/plain": [
       "<Figure size 432x288 with 1 Axes>"
      ]
     },
     "metadata": {
      "needs_background": "light"
     },
     "output_type": "display_data"
    }
   ],
   "source": [
    "random_image = np.random.randint(0, 256, size=(5, 5, 3)) # generate random image\n",
    "basic_image_entity = BasicEntity(data=random_image, label=0) # create basic entity\n",
    "before = basic_image_entity.get_data()\n",
    "transformed_image_entity = GreyScaleImageTransform().do(basic_image_entity) # apply transformation\n",
    "after = transformed_image_entity.get_data()\n",
    "\n",
    "print(f'Before:\\n{before}\\nAfter:\\n{after}')\n",
    "plt.imshow(before, cmap='rainbow')\n",
    "plt.show()\n",
    "plt.imshow(after, cmap='gray')\n",
    "plt.show()"
   ]
  },
  {
   "cell_type": "markdown",
   "metadata": {},
   "source": [
    "### Image Tranforms"
   ]
  },
  {
   "cell_type": "code",
   "execution_count": 14,
   "metadata": {},
   "outputs": [],
   "source": [
    "# Similar to the Basic Transforms class just needs to return an GenericImageEntity object\n",
    "\n",
    "class MnistImageRotateTransform(transform_interface.ImageTransform):\n",
    "\n",
    "    def do (self, image_obj: image_entity.ImageEntity, random_state_obj: np.random.RandomState = None) -> image_entity.ImageEntity:\n",
    "        img = image_obj.get_data()\n",
    "        mask = image_obj.get_mask()\n",
    "        rotations = random_state_obj.random_integers(low=1, high=3, size=1)\n",
    "        img = np.rot90(img, k=rotations)\n",
    "        return image_entity.GenericImageEntity(data=img, mask=mask)"
   ]
  },
  {
   "cell_type": "code",
   "execution_count": 15,
   "metadata": {},
   "outputs": [
    {
     "name": "stderr",
     "output_type": "stream",
     "text": [
      "/tmp/ipykernel_169501/1702556141.py:8: DeprecationWarning: This function is deprecated. Please call randint(1, 3 + 1) instead\n",
      "  rotations = random_state_obj.random_integers(low=1, high=3, size=1)\n"
     ]
    },
    {
     "data": {
      "image/png": "[encoded data removed]",
      "text/plain": [
       "<Figure size 432x288 with 1 Axes>"
      ]
     },
     "metadata": {
      "needs_background": "light"
     },
     "output_type": "display_data"
    },
    {
     "data": {
      "image/png": "[encoded data removed]",
      "text/plain": [
       "<Figure size 432x288 with 1 Axes>"
      ]
     },
     "metadata": {
      "needs_background": "light"
     },
     "output_type": "display_data"
    }
   ],
   "source": [
    "rs = np.random.RandomState(seed=1)\n",
    "mask = np.zeros(shape=(28, 28))\n",
    "generic_mnist_entity = image_entity.GenericImageEntity(data=mnist_data[0], mask=mask)\n",
    "rotated_mnist_entity = MnistImageRotateTransform().do(image_obj=generic_mnist_entity, random_state_obj=rs)\n",
    "\n",
    "plt.imshow(generic_mnist_entity.get_data(), cmap='gray')\n",
    "plt.show()\n",
    "plt.imshow(rotated_mnist_entity.get_data(), cmap='gray')\n",
    "plt.show()"
   ]
  },
  {
   "cell_type": "markdown",
   "metadata": {},
   "source": [
    "### Text Tranforms"
   ]
  },
  {
   "cell_type": "code",
   "execution_count": 16,
   "metadata": {},
   "outputs": [],
   "source": [
    "from string import punctuation\n",
    "# Just like the basic Tranforms class and ImageTransform class, the Texttransform class transforms text data and returns a TextEntity\n",
    "\n",
    "class RemovePunctuationTransform(transform_interface.TextTransform):\n",
    "\n",
    "    def do(self, text_obj: text_entity.TextEntity, random_state_obj: np.random.RandomState=None) -> text_entity.TextEntity:\n",
    "        seq = text_obj.get_text().split()\n",
    "        for i in range(len(seq)):\n",
    "            word = seq[i]\n",
    "            seq[i] = self.remove_punctuation(word)\n",
    "        text = ' '.join(seq)\n",
    "        return text_entity.GenericTextEntity(text)\n",
    "\n",
    "    def remove_punctuation(self, word: str) -> str:\n",
    "        w = ''\n",
    "        for char in word:\n",
    "            w += char if char not in punctuation else ''\n",
    "        return w"
   ]
  },
  {
   "cell_type": "code",
   "execution_count": 17,
   "metadata": {},
   "outputs": [
    {
     "name": "stdout",
     "output_type": "stream",
     "text": [
      "Before Transformation: . @wesley83 I have a 3G iPhone. After 3 hrs tweeting at #RISE_Austin, it was dead! I need to upgrade. Plugin stations at #SXSW.\n",
      "After Transformation: wesley83 I have a 3G iPhone After 3 hrs tweeting at RISEAustin it was dead I need to upgrade Plugin stations at SXSW\n"
     ]
    }
   ],
   "source": [
    "tweet_text_entity = text_entity.GenericTextEntity(tweet_data[0])\n",
    "tweet_without_punc_entity = RemovePunctuationTransform().do(text_obj=tweet_text_entity)\n",
    "\n",
    "print(f'Before Transformation: {tweet_text_entity.get_text()}')\n",
    "\n",
    "print(f'After Transformation: {tweet_without_punc_entity.get_text()}')"
   ]
  },
  {
   "cell_type": "code",
   "execution_count": 18,
   "metadata": {},
   "outputs": [],
   "source": [
    "# There is also other transformations that are already defined by the trojai API that can peform tranformations on images or text"
   ]
  },
  {
   "cell_type": "markdown",
   "metadata": {},
   "source": [
    "### Merging"
   ]
  },
  {
   "cell_type": "code",
   "execution_count": 19,
   "metadata": {},
   "outputs": [],
   "source": [
    "import trojai.datagen.merge_interface as merge_interface\n",
    "# Merging is a way to combine two Entity Objects into one. It's up to you to create an algo that can Merge your Entities"
   ]
  },
  {
   "cell_type": "code",
   "execution_count": 20,
   "metadata": {},
   "outputs": [],
   "source": [
    "# Basic Merge Class to combine two Entities\n",
    "\n",
    "class ExtendImageMerge(merge_interface.Merge):\n",
    "\n",
    "    def do(self, obj_1: entity.Entity, obj_2: entity.Entity, random_state_obj: np.random.RandomState=None) -> entity.Entity:\n",
    "        label = obj_1.get_label()\n",
    "        mask = obj_1.get_mask()\n",
    "        img_1, img_2 = obj_1.get_data(), obj_2.get_data()\n",
    "        new_img = []\n",
    "        if img_1.shape != img_2.shape:\n",
    "            raise ValueError\n",
    "\n",
    "        for row_1, row_2 in zip(img_1, img_2):\n",
    "            new_img.append(list(row_1) + list(row_2))\n",
    "        new_img = np.array(new_img)\n",
    "        return MnistEntity(data=new_img, label=label, mask=new_img.shape)\n",
    "\n"
   ]
  },
  {
   "cell_type": "code",
   "execution_count": 21,
   "metadata": {},
   "outputs": [
    {
     "data": {
      "image/png": "[encoded data removed]",
      "text/plain": [
       "<Figure size 432x288 with 1 Axes>"
      ]
     },
     "metadata": {
      "needs_background": "light"
     },
     "output_type": "display_data"
    }
   ],
   "source": [
    "# generate random mnist entities\n",
    "image_1, label_1 = mnist_data[0], mnist_labels[0]\n",
    "image_2, label_2 = mnist_data[1], mnist_labels[1]\n",
    "mask = np.zeros(shape=(28, 28))\n",
    "mnist_entity_1 =  MnistEntity(data=image_1, label=label_1, mask=mask)\n",
    "mnist_entity_2 =  MnistEntity(data=image_2, label=label_2, mask=mask)\n",
    "\n",
    "# combine and show entities\n",
    "combined_mnist_entity = ExtendImageMerge().do(obj_1=mnist_entity_1, obj_2=mnist_entity_2)\n",
    "plt.imshow(combined_mnist_entity.get_data(), cmap='gray')\n",
    "plt.show()"
   ]
  },
  {
   "cell_type": "markdown",
   "metadata": {},
   "source": [
    "### ImageMerge"
   ]
  },
  {
   "cell_type": "code",
   "execution_count": 22,
   "metadata": {},
   "outputs": [],
   "source": [
    "# Does same thing as normal merge but returns ImageEntity or Subclass\n",
    "\n",
    "class OverlayNumberTransform(merge_interface.ImageMerge):\n",
    "\n",
    "    def do(self, img_ent_1: image_entity.ImageEntity, img_ent_2: image_entity.ImageEntity, random_state_obj: np.random.RandomState=None) -> image_entity.ImageEntity:\n",
    "        img_1, img_2 = img_ent_1.get_data(), img_ent_2.get_data()\n",
    "        if img_1.shape != img_2.shape:\n",
    "            raise ValueError\n",
    "        img = img_1 + img_2\n",
    "        mask = np.zeros(shape=img.shape)\n",
    "        return image_entity.GenericImageEntity(data=img, mask=mask)"
   ]
  },
  {
   "cell_type": "code",
   "execution_count": 23,
   "metadata": {},
   "outputs": [
    {
     "data": {
      "image/png": "[encoded data removed]",
      "text/plain": [
       "<Figure size 432x288 with 1 Axes>"
      ]
     },
     "metadata": {
      "needs_background": "light"
     },
     "output_type": "display_data"
    }
   ],
   "source": [
    "overlayed_mnist_entity = OverlayNumberTransform().do(mnist_entity_1, mnist_entity_2)\n",
    "\n",
    "plt.imshow(overlayed_mnist_entity.get_data(), cmap='gray')\n",
    "plt.show()"
   ]
  },
  {
   "cell_type": "markdown",
   "metadata": {},
   "source": [
    "### TextMerge"
   ]
  },
  {
   "cell_type": "code",
   "execution_count": 24,
   "metadata": {},
   "outputs": [],
   "source": [
    "# The same as the best Merge class although it returns a TextEntity or Subclass of it\n",
    "\n",
    "class RandomInsertTextMerge(merge_interface.TextMerge):\n",
    "\n",
    "    def do(self, text_ent: text_entity.TextEntity, insertion_ent: text_entity.TextEntity, random_state_obj: np.random.RandomState=None) -> text_entity.TextEntity:\n",
    "        text = np.array(text_ent.get_text().split())\n",
    "        insertion = np.array(insertion_ent.get_text().split())\n",
    "        if random_state_obj:\n",
    "            i = random_state_obj.randint(0, len(text), size=1)\n",
    "        else:\n",
    "            i = np.random.randint(0, len(text))\n",
    "        text = np.insert(text, i, insertion)\n",
    "        text = ' '.join(text)\n",
    "        return text_entity.GenericTextEntity(text)"
   ]
  },
  {
   "cell_type": "code",
   "execution_count": 25,
   "metadata": {},
   "outputs": [
    {
     "name": "stdout",
     "output_type": "stream",
     "text": [
      "Original tweet: . @wesley83 I have a 3G iPhone. After 3 hrs tweeting at #RISE_Austin, it was dead! I need to upgrade. Plugin stations at #SXSW.\n",
      "Insertion text: this is a bad word\n",
      "Merged tweet: . @wesley83 I have a 3G this is a bad word iPhone. After 3 hrs tweeting at #RISE_Austin, it was dead! I need to upgrade. Plugin stations at #SXSW.\n"
     ]
    }
   ],
   "source": [
    "random_state = np.random.RandomState(42)\n",
    "basic_text_entity = text_entity.GenericTextEntity(tweet_data[0])\n",
    "text_insert_entity = text_entity.GenericTextEntity('this is a bad word')\n",
    "merged_text_entity = RandomInsertTextMerge().do(basic_text_entity, text_insert_entity, random_state)\n",
    "\n",
    "print(f'Original tweet: {basic_text_entity.get_text()}')\n",
    "print(f'Insertion text: {text_insert_entity.get_text()}')\n",
    "print(f'Merged tweet: {merged_text_entity.get_text()}')"
   ]
  },
  {
   "cell_type": "code",
   "execution_count": 26,
   "metadata": {},
   "outputs": [],
   "source": [
    "# There's other merge methods that can be used for modify Text or Image Entities"
   ]
  },
  {
   "cell_type": "markdown",
   "metadata": {},
   "source": [
    "### Pipeline"
   ]
  },
  {
   "cell_type": "code",
   "execution_count": 27,
   "metadata": {},
   "outputs": [],
   "source": [
    "import trojai.datagen.pipeline as pipeline\n",
    "import typing\n",
    "# pipeline is a class that peforms a series of Transforms & Merges on Entities.\n",
    "\n",
    "class TextPipeline(pipeline.Pipeline):\n",
    "\n",
    "    def process(self, entlist: typing.Iterable[entity.Entity], modelist: typing.Iterable[entity.Entity], \n",
    "    xforms: typing.Iterable[transform_interface.Transform], merges: typing.Iterable[merge_interface.Merge], \n",
    "    random_state_obj: np.random.RandomState=None) -> typing.Iterable[entity.Entity]:\n",
    "        processed = []\n",
    "        for entity, mod in zip(entlist, modelist):\n",
    "            for tfrm, merge in zip(xforms, merges):\n",
    "                entity = tfrm.do(entity, random_state_obj)\n",
    "                entity = merge.do(entity, mod, random_state_obj)\n",
    "            processed.append(entity)\n",
    "\n",
    "        return processed"
   ]
  },
  {
   "cell_type": "code",
   "execution_count": 28,
   "metadata": {},
   "outputs": [
    {
     "name": "stdout",
     "output_type": "stream",
     "text": [
      "Before Pipeline:\n",
      ". @wesley83 I have a 3G iPhone. After 3 hrs tweeting at #RISE_Austin, it was dead! I need to upgrade. Plugin stations at #SXSW.\n",
      "After Pipeline:\n",
      "wesley83 I have a 3G iPhone After 3 hrs tweeting bad word at RISEAustin it was dead I need to upgrade Plugin stations at SXSW\n",
      "\n",
      "Before Pipeline:\n",
      "@jessedee Know about @fludapp ? Awesome iPad/iPhone app that you'll likely appreciate for its design. Also, they're giving free Ts at #SXSW\n",
      "After Pipeline:\n",
      "jessedee Know about fludapp Awesome iPadiPhone app bad word that youll likely appreciate for its design Also theyre giving free Ts at SXSW\n",
      "\n",
      "Before Pipeline:\n",
      "@swonderlin Can not wait for #iPad 2 also. They should sale them down at #SXSW.\n",
      "After Pipeline:\n",
      "swonderlin Can not wait for bad word iPad 2 also They should sale them down at SXSW\n",
      "\n",
      "Before Pipeline:\n",
      "@sxsw I hope this year's festival isn't as crashy as this year's iPhone app. #sxsw\n",
      "After Pipeline:\n",
      "sxsw I hope this years bad word festival isnt as crashy as this years iPhone app sxsw\n",
      "\n",
      "Before Pipeline:\n",
      "@sxtxstate great stuff on Fri #SXSW: Marissa Mayer (Google), Tim O'Reilly (tech books/conferences) &amp; Matt Mullenweg (Wordpress)\n",
      "After Pipeline:\n",
      "sxtxstate great stuff on Fri SXSW Marissa Mayer Google Tim OReilly tech booksconferences amp Matt Mullenweg bad word Wordpress\n",
      "\n",
      "Before Pipeline:\n",
      "#SXSW is just starting, #CTIA is around the corner and #googleio is only a hop skip and a jump from there, good time to be an #android fan\n",
      "After Pipeline:\n",
      "SXSW is just starting bad word CTIA is around the corner and googleio is only a hop skip and a jump from there good time to be an android fan\n",
      "\n",
      "Before Pipeline:\n",
      "Beautifully smart and simple idea RT @madebymany @thenextweb wrote about our #hollergram iPad app for #sxsw! http://bit.ly/ieaVOB\n",
      "After Pipeline:\n",
      "Beautifully smart and simple idea RT madebymany thenextweb wrote about our hollergram iPad app for sxsw bad word httpbitlyieaVOB\n",
      "\n",
      "Before Pipeline:\n",
      "Counting down the days to #sxsw plus strong Canadian dollar means stock up on Apple gear\n",
      "After Pipeline:\n",
      "bad word Counting down the days to sxsw plus strong Canadian dollar means stock up on Apple gear\n",
      "\n",
      "Before Pipeline:\n",
      "Excited to meet the @samsungmobileus at #sxsw so I can show them my Sprint Galaxy S still running Android 2.1. #fail\n",
      "After Pipeline:\n",
      "Excited to meet the samsungmobileus at sxsw so I can show them bad word my Sprint Galaxy S still running Android 21 fail\n",
      "\n",
      "Before Pipeline:\n",
      "Find &amp; Start Impromptu Parties at #SXSW With @HurricaneParty http://bit.ly/gVLrIn I can't wait til the Android app comes out.\n",
      "After Pipeline:\n",
      "Find amp Start Impromptu Parties at SXSW With HurricaneParty httpbitlygVLrIn I cant wait til the bad word Android app comes out\n",
      "\n"
     ]
    }
   ],
   "source": [
    "entlist = [text_entity.GenericTextEntity(tweet_data[i]) for i in range(10)]\n",
    "modlist = [text_entity.GenericTextEntity('bad word') for i in range(10)]\n",
    "\n",
    "xforms = [RemovePunctuationTransform()]\n",
    "merges = [RandomInsertTextMerge()]\n",
    "\n",
    "processed = TextPipeline().process(entlist, modlist, xforms, merges, None)\n",
    "\n",
    "for i in range(len(processed)):\n",
    "    print(f'Before Pipeline:\\n{entlist[i].get_text()}\\nAfter Pipeline:\\n{processed[i].get_text()}\\n')"
   ]
  }
 ],
 "metadata": {
  "kernelspec": {
   "display_name": "Python 3.8.10 ('backdoor_env': venv)",
   "language": "python",
   "name": "python3"
  },
  "language_info": {
   "codemirror_mode": {
    "name": "ipython",
    "version": 3
   },
   "file_extension": ".py",
   "mimetype": "text/x-python",
   "name": "python",
   "nbconvert_exporter": "python",
   "pygments_lexer": "ipython3",
   "version": "3.8.10"
  },
  "orig_nbformat": 4,
  "vscode": {
   "interpreter": {
    "hash": "91f5593089a39d29b7be4682cd00d4ab41e1e0aeef21da075bd20affb91499cc"
   }
  }
 },
 "nbformat": 4,
 "nbformat_minor": 2
}
